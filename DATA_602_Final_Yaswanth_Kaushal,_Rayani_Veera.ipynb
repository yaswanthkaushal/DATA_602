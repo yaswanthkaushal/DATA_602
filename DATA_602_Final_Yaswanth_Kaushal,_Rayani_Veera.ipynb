{
  "nbformat": 4,
  "nbformat_minor": 0,
  "metadata": {
    "colab": {
      "name": "DATA_602_Final_Yaswanth_Kaushal,_Rayani_Veera.ipynb",
      "provenance": [],
      "collapsed_sections": [
        "JEKBhRE_kvc7",
        "4hNBAFMrkvfN"
      ]
    },
    "kernelspec": {
      "display_name": "Python 3",
      "language": "python",
      "name": "python3"
    },
    "language_info": {
      "codemirror_mode": {
        "name": "ipython",
        "version": 3
      },
      "file_extension": ".py",
      "mimetype": "text/x-python",
      "name": "python",
      "nbconvert_exporter": "python",
      "pygments_lexer": "ipython3",
      "version": "3.7.4"
    }
  },
  "cells": [
    {
      "cell_type": "markdown",
      "metadata": {
        "colab_type": "text",
        "id": "JEKBhRE_kvc7"
      },
      "source": [
        "## Exercise 1: Unsupervised Models (20 points)\n",
        "\n",
        "Question 1. Import the required libraries for a kmeans model. Import make_blobs from\n",
        "the sklearn.datasets.samples_generator."
      ]
    },
    {
      "cell_type": "code",
      "metadata": {
        "colab_type": "code",
        "id": "bhV0dG-8kvdB",
        "colab": {}
      },
      "source": [
        "#reference: https://towardsdatascience.com/machine-learning-algorithms-part-9-k-means-example-in-python-f2ad05ed5203\n",
        "\n",
        "import warnings\n",
        "warnings.filterwarnings('ignore')\n",
        "\n",
        "import numpy as np\n",
        "import pandas as pd\n",
        "from matplotlib import pyplot as plt\n",
        "from sklearn.datasets.samples_generator import make_blobs\n",
        "from sklearn.cluster import KMeans"
      ],
      "execution_count": 0,
      "outputs": []
    },
    {
      "cell_type": "markdown",
      "metadata": {
        "colab_type": "text",
        "id": "84jGdJBMkvdN"
      },
      "source": [
        "Question 2. Define X,y as n_samples=300, centers=4, cluster_std=0.6, and\n",
        "random_state=0."
      ]
    },
    {
      "cell_type": "code",
      "metadata": {
        "colab_type": "code",
        "id": "YxC3ylckkvdP",
        "colab": {}
      },
      "source": [
        "X, y = make_blobs(n_samples=300, centers=4, cluster_std=0.60, random_state=0)"
      ],
      "execution_count": 0,
      "outputs": []
    },
    {
      "cell_type": "markdown",
      "metadata": {
        "colab_type": "text",
        "id": "4vt3OYNBkvdZ"
      },
      "source": [
        "Question 3. Use a scatter plot to show the clusters."
      ]
    },
    {
      "cell_type": "code",
      "metadata": {
        "colab_type": "code",
        "id": "i2RI2TTbkvdb",
        "outputId": "62409285-e25f-4619-8c2e-1199af1e94f5",
        "colab": {
          "base_uri": "https://localhost:8080/",
          "height": 282
        }
      },
      "source": [
        "plt.scatter(X[:,0], X[:,1])"
      ],
      "execution_count": 3,
      "outputs": [
        {
          "output_type": "execute_result",
          "data": {
            "text/plain": [
              "<matplotlib.collections.PathCollection at 0x7fcdd61bab70>"
            ]
          },
          "metadata": {
            "tags": []
          },
          "execution_count": 3
        },
        {
          "output_type": "display_data",
          "data": {
            "image/png": "[encoded data removed]",
            "text/plain": [
              "<Figure size 432x288 with 1 Axes>"
            ]
          },
          "metadata": {
            "tags": [],
            "needs_background": "light"
          }
        }
      ]
    },
    {
      "cell_type": "markdown",
      "metadata": {
        "colab_type": "text",
        "id": "VYXMIoWPkvdm"
      },
      "source": [
        "Question 4. Define ‘within cluster sum of squares’ as wcss[ ].\n",
        "\n",
        "The purpose of this question is to determine the ‘elbow’ value.\n",
        "\n",
        "Define wcss ‘for i in range(1, 11)’ with ‘kmeans = KMeans(n_clusters=i, init='k-means++', max_iter=300, n_init=10,\n",
        "random_state=0).’"
      ]
    },
    {
      "cell_type": "code",
      "metadata": {
        "colab_type": "code",
        "id": "yidU8xIlkvdo",
        "outputId": "4d6a5985-91d8-482b-8613-9c033d88557c",
        "colab": {
          "base_uri": "https://localhost:8080/",
          "height": 295
        }
      },
      "source": [
        "wcss = []\n",
        "\n",
        "for i in range(1, 11):\n",
        "    kmeans = KMeans(n_clusters=i, init='k-means++', max_iter=300, n_init=10, random_state=0)\n",
        "    kmeans.fit(X)\n",
        "    wcss.append(kmeans.inertia_)\n",
        "plt.plot(range(1, 11), wcss)\n",
        "plt.title('Elbow Method')\n",
        "plt.xlabel('Number of clusters')\n",
        "plt.ylabel('WCSS')\n",
        "plt.show()"
      ],
      "execution_count": 4,
      "outputs": [
        {
          "output_type": "display_data",
          "data": {
            "image/png": "[encoded data removed]",
            "text/plain": [
              "<Figure size 432x288 with 1 Axes>"
            ]
          },
          "metadata": {
            "tags": [],
            "needs_background": "light"
          }
        }
      ]
    },
    {
      "cell_type": "markdown",
      "metadata": {
        "colab_type": "text",
        "id": "UzfvJEgpkvdy"
      },
      "source": [
        "Question 5. What is the ‘elbow’ value? What does it mean?"
      ]
    },
    {
      "cell_type": "markdown",
      "metadata": {
        "colab_type": "text",
        "id": "drTMjYS1kvd0"
      },
      "source": [
        "Reference: https://medium.com/analytics-vidhya/how-to-determine-the-optimal-k-for-k-means-708505d204eb\n",
        "\n",
        "https://www.geeksforgeeks.org/elbow-method-for-optimal-value-of-k-in-kmeans/\n",
        "\n",
        "\n",
        "'elbow' value is at k = 4\n",
        "\n",
        "To determine the optimal number of clusters, we have to select the value of k at the “elbow” ie the point after which the distortion/inertia start decreasing in a linear fashion. Thus for the given data, we conclude that the optimal number of clusters for the data is 4."
      ]
    },
    {
      "cell_type": "markdown",
      "metadata": {
        "colab_type": "text",
        "id": "g7jQ9eZRkvd1"
      },
      "source": [
        "Question 6. Now that you have determined the number of clusters, add the\n",
        "‘cluster_centers_’ for each cluster in a plot."
      ]
    },
    {
      "cell_type": "code",
      "metadata": {
        "colab_type": "code",
        "id": "bzpTj0A6kvd3",
        "outputId": "1f01043c-c99e-4686-96bd-e0b851cc6d96",
        "colab": {
          "base_uri": "https://localhost:8080/",
          "height": 281
        }
      },
      "source": [
        "kmeans = KMeans(n_clusters=4, init='k-means++', max_iter=300, n_init=10, random_state=0)\n",
        "pred_y = kmeans.fit_predict(X)\n",
        "\n",
        "plt.scatter(X[:,0], X[:,1])\n",
        "plt.scatter(kmeans.cluster_centers_[:, 0], kmeans.cluster_centers_[:, 1], s=300, c='red')\n",
        "plt.title('Final cluster plot after using KNN')\n",
        "plt.show()"
      ],
      "execution_count": 5,
      "outputs": [
        {
          "output_type": "display_data",
          "data": {
            "image/png": "[encoded data removed]",
            "text/plain": [
              "<Figure size 432x288 with 1 Axes>"
            ]
          },
          "metadata": {
            "tags": [],
            "needs_background": "light"
          }
        }
      ]
    },
    {
      "cell_type": "markdown",
      "metadata": {
        "colab_type": "text",
        "id": "BBSX5rWzkveC"
      },
      "source": [
        "Question 7. What are the other methods of clustering? Provide at least two examples and determine their benefits and limitations."
      ]
    },
    {
      "cell_type": "markdown",
      "metadata": {
        "id": "59TaZfYDwOXO",
        "colab_type": "text"
      },
      "source": [
        "Other types of clutering are K Nearest Neighbor (KNN) and Density Based Spatial Clustering (DBSCAN).\n",
        "\n",
        "KNN is a non parametric algorithm. K refers to 'n_neighbors' in the KNN function. It does not make any underlying assumptions about the distribution of data. KNN algorithm can also be used for regression problems. Regression problems will be using averages of nearest neighbors rather than voting from nearest neighbors.\n",
        "\n",
        "Applications:  economic forecasting, data compression, and genetics\n",
        "\n",
        "Benefits: \n",
        " - No assumptions about data\n",
        " - Simple algorithm to explain and understand/interpret\n",
        " - Overall good accuracy\n",
        " - Versatile useful for classification or regression\n",
        "\n",
        "Limitations:\n",
        " - Computationally expensive because the algorithm stores all the training data\n",
        " - High memory requirement\n",
        " - Prediction stage might be slow with large datasets\n",
        " - May be sensitive to features not relevant in the classification and to the scale of the data\n",
        "\n",
        "\n",
        "DBSCAN groups together points that are close to each other based on a distance measurement (usually Euclidean distance) and a minimum number of points. The main concept of DBSCAN algorithm is to locate regions of high density that are separated from one another by region of low density. It also marks as outliers the points that are in low density regions.\n",
        "\n",
        "Applications: Characters recognition, Management systems\n",
        "\n",
        "Benifits:\n",
        " - It requires minimum domain knowledge\n",
        " - It can discover clusters of arbitrary shape\n",
        " - It works well with large samples of data\n",
        "\n",
        "Limitations:\n",
        " - Does not work well while dealing with clusters of varying densities.\n",
        " - Less efficient results with high dimensional data"
      ]
    },
    {
      "cell_type": "markdown",
      "metadata": {
        "colab_type": "text",
        "id": "JZ5MkXlGkveS"
      },
      "source": [
        "Question 8. How are unsupervised models different from supervised models?"
      ]
    },
    {
      "cell_type": "markdown",
      "metadata": {
        "colab_type": "text",
        "id": "VdgGuCKOkveU"
      },
      "source": [
        "Reference: https://www.guru99.com/supervised-vs-unsupervised-learning.html\n",
        "\n",
        "In unsupervised learning model,\n",
        " - only input data will be given\n",
        " - Algorithms are used against data which is not labeled\n",
        " - Unsupervised algorithms can be divided into different categories: like Cluster algorithms, K-means, Hierarchical clustering, etc.\n",
        " - Unsupervised learning is computationally complex\n",
        " - Unsupervised learning does not use output data\n",
        " - Less accurate and trustworthy method\n",
        " - Learning method takes place in real time\n",
        " - Number of classes is not known\n",
        " - You cannot get precise information regarding data sorting, and the output as data used in unsupervised learning is labeled and not known\n",
        "\n",
        "In a supervised learning model,\n",
        " - input and output variables will be given\n",
        " - Algorithms are trained using labeled data\n",
        " - Support vector machine, Neural network, Linear and logistics regression, random forest, and Classification trees\n",
        " - Supervised learning is a simpler method\n",
        " - Supervised learning model uses training data to learn a link between the input and the outputs\n",
        " - Highly accurate and trustworthy method\n",
        " - Learning method takes place offline\n",
        " - Number of classes is known\n",
        " - Classifying big data can be a real challenge in Supervised Learning"
      ]
    },
    {
      "cell_type": "markdown",
      "metadata": {
        "colab_type": "text",
        "id": "5tASwKu0kveW"
      },
      "source": [
        "=========================================================================="
      ]
    },
    {
      "cell_type": "markdown",
      "metadata": {
        "colab_type": "text",
        "id": "mCehuf7-kveX"
      },
      "source": [
        "## Exercise 2: Neural Network (40 points)\n",
        "Question 1. Plot the histograms of the variables.\n",
        "\n",
        "Visualize the difference in distribution between diabetics and non-diabetics with separate plots using seaborn.\n",
        "\n",
        "Create a subplot of 3 X 3 and plot a density plot for each variable.\n",
        "\n",
        "Use the diabetes2.csv file from the Data Files folder.\n",
        "\n",
        "Hide the 9th subplot."
      ]
    },
    {
      "cell_type": "code",
      "metadata": {
        "colab_type": "code",
        "id": "jF4GfPu-kveY",
        "colab": {}
      },
      "source": [
        "#reference: Neural Network Projects with Python: The ultimate guide to using Python By James Loy\n",
        "\n",
        "import pandas as pd\n",
        "import numpy as np\n",
        "from matplotlib import pyplot as plt\n",
        "import seaborn as sns\n",
        "import pandas.util.testing as tm"
      ],
      "execution_count": 0,
      "outputs": []
    },
    {
      "cell_type": "code",
      "metadata": {
        "id": "ASqbKrrTvLHL",
        "colab_type": "code",
        "colab": {}
      },
      "source": [
        "df = pd.read_csv('diabetes2.csv')"
      ],
      "execution_count": 0,
      "outputs": []
    },
    {
      "cell_type": "code",
      "metadata": {
        "id": "IHnN-1ZMvLHR",
        "colab_type": "code",
        "colab": {
          "base_uri": "https://localhost:8080/",
          "height": 195
        },
        "outputId": "a4dd1c95-3b77-4dc9-c75a-138fcd9a2f4e"
      },
      "source": [
        "df.head()"
      ],
      "execution_count": 8,
      "outputs": [
        {
          "output_type": "execute_result",
          "data": {
            "text/html": [
              "<div>\n",
              "<style scoped>\n",
              "    .dataframe tbody tr th:only-of-type {\n",
              "        vertical-align: middle;\n",
              "    }\n",
              "\n",
              "    .dataframe tbody tr th {\n",
              "        vertical-align: top;\n",
              "    }\n",
              "\n",
              "    .dataframe thead th {\n",
              "        text-align: right;\n",
              "    }\n",
              "</style>\n",
              "<table border=\"1\" class=\"dataframe\">\n",
              "  <thead>\n",
              "    <tr style=\"text-align: right;\">\n",
              "      <th></th>\n",
              "      <th>Pregnancies</th>\n",
              "      <th>Glucose</th>\n",
              "      <th>BloodPressure</th>\n",
              "      <th>SkinThickness</th>\n",
              "      <th>Insulin</th>\n",
              "      <th>BMI</th>\n",
              "      <th>DiabetesPedigreeFunction</th>\n",
              "      <th>Age</th>\n",
              "      <th>Outcome</th>\n",
              "    </tr>\n",
              "  </thead>\n",
              "  <tbody>\n",
              "    <tr>\n",
              "      <th>0</th>\n",
              "      <td>6</td>\n",
              "      <td>148</td>\n",
              "      <td>72</td>\n",
              "      <td>35</td>\n",
              "      <td>0</td>\n",
              "      <td>33.6</td>\n",
              "      <td>0.627</td>\n",
              "      <td>50</td>\n",
              "      <td>1</td>\n",
              "    </tr>\n",
              "    <tr>\n",
              "      <th>1</th>\n",
              "      <td>1</td>\n",
              "      <td>85</td>\n",
              "      <td>66</td>\n",
              "      <td>29</td>\n",
              "      <td>0</td>\n",
              "      <td>26.6</td>\n",
              "      <td>0.351</td>\n",
              "      <td>31</td>\n",
              "      <td>0</td>\n",
              "    </tr>\n",
              "    <tr>\n",
              "      <th>2</th>\n",
              "      <td>8</td>\n",
              "      <td>183</td>\n",
              "      <td>64</td>\n",
              "      <td>0</td>\n",
              "      <td>0</td>\n",
              "      <td>23.3</td>\n",
              "      <td>0.672</td>\n",
              "      <td>32</td>\n",
              "      <td>1</td>\n",
              "    </tr>\n",
              "    <tr>\n",
              "      <th>3</th>\n",
              "      <td>1</td>\n",
              "      <td>89</td>\n",
              "      <td>66</td>\n",
              "      <td>23</td>\n",
              "      <td>94</td>\n",
              "      <td>28.1</td>\n",
              "      <td>0.167</td>\n",
              "      <td>21</td>\n",
              "      <td>0</td>\n",
              "    </tr>\n",
              "    <tr>\n",
              "      <th>4</th>\n",
              "      <td>0</td>\n",
              "      <td>137</td>\n",
              "      <td>40</td>\n",
              "      <td>35</td>\n",
              "      <td>168</td>\n",
              "      <td>43.1</td>\n",
              "      <td>2.288</td>\n",
              "      <td>33</td>\n",
              "      <td>1</td>\n",
              "    </tr>\n",
              "  </tbody>\n",
              "</table>\n",
              "</div>"
            ],
            "text/plain": [
              "   Pregnancies  Glucose  BloodPressure  ...  DiabetesPedigreeFunction  Age  Outcome\n",
              "0            6      148             72  ...                     0.627   50        1\n",
              "1            1       85             66  ...                     0.351   31        0\n",
              "2            8      183             64  ...                     0.672   32        1\n",
              "3            1       89             66  ...                     0.167   21        0\n",
              "4            0      137             40  ...                     2.288   33        1\n",
              "\n",
              "[5 rows x 9 columns]"
            ]
          },
          "metadata": {
            "tags": []
          },
          "execution_count": 8
        }
      ]
    },
    {
      "cell_type": "code",
      "metadata": {
        "id": "fdaaNNQmvLHg",
        "colab_type": "code",
        "colab": {
          "base_uri": "https://localhost:8080/",
          "height": 775
        },
        "outputId": "be2eb0ed-270e-460c-d4e3-1078973bb56a"
      },
      "source": [
        "df.hist(figsize=(10, 10))"
      ],
      "execution_count": 9,
      "outputs": [
        {
          "output_type": "execute_result",
          "data": {
            "text/plain": [
              "array([[<matplotlib.axes._subplots.AxesSubplot object at 0x7fcdd274cf98>,\n",
              "        <matplotlib.axes._subplots.AxesSubplot object at 0x7fcdd2707240>,\n",
              "        <matplotlib.axes._subplots.AxesSubplot object at 0x7fcdd26bb4a8>],\n",
              "       [<matplotlib.axes._subplots.AxesSubplot object at 0x7fcdd26ec710>,\n",
              "        <matplotlib.axes._subplots.AxesSubplot object at 0x7fcdd26a0978>,\n",
              "        <matplotlib.axes._subplots.AxesSubplot object at 0x7fcdd2657be0>],\n",
              "       [<matplotlib.axes._subplots.AxesSubplot object at 0x7fcdd2609e48>,\n",
              "        <matplotlib.axes._subplots.AxesSubplot object at 0x7fcdd25cb0b8>,\n",
              "        <matplotlib.axes._subplots.AxesSubplot object at 0x7fcdd25cb128>]],\n",
              "      dtype=object)"
            ]
          },
          "metadata": {
            "tags": []
          },
          "execution_count": 9
        },
        {
          "output_type": "display_data",
          "data": {
            "image/png": "[encoded data removed]",
            "text/plain": [
              "<Figure size 720x720 with 9 Axes>"
            ]
          },
          "metadata": {
            "tags": [],
            "needs_background": "light"
          }
        }
      ]
    },
    {
      "cell_type": "code",
      "metadata": {
        "id": "G-rthwWKvLHo",
        "colab_type": "code",
        "colab": {
          "base_uri": "https://localhost:8080/",
          "height": 775
        },
        "outputId": "697145ee-407a-4d6f-da62-ea13db8b675a"
      },
      "source": [
        "diabetes_outcome_0 = df[df['Outcome']==0]\n",
        "diabetes_outcome_0.hist(figsize=(10, 10))"
      ],
      "execution_count": 10,
      "outputs": [
        {
          "output_type": "execute_result",
          "data": {
            "text/plain": [
              "array([[<matplotlib.axes._subplots.AxesSubplot object at 0x7fcdd230c080>,\n",
              "        <matplotlib.axes._subplots.AxesSubplot object at 0x7fcdd23286d8>,\n",
              "        <matplotlib.axes._subplots.AxesSubplot object at 0x7fcdd22cca58>],\n",
              "       [<matplotlib.axes._subplots.AxesSubplot object at 0x7fcdd227ddd8>,\n",
              "        <matplotlib.axes._subplots.AxesSubplot object at 0x7fcdd223c198>,\n",
              "        <matplotlib.axes._subplots.AxesSubplot object at 0x7fcdd21ef518>],\n",
              "       [<matplotlib.axes._subplots.AxesSubplot object at 0x7fcdd27126a0>,\n",
              "        <matplotlib.axes._subplots.AxesSubplot object at 0x7fcdd25a9be0>,\n",
              "        <matplotlib.axes._subplots.AxesSubplot object at 0x7fcdd259e940>]],\n",
              "      dtype=object)"
            ]
          },
          "metadata": {
            "tags": []
          },
          "execution_count": 10
        },
        {
          "output_type": "display_data",
          "data": {
            "image/png": "[encoded data removed]",
            "text/plain": [
              "<Figure size 720x720 with 9 Axes>"
            ]
          },
          "metadata": {
            "tags": [],
            "needs_background": "light"
          }
        }
      ]
    },
    {
      "cell_type": "code",
      "metadata": {
        "id": "b794AYSxvLHt",
        "colab_type": "code",
        "colab": {
          "base_uri": "https://localhost:8080/",
          "height": 775
        },
        "outputId": "5526448e-709f-4e00-a678-a09ae393e011"
      },
      "source": [
        "diabetes_outcome_1 = df[df['Outcome']==1]\n",
        "diabetes_outcome_1.hist(figsize=(10, 10))"
      ],
      "execution_count": 11,
      "outputs": [
        {
          "output_type": "execute_result",
          "data": {
            "text/plain": [
              "array([[<matplotlib.axes._subplots.AxesSubplot object at 0x7fcdd393f668>,\n",
              "        <matplotlib.axes._subplots.AxesSubplot object at 0x7fcdd1fc15f8>,\n",
              "        <matplotlib.axes._subplots.AxesSubplot object at 0x7fcdd1fe9828>],\n",
              "       [<matplotlib.axes._subplots.AxesSubplot object at 0x7fcdd1f9aa58>,\n",
              "        <matplotlib.axes._subplots.AxesSubplot object at 0x7fcdd1f4edd8>,\n",
              "        <matplotlib.axes._subplots.AxesSubplot object at 0x7fcdd1f0a198>],\n",
              "       [<matplotlib.axes._subplots.AxesSubplot object at 0x7fcdd1ebd518>,\n",
              "        <matplotlib.axes._subplots.AxesSubplot object at 0x7fcdd1e6e860>,\n",
              "        <matplotlib.axes._subplots.AxesSubplot object at 0x7fcdd1e6e8d0>]],\n",
              "      dtype=object)"
            ]
          },
          "metadata": {
            "tags": []
          },
          "execution_count": 11
        },
        {
          "output_type": "display_data",
          "data": {
            "image/png": "[encoded data removed]",
            "text/plain": [
              "<Figure size 720x720 with 9 Axes>"
            ]
          },
          "metadata": {
            "tags": [],
            "needs_background": "light"
          }
        }
      ]
    },
    {
      "cell_type": "code",
      "metadata": {
        "id": "1sBb41T3UXKz",
        "colab_type": "code",
        "colab": {
          "base_uri": "https://localhost:8080/",
          "height": 296
        },
        "outputId": "430b4742-5baa-4d2b-f1d4-af6596b9329e"
      },
      "source": [
        "sns.countplot(x = 'Outcome',data = df)"
      ],
      "execution_count": 12,
      "outputs": [
        {
          "output_type": "execute_result",
          "data": {
            "text/plain": [
              "<matplotlib.axes._subplots.AxesSubplot at 0x7fcdd1c4ec50>"
            ]
          },
          "metadata": {
            "tags": []
          },
          "execution_count": 12
        },
        {
          "output_type": "display_data",
          "data": {
            "image/png": "[encoded data removed]",
            "text/plain": [
              "<Figure size 432x288 with 1 Axes>"
            ]
          },
          "metadata": {
            "tags": [],
            "needs_background": "light"
          }
        }
      ]
    },
    {
      "cell_type": "code",
      "metadata": {
        "id": "PxWPXPp7vLHy",
        "colab_type": "code",
        "colab": {
          "base_uri": "https://localhost:8080/",
          "height": 607
        },
        "outputId": "fc461365-83b2-4fac-9f01-8e67a2203c25"
      },
      "source": [
        "plt.subplots(3,3,figsize=(10,10))\n",
        "\n",
        "for idx, col in enumerate(df.columns):\n",
        "    ax = plt.subplot(3,3,idx+1)\n",
        "    ax.yaxis.set_ticklabels([])\n",
        "    sns.distplot(df.loc[df.Outcome == 0][col], hist=False, axlabel= False, \n",
        "    kde_kws={'linestyle':'-',  \n",
        "    'color':'black', 'label':'No Diabetes'})\n",
        "    sns.distplot(df.loc[df.Outcome == 1][col], hist=False, axlabel= False, \n",
        "    kde_kws={'linestyle':'--', \n",
        "    'color':'black', 'label':'Diabetes'})\n",
        "    ax.set_title(col)\n",
        "\n",
        "plt.subplot(3,3,9).set_visible(False)\n",
        "\n",
        "plt.show()"
      ],
      "execution_count": 13,
      "outputs": [
        {
          "output_type": "display_data",
          "data": {
            "image/png": "[encoded data removed]",
            "text/plain": [
              "<Figure size 720x720 with 9 Axes>"
            ]
          },
          "metadata": {
            "tags": [],
            "needs_background": "light"
          }
        }
      ]
    },
    {
      "cell_type": "markdown",
      "metadata": {
        "colab_type": "text",
        "id": "TXZ1nc-dkvee"
      },
      "source": [
        "Question 2. Check the data (null data and number of rows with 0 for each variable).\n",
        "\n",
        "Replace the zero values with NaN. Re-check the data.\n",
        "\n",
        "Replace the NaN values with the mean of the non-missing values."
      ]
    },
    {
      "cell_type": "code",
      "metadata": {
        "colab_type": "code",
        "id": "UkPeIP3Ykveg",
        "colab": {
          "base_uri": "https://localhost:8080/",
          "height": 185
        },
        "outputId": "2448feb0-4bea-444d-b9e7-19780801e4b1"
      },
      "source": [
        "print(df.isnull().any())"
      ],
      "execution_count": 14,
      "outputs": [
        {
          "output_type": "stream",
          "text": [
            "Pregnancies                 False\n",
            "Glucose                     False\n",
            "BloodPressure               False\n",
            "SkinThickness               False\n",
            "Insulin                     False\n",
            "BMI                         False\n",
            "DiabetesPedigreeFunction    False\n",
            "Age                         False\n",
            "Outcome                     False\n",
            "dtype: bool\n"
          ],
          "name": "stdout"
        }
      ]
    },
    {
      "cell_type": "code",
      "metadata": {
        "id": "OJR4H5WovLH-",
        "colab_type": "code",
        "colab": {
          "base_uri": "https://localhost:8080/",
          "height": 314
        },
        "outputId": "ec642e0f-c79f-4fca-b8a4-65498504aa91"
      },
      "source": [
        "df.describe().T"
      ],
      "execution_count": 15,
      "outputs": [
        {
          "output_type": "execute_result",
          "data": {
            "text/html": [
              "<div>\n",
              "<style scoped>\n",
              "    .dataframe tbody tr th:only-of-type {\n",
              "        vertical-align: middle;\n",
              "    }\n",
              "\n",
              "    .dataframe tbody tr th {\n",
              "        vertical-align: top;\n",
              "    }\n",
              "\n",
              "    .dataframe thead th {\n",
              "        text-align: right;\n",
              "    }\n",
              "</style>\n",
              "<table border=\"1\" class=\"dataframe\">\n",
              "  <thead>\n",
              "    <tr style=\"text-align: right;\">\n",
              "      <th></th>\n",
              "      <th>count</th>\n",
              "      <th>mean</th>\n",
              "      <th>std</th>\n",
              "      <th>min</th>\n",
              "      <th>25%</th>\n",
              "      <th>50%</th>\n",
              "      <th>75%</th>\n",
              "      <th>max</th>\n",
              "    </tr>\n",
              "  </thead>\n",
              "  <tbody>\n",
              "    <tr>\n",
              "      <th>Pregnancies</th>\n",
              "      <td>768.0</td>\n",
              "      <td>3.845052</td>\n",
              "      <td>3.369578</td>\n",
              "      <td>0.000</td>\n",
              "      <td>1.00000</td>\n",
              "      <td>3.0000</td>\n",
              "      <td>6.00000</td>\n",
              "      <td>17.00</td>\n",
              "    </tr>\n",
              "    <tr>\n",
              "      <th>Glucose</th>\n",
              "      <td>768.0</td>\n",
              "      <td>120.894531</td>\n",
              "      <td>31.972618</td>\n",
              "      <td>0.000</td>\n",
              "      <td>99.00000</td>\n",
              "      <td>117.0000</td>\n",
              "      <td>140.25000</td>\n",
              "      <td>199.00</td>\n",
              "    </tr>\n",
              "    <tr>\n",
              "      <th>BloodPressure</th>\n",
              "      <td>768.0</td>\n",
              "      <td>69.105469</td>\n",
              "      <td>19.355807</td>\n",
              "      <td>0.000</td>\n",
              "      <td>62.00000</td>\n",
              "      <td>72.0000</td>\n",
              "      <td>80.00000</td>\n",
              "      <td>122.00</td>\n",
              "    </tr>\n",
              "    <tr>\n",
              "      <th>SkinThickness</th>\n",
              "      <td>768.0</td>\n",
              "      <td>20.536458</td>\n",
              "      <td>15.952218</td>\n",
              "      <td>0.000</td>\n",
              "      <td>0.00000</td>\n",
              "      <td>23.0000</td>\n",
              "      <td>32.00000</td>\n",
              "      <td>99.00</td>\n",
              "    </tr>\n",
              "    <tr>\n",
              "      <th>Insulin</th>\n",
              "      <td>768.0</td>\n",
              "      <td>79.799479</td>\n",
              "      <td>115.244002</td>\n",
              "      <td>0.000</td>\n",
              "      <td>0.00000</td>\n",
              "      <td>30.5000</td>\n",
              "      <td>127.25000</td>\n",
              "      <td>846.00</td>\n",
              "    </tr>\n",
              "    <tr>\n",
              "      <th>BMI</th>\n",
              "      <td>768.0</td>\n",
              "      <td>31.992578</td>\n",
              "      <td>7.884160</td>\n",
              "      <td>0.000</td>\n",
              "      <td>27.30000</td>\n",
              "      <td>32.0000</td>\n",
              "      <td>36.60000</td>\n",
              "      <td>67.10</td>\n",
              "    </tr>\n",
              "    <tr>\n",
              "      <th>DiabetesPedigreeFunction</th>\n",
              "      <td>768.0</td>\n",
              "      <td>0.471876</td>\n",
              "      <td>0.331329</td>\n",
              "      <td>0.078</td>\n",
              "      <td>0.24375</td>\n",
              "      <td>0.3725</td>\n",
              "      <td>0.62625</td>\n",
              "      <td>2.42</td>\n",
              "    </tr>\n",
              "    <tr>\n",
              "      <th>Age</th>\n",
              "      <td>768.0</td>\n",
              "      <td>33.240885</td>\n",
              "      <td>11.760232</td>\n",
              "      <td>21.000</td>\n",
              "      <td>24.00000</td>\n",
              "      <td>29.0000</td>\n",
              "      <td>41.00000</td>\n",
              "      <td>81.00</td>\n",
              "    </tr>\n",
              "    <tr>\n",
              "      <th>Outcome</th>\n",
              "      <td>768.0</td>\n",
              "      <td>0.348958</td>\n",
              "      <td>0.476951</td>\n",
              "      <td>0.000</td>\n",
              "      <td>0.00000</td>\n",
              "      <td>0.0000</td>\n",
              "      <td>1.00000</td>\n",
              "      <td>1.00</td>\n",
              "    </tr>\n",
              "  </tbody>\n",
              "</table>\n",
              "</div>"
            ],
            "text/plain": [
              "                          count        mean  ...        75%     max\n",
              "Pregnancies               768.0    3.845052  ...    6.00000   17.00\n",
              "Glucose                   768.0  120.894531  ...  140.25000  199.00\n",
              "BloodPressure             768.0   69.105469  ...   80.00000  122.00\n",
              "SkinThickness             768.0   20.536458  ...   32.00000   99.00\n",
              "Insulin                   768.0   79.799479  ...  127.25000  846.00\n",
              "BMI                       768.0   31.992578  ...   36.60000   67.10\n",
              "DiabetesPedigreeFunction  768.0    0.471876  ...    0.62625    2.42\n",
              "Age                       768.0   33.240885  ...   41.00000   81.00\n",
              "Outcome                   768.0    0.348958  ...    1.00000    1.00\n",
              "\n",
              "[9 rows x 8 columns]"
            ]
          },
          "metadata": {
            "tags": []
          },
          "execution_count": 15
        }
      ]
    },
    {
      "cell_type": "code",
      "metadata": {
        "id": "L4NaLYUJvLIE",
        "colab_type": "code",
        "colab": {
          "base_uri": "https://localhost:8080/",
          "height": 185
        },
        "outputId": "57c9e4c8-fef9-495d-df8e-f156f3299a50"
      },
      "source": [
        "print('Number of rows with 0 values for each variable')\n",
        "for col in df.columns:\n",
        "    missing_rows = df.loc[df[col]==0].shape[0]\n",
        "    print(col + ': ' + str(missing_rows))"
      ],
      "execution_count": 16,
      "outputs": [
        {
          "output_type": "stream",
          "text": [
            "Number of rows with 0 values for each variable\n",
            "Pregnancies: 111\n",
            "Glucose: 5\n",
            "BloodPressure: 35\n",
            "SkinThickness: 227\n",
            "Insulin: 374\n",
            "BMI: 11\n",
            "DiabetesPedigreeFunction: 0\n",
            "Age: 0\n",
            "Outcome: 500\n"
          ],
          "name": "stdout"
        }
      ]
    },
    {
      "cell_type": "markdown",
      "metadata": {
        "id": "w-Lwe9DsV9dI",
        "colab_type": "text"
      },
      "source": [
        "Not editing the 'Pregnancies' column as having a 0 value is valid."
      ]
    },
    {
      "cell_type": "code",
      "metadata": {
        "id": "VTvWEoOP3Cev",
        "colab_type": "code",
        "colab": {}
      },
      "source": [
        "df['Glucose'] = df['Glucose'].replace(0, np.nan)\n",
        "df['BloodPressure'] = df['BloodPressure'].replace(0, np.nan)\n",
        "df['SkinThickness'] = df['SkinThickness'].replace(0, np.nan)\n",
        "df['Insulin'] = df['Insulin'].replace(0, np.nan)\n",
        "df['BMI'] = df['BMI'].replace(0, np.nan)"
      ],
      "execution_count": 0,
      "outputs": []
    },
    {
      "cell_type": "code",
      "metadata": {
        "id": "B5tCQG313HGS",
        "colab_type": "code",
        "colab": {
          "base_uri": "https://localhost:8080/",
          "height": 284
        },
        "outputId": "ee2adb9a-db5a-4ec7-cc8a-3f111d276e67"
      },
      "source": [
        "df.describe()"
      ],
      "execution_count": 18,
      "outputs": [
        {
          "output_type": "execute_result",
          "data": {
            "text/html": [
              "<div>\n",
              "<style scoped>\n",
              "    .dataframe tbody tr th:only-of-type {\n",
              "        vertical-align: middle;\n",
              "    }\n",
              "\n",
              "    .dataframe tbody tr th {\n",
              "        vertical-align: top;\n",
              "    }\n",
              "\n",
              "    .dataframe thead th {\n",
              "        text-align: right;\n",
              "    }\n",
              "</style>\n",
              "<table border=\"1\" class=\"dataframe\">\n",
              "  <thead>\n",
              "    <tr style=\"text-align: right;\">\n",
              "      <th></th>\n",
              "      <th>Pregnancies</th>\n",
              "      <th>Glucose</th>\n",
              "      <th>BloodPressure</th>\n",
              "      <th>SkinThickness</th>\n",
              "      <th>Insulin</th>\n",
              "      <th>BMI</th>\n",
              "      <th>DiabetesPedigreeFunction</th>\n",
              "      <th>Age</th>\n",
              "      <th>Outcome</th>\n",
              "    </tr>\n",
              "  </thead>\n",
              "  <tbody>\n",
              "    <tr>\n",
              "      <th>count</th>\n",
              "      <td>768.000000</td>\n",
              "      <td>763.000000</td>\n",
              "      <td>733.000000</td>\n",
              "      <td>541.000000</td>\n",
              "      <td>394.000000</td>\n",
              "      <td>757.000000</td>\n",
              "      <td>768.000000</td>\n",
              "      <td>768.000000</td>\n",
              "      <td>768.000000</td>\n",
              "    </tr>\n",
              "    <tr>\n",
              "      <th>mean</th>\n",
              "      <td>3.845052</td>\n",
              "      <td>121.686763</td>\n",
              "      <td>72.405184</td>\n",
              "      <td>29.153420</td>\n",
              "      <td>155.548223</td>\n",
              "      <td>32.457464</td>\n",
              "      <td>0.471876</td>\n",
              "      <td>33.240885</td>\n",
              "      <td>0.348958</td>\n",
              "    </tr>\n",
              "    <tr>\n",
              "      <th>std</th>\n",
              "      <td>3.369578</td>\n",
              "      <td>30.535641</td>\n",
              "      <td>12.382158</td>\n",
              "      <td>10.476982</td>\n",
              "      <td>118.775855</td>\n",
              "      <td>6.924988</td>\n",
              "      <td>0.331329</td>\n",
              "      <td>11.760232</td>\n",
              "      <td>0.476951</td>\n",
              "    </tr>\n",
              "    <tr>\n",
              "      <th>min</th>\n",
              "      <td>0.000000</td>\n",
              "      <td>44.000000</td>\n",
              "      <td>24.000000</td>\n",
              "      <td>7.000000</td>\n",
              "      <td>14.000000</td>\n",
              "      <td>18.200000</td>\n",
              "      <td>0.078000</td>\n",
              "      <td>21.000000</td>\n",
              "      <td>0.000000</td>\n",
              "    </tr>\n",
              "    <tr>\n",
              "      <th>25%</th>\n",
              "      <td>1.000000</td>\n",
              "      <td>99.000000</td>\n",
              "      <td>64.000000</td>\n",
              "      <td>22.000000</td>\n",
              "      <td>76.250000</td>\n",
              "      <td>27.500000</td>\n",
              "      <td>0.243750</td>\n",
              "      <td>24.000000</td>\n",
              "      <td>0.000000</td>\n",
              "    </tr>\n",
              "    <tr>\n",
              "      <th>50%</th>\n",
              "      <td>3.000000</td>\n",
              "      <td>117.000000</td>\n",
              "      <td>72.000000</td>\n",
              "      <td>29.000000</td>\n",
              "      <td>125.000000</td>\n",
              "      <td>32.300000</td>\n",
              "      <td>0.372500</td>\n",
              "      <td>29.000000</td>\n",
              "      <td>0.000000</td>\n",
              "    </tr>\n",
              "    <tr>\n",
              "      <th>75%</th>\n",
              "      <td>6.000000</td>\n",
              "      <td>141.000000</td>\n",
              "      <td>80.000000</td>\n",
              "      <td>36.000000</td>\n",
              "      <td>190.000000</td>\n",
              "      <td>36.600000</td>\n",
              "      <td>0.626250</td>\n",
              "      <td>41.000000</td>\n",
              "      <td>1.000000</td>\n",
              "    </tr>\n",
              "    <tr>\n",
              "      <th>max</th>\n",
              "      <td>17.000000</td>\n",
              "      <td>199.000000</td>\n",
              "      <td>122.000000</td>\n",
              "      <td>99.000000</td>\n",
              "      <td>846.000000</td>\n",
              "      <td>67.100000</td>\n",
              "      <td>2.420000</td>\n",
              "      <td>81.000000</td>\n",
              "      <td>1.000000</td>\n",
              "    </tr>\n",
              "  </tbody>\n",
              "</table>\n",
              "</div>"
            ],
            "text/plain": [
              "       Pregnancies     Glucose  ...         Age     Outcome\n",
              "count   768.000000  763.000000  ...  768.000000  768.000000\n",
              "mean      3.845052  121.686763  ...   33.240885    0.348958\n",
              "std       3.369578   30.535641  ...   11.760232    0.476951\n",
              "min       0.000000   44.000000  ...   21.000000    0.000000\n",
              "25%       1.000000   99.000000  ...   24.000000    0.000000\n",
              "50%       3.000000  117.000000  ...   29.000000    0.000000\n",
              "75%       6.000000  141.000000  ...   41.000000    1.000000\n",
              "max      17.000000  199.000000  ...   81.000000    1.000000\n",
              "\n",
              "[8 rows x 9 columns]"
            ]
          },
          "metadata": {
            "tags": []
          },
          "execution_count": 18
        }
      ]
    },
    {
      "cell_type": "code",
      "metadata": {
        "id": "vFWHaLtr3KP2",
        "colab_type": "code",
        "colab": {
          "base_uri": "https://localhost:8080/",
          "height": 185
        },
        "outputId": "7e082abb-1e7e-4fcb-dc0f-3281eacf8f16"
      },
      "source": [
        "print('Number of rows with 0 values for each variable')\n",
        "for col in df.columns:\n",
        "    missing_rows = df.loc[df[col]==0].shape[0]\n",
        "    print(col + ': ' + str(missing_rows))"
      ],
      "execution_count": 19,
      "outputs": [
        {
          "output_type": "stream",
          "text": [
            "Number of rows with 0 values for each variable\n",
            "Pregnancies: 111\n",
            "Glucose: 0\n",
            "BloodPressure: 0\n",
            "SkinThickness: 0\n",
            "Insulin: 0\n",
            "BMI: 0\n",
            "DiabetesPedigreeFunction: 0\n",
            "Age: 0\n",
            "Outcome: 500\n"
          ],
          "name": "stdout"
        }
      ]
    },
    {
      "cell_type": "code",
      "metadata": {
        "id": "V5m0eUOdvLIL",
        "colab_type": "code",
        "colab": {}
      },
      "source": [
        "df['Glucose'] = df['Glucose'].fillna(df['Glucose'].mean())\n",
        "df['BloodPressure'] = df['BloodPressure'].fillna(df['BloodPressure'].mean())\n",
        "df['SkinThickness'] = df['SkinThickness'].fillna(df['SkinThickness'].mean())\n",
        "df['Insulin'] = df['Insulin'].fillna(df['Insulin'].mean())\n",
        "df['BMI'] = df['BMI'].fillna(df['BMI'].mean())"
      ],
      "execution_count": 0,
      "outputs": []
    },
    {
      "cell_type": "code",
      "metadata": {
        "id": "vLR-mdiH3TCd",
        "colab_type": "code",
        "colab": {
          "base_uri": "https://localhost:8080/",
          "height": 284
        },
        "outputId": "e11507c8-1321-4507-9ae5-091893a59aa7"
      },
      "source": [
        "df.describe()"
      ],
      "execution_count": 21,
      "outputs": [
        {
          "output_type": "execute_result",
          "data": {
            "text/html": [
              "<div>\n",
              "<style scoped>\n",
              "    .dataframe tbody tr th:only-of-type {\n",
              "        vertical-align: middle;\n",
              "    }\n",
              "\n",
              "    .dataframe tbody tr th {\n",
              "        vertical-align: top;\n",
              "    }\n",
              "\n",
              "    .dataframe thead th {\n",
              "        text-align: right;\n",
              "    }\n",
              "</style>\n",
              "<table border=\"1\" class=\"dataframe\">\n",
              "  <thead>\n",
              "    <tr style=\"text-align: right;\">\n",
              "      <th></th>\n",
              "      <th>Pregnancies</th>\n",
              "      <th>Glucose</th>\n",
              "      <th>BloodPressure</th>\n",
              "      <th>SkinThickness</th>\n",
              "      <th>Insulin</th>\n",
              "      <th>BMI</th>\n",
              "      <th>DiabetesPedigreeFunction</th>\n",
              "      <th>Age</th>\n",
              "      <th>Outcome</th>\n",
              "    </tr>\n",
              "  </thead>\n",
              "  <tbody>\n",
              "    <tr>\n",
              "      <th>count</th>\n",
              "      <td>768.000000</td>\n",
              "      <td>768.000000</td>\n",
              "      <td>768.000000</td>\n",
              "      <td>768.000000</td>\n",
              "      <td>768.000000</td>\n",
              "      <td>768.000000</td>\n",
              "      <td>768.000000</td>\n",
              "      <td>768.000000</td>\n",
              "      <td>768.000000</td>\n",
              "    </tr>\n",
              "    <tr>\n",
              "      <th>mean</th>\n",
              "      <td>3.845052</td>\n",
              "      <td>121.686763</td>\n",
              "      <td>72.405184</td>\n",
              "      <td>29.153420</td>\n",
              "      <td>155.548223</td>\n",
              "      <td>32.457464</td>\n",
              "      <td>0.471876</td>\n",
              "      <td>33.240885</td>\n",
              "      <td>0.348958</td>\n",
              "    </tr>\n",
              "    <tr>\n",
              "      <th>std</th>\n",
              "      <td>3.369578</td>\n",
              "      <td>30.435949</td>\n",
              "      <td>12.096346</td>\n",
              "      <td>8.790942</td>\n",
              "      <td>85.021108</td>\n",
              "      <td>6.875151</td>\n",
              "      <td>0.331329</td>\n",
              "      <td>11.760232</td>\n",
              "      <td>0.476951</td>\n",
              "    </tr>\n",
              "    <tr>\n",
              "      <th>min</th>\n",
              "      <td>0.000000</td>\n",
              "      <td>44.000000</td>\n",
              "      <td>24.000000</td>\n",
              "      <td>7.000000</td>\n",
              "      <td>14.000000</td>\n",
              "      <td>18.200000</td>\n",
              "      <td>0.078000</td>\n",
              "      <td>21.000000</td>\n",
              "      <td>0.000000</td>\n",
              "    </tr>\n",
              "    <tr>\n",
              "      <th>25%</th>\n",
              "      <td>1.000000</td>\n",
              "      <td>99.750000</td>\n",
              "      <td>64.000000</td>\n",
              "      <td>25.000000</td>\n",
              "      <td>121.500000</td>\n",
              "      <td>27.500000</td>\n",
              "      <td>0.243750</td>\n",
              "      <td>24.000000</td>\n",
              "      <td>0.000000</td>\n",
              "    </tr>\n",
              "    <tr>\n",
              "      <th>50%</th>\n",
              "      <td>3.000000</td>\n",
              "      <td>117.000000</td>\n",
              "      <td>72.202592</td>\n",
              "      <td>29.153420</td>\n",
              "      <td>155.548223</td>\n",
              "      <td>32.400000</td>\n",
              "      <td>0.372500</td>\n",
              "      <td>29.000000</td>\n",
              "      <td>0.000000</td>\n",
              "    </tr>\n",
              "    <tr>\n",
              "      <th>75%</th>\n",
              "      <td>6.000000</td>\n",
              "      <td>140.250000</td>\n",
              "      <td>80.000000</td>\n",
              "      <td>32.000000</td>\n",
              "      <td>155.548223</td>\n",
              "      <td>36.600000</td>\n",
              "      <td>0.626250</td>\n",
              "      <td>41.000000</td>\n",
              "      <td>1.000000</td>\n",
              "    </tr>\n",
              "    <tr>\n",
              "      <th>max</th>\n",
              "      <td>17.000000</td>\n",
              "      <td>199.000000</td>\n",
              "      <td>122.000000</td>\n",
              "      <td>99.000000</td>\n",
              "      <td>846.000000</td>\n",
              "      <td>67.100000</td>\n",
              "      <td>2.420000</td>\n",
              "      <td>81.000000</td>\n",
              "      <td>1.000000</td>\n",
              "    </tr>\n",
              "  </tbody>\n",
              "</table>\n",
              "</div>"
            ],
            "text/plain": [
              "       Pregnancies     Glucose  ...         Age     Outcome\n",
              "count   768.000000  768.000000  ...  768.000000  768.000000\n",
              "mean      3.845052  121.686763  ...   33.240885    0.348958\n",
              "std       3.369578   30.435949  ...   11.760232    0.476951\n",
              "min       0.000000   44.000000  ...   21.000000    0.000000\n",
              "25%       1.000000   99.750000  ...   24.000000    0.000000\n",
              "50%       3.000000  117.000000  ...   29.000000    0.000000\n",
              "75%       6.000000  140.250000  ...   41.000000    1.000000\n",
              "max      17.000000  199.000000  ...   81.000000    1.000000\n",
              "\n",
              "[8 rows x 9 columns]"
            ]
          },
          "metadata": {
            "tags": []
          },
          "execution_count": 21
        }
      ]
    },
    {
      "cell_type": "markdown",
      "metadata": {
        "colab_type": "text",
        "id": "7OkcUAf9kvem"
      },
      "source": [
        "Question 3. Standardize the data. Take a look at the mean, std. deviation, and the maximum of each of the transformed variables."
      ]
    },
    {
      "cell_type": "code",
      "metadata": {
        "colab_type": "code",
        "id": "CgXj0RmWkven",
        "colab": {}
      },
      "source": [
        "from sklearn import preprocessing\n",
        "df_scaled = preprocessing.scale(df)"
      ],
      "execution_count": 0,
      "outputs": []
    },
    {
      "cell_type": "code",
      "metadata": {
        "id": "UOb9IMXsvLIW",
        "colab_type": "code",
        "colab": {}
      },
      "source": [
        "df_scaled = pd.DataFrame(df_scaled, columns=df.columns)"
      ],
      "execution_count": 0,
      "outputs": []
    },
    {
      "cell_type": "code",
      "metadata": {
        "id": "1jjxWjbmvLIb",
        "colab_type": "code",
        "colab": {}
      },
      "source": [
        "df_scaled['Outcome'] = df['Outcome']\n",
        "df = df_scaled"
      ],
      "execution_count": 0,
      "outputs": []
    },
    {
      "cell_type": "code",
      "metadata": {
        "id": "H608H0USvLIg",
        "colab_type": "code",
        "colab": {
          "base_uri": "https://localhost:8080/",
          "height": 136
        },
        "outputId": "c340fbd1-cd61-4f01-d5b1-d22cbfdda4aa"
      },
      "source": [
        "df.describe().loc[['mean','std','max'],].round(2).abs()"
      ],
      "execution_count": 25,
      "outputs": [
        {
          "output_type": "execute_result",
          "data": {
            "text/html": [
              "<div>\n",
              "<style scoped>\n",
              "    .dataframe tbody tr th:only-of-type {\n",
              "        vertical-align: middle;\n",
              "    }\n",
              "\n",
              "    .dataframe tbody tr th {\n",
              "        vertical-align: top;\n",
              "    }\n",
              "\n",
              "    .dataframe thead th {\n",
              "        text-align: right;\n",
              "    }\n",
              "</style>\n",
              "<table border=\"1\" class=\"dataframe\">\n",
              "  <thead>\n",
              "    <tr style=\"text-align: right;\">\n",
              "      <th></th>\n",
              "      <th>Pregnancies</th>\n",
              "      <th>Glucose</th>\n",
              "      <th>BloodPressure</th>\n",
              "      <th>SkinThickness</th>\n",
              "      <th>Insulin</th>\n",
              "      <th>BMI</th>\n",
              "      <th>DiabetesPedigreeFunction</th>\n",
              "      <th>Age</th>\n",
              "      <th>Outcome</th>\n",
              "    </tr>\n",
              "  </thead>\n",
              "  <tbody>\n",
              "    <tr>\n",
              "      <th>mean</th>\n",
              "      <td>0.00</td>\n",
              "      <td>0.00</td>\n",
              "      <td>0.0</td>\n",
              "      <td>0.00</td>\n",
              "      <td>0.00</td>\n",
              "      <td>0.00</td>\n",
              "      <td>0.00</td>\n",
              "      <td>0.00</td>\n",
              "      <td>0.35</td>\n",
              "    </tr>\n",
              "    <tr>\n",
              "      <th>std</th>\n",
              "      <td>1.00</td>\n",
              "      <td>1.00</td>\n",
              "      <td>1.0</td>\n",
              "      <td>1.00</td>\n",
              "      <td>1.00</td>\n",
              "      <td>1.00</td>\n",
              "      <td>1.00</td>\n",
              "      <td>1.00</td>\n",
              "      <td>0.48</td>\n",
              "    </tr>\n",
              "    <tr>\n",
              "      <th>max</th>\n",
              "      <td>3.91</td>\n",
              "      <td>2.54</td>\n",
              "      <td>4.1</td>\n",
              "      <td>7.95</td>\n",
              "      <td>8.13</td>\n",
              "      <td>5.04</td>\n",
              "      <td>5.88</td>\n",
              "      <td>4.06</td>\n",
              "      <td>1.00</td>\n",
              "    </tr>\n",
              "  </tbody>\n",
              "</table>\n",
              "</div>"
            ],
            "text/plain": [
              "      Pregnancies  Glucose  ...   Age  Outcome\n",
              "mean         0.00     0.00  ...  0.00     0.35\n",
              "std          1.00     1.00  ...  1.00     0.48\n",
              "max          3.91     2.54  ...  4.06     1.00\n",
              "\n",
              "[3 rows x 9 columns]"
            ]
          },
          "metadata": {
            "tags": []
          },
          "execution_count": 25
        }
      ]
    },
    {
      "cell_type": "markdown",
      "metadata": {
        "colab_type": "text",
        "id": "J0uwBj17kveu"
      },
      "source": [
        "Question 4. Create a train and test set (80/20)."
      ]
    },
    {
      "cell_type": "code",
      "metadata": {
        "colab_type": "code",
        "id": "E-jp-f3Mkvev",
        "colab": {}
      },
      "source": [
        "from sklearn.model_selection import train_test_split\n",
        "\n",
        "X = df.loc[:, df.columns != 'Outcome']\n",
        "y = df.loc[:, 'Outcome']"
      ],
      "execution_count": 0,
      "outputs": []
    },
    {
      "cell_type": "code",
      "metadata": {
        "id": "o4Al1iBpvLIu",
        "colab_type": "code",
        "colab": {}
      },
      "source": [
        "X_train, X_test, y_train, y_test = train_test_split(X, y, test_size=0.2)"
      ],
      "execution_count": 0,
      "outputs": []
    },
    {
      "cell_type": "markdown",
      "metadata": {
        "colab_type": "text",
        "id": "xv8s2337kvey"
      },
      "source": [
        "Question 5. Use the sequential class from Keras to build the MLP.\n",
        "\n",
        "Add two hidden layers (with the respective node values of 32 and 16, ‘relu’ activation) and one hidden layer (‘sigmoid’ activation for output layer).\n",
        "\n",
        "Use ‘adam’ optimizer and ‘binary crossentropy’ loss.\n",
        "\n",
        "What does cross-entropy mean and refer to?"
      ]
    },
    {
      "cell_type": "code",
      "metadata": {
        "colab_type": "code",
        "id": "3OYzk763kvez",
        "colab": {
          "base_uri": "https://localhost:8080/",
          "height": 34
        },
        "outputId": "62b2d32b-3a30-4014-aebc-8b64b7e133c6"
      },
      "source": [
        "from keras.models import Sequential\n",
        "model = Sequential()"
      ],
      "execution_count": 28,
      "outputs": [
        {
          "output_type": "stream",
          "text": [
            "Using TensorFlow backend.\n"
          ],
          "name": "stderr"
        }
      ]
    },
    {
      "cell_type": "code",
      "metadata": {
        "id": "-6lfCk3FvLI-",
        "colab_type": "code",
        "colab": {}
      },
      "source": [
        "from keras.layers import Dense\n",
        "model.add(Dense(32, activation='relu', input_dim=8))\n",
        "model.add(Dense(16, activation='relu'))\n",
        "model.add(Dense(1, activation='sigmoid'))\n",
        "model.compile(optimizer='adam',loss='binary_crossentropy',metrics=['accuracy'])"
      ],
      "execution_count": 0,
      "outputs": []
    },
    {
      "cell_type": "markdown",
      "metadata": {
        "id": "qCi8nQM26RD6",
        "colab_type": "text"
      },
      "source": [
        "Reference: https://machinelearningmastery.com/cross-entropy-for-machine-learning/\n",
        "\n",
        "Cross-entropy is a measure from the field of information theory, building upon entropy and generally calculating the difference between two probability distributions. It is closely related to but is different from KL divergence that calculates the relative entropy between two probability distributions, whereas cross-entropy can be thought to calculate the total entropy between the distributions."
      ]
    },
    {
      "cell_type": "markdown",
      "metadata": {
        "colab_type": "text",
        "id": "Dfvnw7bIkve3"
      },
      "source": [
        "Question 6. What is the outcome of 100 and 200 epochs? Any difference? Explain."
      ]
    },
    {
      "cell_type": "code",
      "metadata": {
        "colab_type": "code",
        "id": "2PTwrlqBkve3",
        "colab": {
          "base_uri": "https://localhost:8080/",
          "height": 3394
        },
        "outputId": "22121f10-6f90-44db-9285-b02e9b1c45a0"
      },
      "source": [
        "model.fit(X_train, y_train, epochs=100)"
      ],
      "execution_count": 30,
      "outputs": [
        {
          "output_type": "stream",
          "text": [
            "Epoch 1/100\n",
            "614/614 [==============================] - 0s 329us/step - loss: 0.6005 - accuracy: 0.7150\n",
            "Epoch 2/100\n",
            "614/614 [==============================] - 0s 49us/step - loss: 0.5550 - accuracy: 0.7427\n",
            "Epoch 3/100\n",
            "614/614 [==============================] - 0s 51us/step - loss: 0.5275 - accuracy: 0.7573\n",
            "Epoch 4/100\n",
            "614/614 [==============================] - 0s 51us/step - loss: 0.5088 - accuracy: 0.7590\n",
            "Epoch 5/100\n",
            "614/614 [==============================] - 0s 48us/step - loss: 0.4945 - accuracy: 0.7720\n",
            "Epoch 6/100\n",
            "614/614 [==============================] - 0s 45us/step - loss: 0.4852 - accuracy: 0.7752\n",
            "Epoch 7/100\n",
            "614/614 [==============================] - 0s 48us/step - loss: 0.4787 - accuracy: 0.7801\n",
            "Epoch 8/100\n",
            "614/614 [==============================] - 0s 47us/step - loss: 0.4740 - accuracy: 0.7720\n",
            "Epoch 9/100\n",
            "614/614 [==============================] - 0s 46us/step - loss: 0.4686 - accuracy: 0.7752\n",
            "Epoch 10/100\n",
            "614/614 [==============================] - 0s 45us/step - loss: 0.4651 - accuracy: 0.7704\n",
            "Epoch 11/100\n",
            "614/614 [==============================] - 0s 48us/step - loss: 0.4621 - accuracy: 0.7687\n",
            "Epoch 12/100\n",
            "614/614 [==============================] - 0s 55us/step - loss: 0.4592 - accuracy: 0.7736\n",
            "Epoch 13/100\n",
            "614/614 [==============================] - 0s 51us/step - loss: 0.4561 - accuracy: 0.7720\n",
            "Epoch 14/100\n",
            "614/614 [==============================] - 0s 48us/step - loss: 0.4545 - accuracy: 0.7704\n",
            "Epoch 15/100\n",
            "614/614 [==============================] - 0s 46us/step - loss: 0.4523 - accuracy: 0.7769\n",
            "Epoch 16/100\n",
            "614/614 [==============================] - 0s 46us/step - loss: 0.4497 - accuracy: 0.7720\n",
            "Epoch 17/100\n",
            "614/614 [==============================] - 0s 45us/step - loss: 0.4474 - accuracy: 0.7704\n",
            "Epoch 18/100\n",
            "614/614 [==============================] - 0s 46us/step - loss: 0.4457 - accuracy: 0.7752\n",
            "Epoch 19/100\n",
            "614/614 [==============================] - 0s 52us/step - loss: 0.4436 - accuracy: 0.7850\n",
            "Epoch 20/100\n",
            "614/614 [==============================] - 0s 48us/step - loss: 0.4415 - accuracy: 0.7785\n",
            "Epoch 21/100\n",
            "614/614 [==============================] - 0s 45us/step - loss: 0.4408 - accuracy: 0.7883\n",
            "Epoch 22/100\n",
            "614/614 [==============================] - 0s 49us/step - loss: 0.4392 - accuracy: 0.7883\n",
            "Epoch 23/100\n",
            "614/614 [==============================] - 0s 48us/step - loss: 0.4360 - accuracy: 0.7932\n",
            "Epoch 24/100\n",
            "614/614 [==============================] - 0s 49us/step - loss: 0.4347 - accuracy: 0.7948\n",
            "Epoch 25/100\n",
            "614/614 [==============================] - 0s 50us/step - loss: 0.4335 - accuracy: 0.7948\n",
            "Epoch 26/100\n",
            "614/614 [==============================] - 0s 51us/step - loss: 0.4318 - accuracy: 0.7997\n",
            "Epoch 27/100\n",
            "614/614 [==============================] - 0s 45us/step - loss: 0.4302 - accuracy: 0.8029\n",
            "Epoch 28/100\n",
            "614/614 [==============================] - 0s 43us/step - loss: 0.4299 - accuracy: 0.7997\n",
            "Epoch 29/100\n",
            "614/614 [==============================] - 0s 45us/step - loss: 0.4271 - accuracy: 0.8029\n",
            "Epoch 30/100\n",
            "614/614 [==============================] - 0s 47us/step - loss: 0.4262 - accuracy: 0.7997\n",
            "Epoch 31/100\n",
            "614/614 [==============================] - 0s 48us/step - loss: 0.4244 - accuracy: 0.7997\n",
            "Epoch 32/100\n",
            "614/614 [==============================] - 0s 46us/step - loss: 0.4226 - accuracy: 0.8013\n",
            "Epoch 33/100\n",
            "614/614 [==============================] - 0s 45us/step - loss: 0.4222 - accuracy: 0.8013\n",
            "Epoch 34/100\n",
            "614/614 [==============================] - 0s 46us/step - loss: 0.4210 - accuracy: 0.7997\n",
            "Epoch 35/100\n",
            "614/614 [==============================] - 0s 49us/step - loss: 0.4191 - accuracy: 0.7980\n",
            "Epoch 36/100\n",
            "614/614 [==============================] - 0s 53us/step - loss: 0.4180 - accuracy: 0.7997\n",
            "Epoch 37/100\n",
            "614/614 [==============================] - 0s 48us/step - loss: 0.4169 - accuracy: 0.8029\n",
            "Epoch 38/100\n",
            "614/614 [==============================] - 0s 45us/step - loss: 0.4156 - accuracy: 0.8029\n",
            "Epoch 39/100\n",
            "614/614 [==============================] - 0s 46us/step - loss: 0.4149 - accuracy: 0.8013\n",
            "Epoch 40/100\n",
            "614/614 [==============================] - 0s 43us/step - loss: 0.4132 - accuracy: 0.8029\n",
            "Epoch 41/100\n",
            "614/614 [==============================] - 0s 47us/step - loss: 0.4126 - accuracy: 0.7997\n",
            "Epoch 42/100\n",
            "614/614 [==============================] - 0s 46us/step - loss: 0.4117 - accuracy: 0.8046\n",
            "Epoch 43/100\n",
            "614/614 [==============================] - 0s 49us/step - loss: 0.4098 - accuracy: 0.8013\n",
            "Epoch 44/100\n",
            "614/614 [==============================] - 0s 51us/step - loss: 0.4094 - accuracy: 0.8029\n",
            "Epoch 45/100\n",
            "614/614 [==============================] - 0s 45us/step - loss: 0.4077 - accuracy: 0.8029\n",
            "Epoch 46/100\n",
            "614/614 [==============================] - 0s 48us/step - loss: 0.4071 - accuracy: 0.8062\n",
            "Epoch 47/100\n",
            "614/614 [==============================] - 0s 47us/step - loss: 0.4052 - accuracy: 0.8046\n",
            "Epoch 48/100\n",
            "614/614 [==============================] - 0s 46us/step - loss: 0.4054 - accuracy: 0.8046\n",
            "Epoch 49/100\n",
            "614/614 [==============================] - 0s 52us/step - loss: 0.4038 - accuracy: 0.8111\n",
            "Epoch 50/100\n",
            "614/614 [==============================] - 0s 46us/step - loss: 0.4024 - accuracy: 0.8062\n",
            "Epoch 51/100\n",
            "614/614 [==============================] - 0s 45us/step - loss: 0.4019 - accuracy: 0.8160\n",
            "Epoch 52/100\n",
            "614/614 [==============================] - 0s 46us/step - loss: 0.4012 - accuracy: 0.8094\n",
            "Epoch 53/100\n",
            "614/614 [==============================] - 0s 49us/step - loss: 0.4004 - accuracy: 0.8111\n",
            "Epoch 54/100\n",
            "614/614 [==============================] - 0s 49us/step - loss: 0.3978 - accuracy: 0.8127\n",
            "Epoch 55/100\n",
            "614/614 [==============================] - 0s 50us/step - loss: 0.3973 - accuracy: 0.8094\n",
            "Epoch 56/100\n",
            "614/614 [==============================] - 0s 50us/step - loss: 0.3969 - accuracy: 0.8111\n",
            "Epoch 57/100\n",
            "614/614 [==============================] - 0s 46us/step - loss: 0.3980 - accuracy: 0.8143\n",
            "Epoch 58/100\n",
            "614/614 [==============================] - 0s 47us/step - loss: 0.3957 - accuracy: 0.8094\n",
            "Epoch 59/100\n",
            "614/614 [==============================] - 0s 45us/step - loss: 0.3948 - accuracy: 0.8094\n",
            "Epoch 60/100\n",
            "614/614 [==============================] - 0s 50us/step - loss: 0.3923 - accuracy: 0.8143\n",
            "Epoch 61/100\n",
            "614/614 [==============================] - 0s 47us/step - loss: 0.3925 - accuracy: 0.8176\n",
            "Epoch 62/100\n",
            "614/614 [==============================] - 0s 53us/step - loss: 0.3925 - accuracy: 0.8078\n",
            "Epoch 63/100\n",
            "614/614 [==============================] - 0s 46us/step - loss: 0.3897 - accuracy: 0.8143\n",
            "Epoch 64/100\n",
            "614/614 [==============================] - 0s 47us/step - loss: 0.3896 - accuracy: 0.8208\n",
            "Epoch 65/100\n",
            "614/614 [==============================] - 0s 52us/step - loss: 0.3885 - accuracy: 0.8160\n",
            "Epoch 66/100\n",
            "614/614 [==============================] - 0s 50us/step - loss: 0.3883 - accuracy: 0.8176\n",
            "Epoch 67/100\n",
            "614/614 [==============================] - 0s 47us/step - loss: 0.3862 - accuracy: 0.8225\n",
            "Epoch 68/100\n",
            "614/614 [==============================] - 0s 47us/step - loss: 0.3861 - accuracy: 0.8176\n",
            "Epoch 69/100\n",
            "614/614 [==============================] - 0s 47us/step - loss: 0.3845 - accuracy: 0.8176\n",
            "Epoch 70/100\n",
            "614/614 [==============================] - 0s 46us/step - loss: 0.3827 - accuracy: 0.8274\n",
            "Epoch 71/100\n",
            "614/614 [==============================] - 0s 51us/step - loss: 0.3821 - accuracy: 0.8322\n",
            "Epoch 72/100\n",
            "614/614 [==============================] - 0s 46us/step - loss: 0.3810 - accuracy: 0.8290\n",
            "Epoch 73/100\n",
            "614/614 [==============================] - 0s 47us/step - loss: 0.3816 - accuracy: 0.8306\n",
            "Epoch 74/100\n",
            "614/614 [==============================] - 0s 54us/step - loss: 0.3792 - accuracy: 0.8306\n",
            "Epoch 75/100\n",
            "614/614 [==============================] - 0s 46us/step - loss: 0.3784 - accuracy: 0.8306\n",
            "Epoch 76/100\n",
            "614/614 [==============================] - 0s 48us/step - loss: 0.3780 - accuracy: 0.8257\n",
            "Epoch 77/100\n",
            "614/614 [==============================] - 0s 60us/step - loss: 0.3769 - accuracy: 0.8290\n",
            "Epoch 78/100\n",
            "614/614 [==============================] - 0s 48us/step - loss: 0.3766 - accuracy: 0.8339\n",
            "Epoch 79/100\n",
            "614/614 [==============================] - 0s 53us/step - loss: 0.3749 - accuracy: 0.8322\n",
            "Epoch 80/100\n",
            "614/614 [==============================] - 0s 52us/step - loss: 0.3757 - accuracy: 0.8355\n",
            "Epoch 81/100\n",
            "614/614 [==============================] - 0s 48us/step - loss: 0.3773 - accuracy: 0.8208\n",
            "Epoch 82/100\n",
            "614/614 [==============================] - 0s 48us/step - loss: 0.3753 - accuracy: 0.8404\n",
            "Epoch 83/100\n",
            "614/614 [==============================] - 0s 45us/step - loss: 0.3722 - accuracy: 0.8322\n",
            "Epoch 84/100\n",
            "614/614 [==============================] - 0s 44us/step - loss: 0.3700 - accuracy: 0.8322\n",
            "Epoch 85/100\n",
            "614/614 [==============================] - 0s 47us/step - loss: 0.3691 - accuracy: 0.8322\n",
            "Epoch 86/100\n",
            "614/614 [==============================] - 0s 45us/step - loss: 0.3692 - accuracy: 0.8290\n",
            "Epoch 87/100\n",
            "614/614 [==============================] - 0s 49us/step - loss: 0.3728 - accuracy: 0.8355\n",
            "Epoch 88/100\n",
            "614/614 [==============================] - 0s 48us/step - loss: 0.3668 - accuracy: 0.8388\n",
            "Epoch 89/100\n",
            "614/614 [==============================] - 0s 45us/step - loss: 0.3672 - accuracy: 0.8355\n",
            "Epoch 90/100\n",
            "614/614 [==============================] - 0s 47us/step - loss: 0.3660 - accuracy: 0.8322\n",
            "Epoch 91/100\n",
            "614/614 [==============================] - 0s 45us/step - loss: 0.3636 - accuracy: 0.8404\n",
            "Epoch 92/100\n",
            "614/614 [==============================] - 0s 52us/step - loss: 0.3621 - accuracy: 0.8355\n",
            "Epoch 93/100\n",
            "614/614 [==============================] - 0s 56us/step - loss: 0.3615 - accuracy: 0.8355\n",
            "Epoch 94/100\n",
            "614/614 [==============================] - 0s 49us/step - loss: 0.3603 - accuracy: 0.8355\n",
            "Epoch 95/100\n",
            "614/614 [==============================] - 0s 47us/step - loss: 0.3605 - accuracy: 0.8339\n",
            "Epoch 96/100\n",
            "614/614 [==============================] - 0s 47us/step - loss: 0.3604 - accuracy: 0.8355\n",
            "Epoch 97/100\n",
            "614/614 [==============================] - 0s 46us/step - loss: 0.3600 - accuracy: 0.8371\n",
            "Epoch 98/100\n",
            "614/614 [==============================] - 0s 47us/step - loss: 0.3578 - accuracy: 0.8339\n",
            "Epoch 99/100\n",
            "614/614 [==============================] - 0s 47us/step - loss: 0.3571 - accuracy: 0.8404\n",
            "Epoch 100/100\n",
            "614/614 [==============================] - 0s 46us/step - loss: 0.3550 - accuracy: 0.8453\n"
          ],
          "name": "stdout"
        },
        {
          "output_type": "execute_result",
          "data": {
            "text/plain": [
              "<keras.callbacks.callbacks.History at 0x7fcd91bf7240>"
            ]
          },
          "metadata": {
            "tags": []
          },
          "execution_count": 30
        }
      ]
    },
    {
      "cell_type": "code",
      "metadata": {
        "id": "3k6yi-a1vLJH",
        "colab_type": "code",
        "colab": {
          "base_uri": "https://localhost:8080/",
          "height": 118
        },
        "outputId": "038de7b3-9719-4848-d865-b80137586989"
      },
      "source": [
        "scores = model.evaluate(X_train, y_train)\n",
        "print('Training Accuracy: %.2f%%\\n' % (scores[1]*100))\n",
        "\n",
        "scores = model.evaluate(X_test, y_test)\n",
        "print('Testing Accuracy: %.2f%%\\n' % (scores[1]*100))"
      ],
      "execution_count": 31,
      "outputs": [
        {
          "output_type": "stream",
          "text": [
            "614/614 [==============================] - 0s 60us/step\n",
            "Training Accuracy: 84.36%\n",
            "\n",
            "154/154 [==============================] - 0s 40us/step\n",
            "Testing Accuracy: 80.52%\n",
            "\n"
          ],
          "name": "stdout"
        }
      ]
    },
    {
      "cell_type": "code",
      "metadata": {
        "id": "iaRqhdR0vLJO",
        "colab_type": "code",
        "colab": {
          "base_uri": "https://localhost:8080/",
          "height": 6754
        },
        "outputId": "75501a2d-1d6b-49ba-b0f1-d0f3c2a33878"
      },
      "source": [
        "model.fit(X_train, y_train, epochs=200)"
      ],
      "execution_count": 32,
      "outputs": [
        {
          "output_type": "stream",
          "text": [
            "Epoch 1/200\n",
            "614/614 [==============================] - 0s 53us/step - loss: 0.3553 - accuracy: 0.8388\n",
            "Epoch 2/200\n",
            "614/614 [==============================] - 0s 47us/step - loss: 0.3544 - accuracy: 0.8306\n",
            "Epoch 3/200\n",
            "614/614 [==============================] - 0s 46us/step - loss: 0.3521 - accuracy: 0.8371\n",
            "Epoch 4/200\n",
            "614/614 [==============================] - 0s 48us/step - loss: 0.3527 - accuracy: 0.8404\n",
            "Epoch 5/200\n",
            "614/614 [==============================] - 0s 63us/step - loss: 0.3514 - accuracy: 0.8371\n",
            "Epoch 6/200\n",
            "614/614 [==============================] - 0s 47us/step - loss: 0.3493 - accuracy: 0.8420\n",
            "Epoch 7/200\n",
            "614/614 [==============================] - 0s 45us/step - loss: 0.3504 - accuracy: 0.8355\n",
            "Epoch 8/200\n",
            "614/614 [==============================] - 0s 50us/step - loss: 0.3487 - accuracy: 0.8388\n",
            "Epoch 9/200\n",
            "614/614 [==============================] - 0s 50us/step - loss: 0.3456 - accuracy: 0.8485\n",
            "Epoch 10/200\n",
            "614/614 [==============================] - 0s 49us/step - loss: 0.3458 - accuracy: 0.8388\n",
            "Epoch 11/200\n",
            "614/614 [==============================] - 0s 49us/step - loss: 0.3446 - accuracy: 0.8453\n",
            "Epoch 12/200\n",
            "614/614 [==============================] - 0s 48us/step - loss: 0.3444 - accuracy: 0.8469\n",
            "Epoch 13/200\n",
            "614/614 [==============================] - 0s 48us/step - loss: 0.3452 - accuracy: 0.8469\n",
            "Epoch 14/200\n",
            "614/614 [==============================] - 0s 49us/step - loss: 0.3420 - accuracy: 0.8436\n",
            "Epoch 15/200\n",
            "614/614 [==============================] - 0s 44us/step - loss: 0.3430 - accuracy: 0.8485\n",
            "Epoch 16/200\n",
            "614/614 [==============================] - 0s 45us/step - loss: 0.3410 - accuracy: 0.8420\n",
            "Epoch 17/200\n",
            "614/614 [==============================] - 0s 46us/step - loss: 0.3385 - accuracy: 0.8502\n",
            "Epoch 18/200\n",
            "614/614 [==============================] - 0s 52us/step - loss: 0.3370 - accuracy: 0.8502\n",
            "Epoch 19/200\n",
            "614/614 [==============================] - 0s 48us/step - loss: 0.3369 - accuracy: 0.8518\n",
            "Epoch 20/200\n",
            "614/614 [==============================] - 0s 47us/step - loss: 0.3380 - accuracy: 0.8518\n",
            "Epoch 21/200\n",
            "614/614 [==============================] - 0s 54us/step - loss: 0.3350 - accuracy: 0.8534\n",
            "Epoch 22/200\n",
            "614/614 [==============================] - 0s 54us/step - loss: 0.3341 - accuracy: 0.8534\n",
            "Epoch 23/200\n",
            "614/614 [==============================] - 0s 46us/step - loss: 0.3336 - accuracy: 0.8502\n",
            "Epoch 24/200\n",
            "614/614 [==============================] - 0s 48us/step - loss: 0.3325 - accuracy: 0.8469\n",
            "Epoch 25/200\n",
            "614/614 [==============================] - 0s 55us/step - loss: 0.3316 - accuracy: 0.8518\n",
            "Epoch 26/200\n",
            "614/614 [==============================] - 0s 50us/step - loss: 0.3307 - accuracy: 0.8567\n",
            "Epoch 27/200\n",
            "614/614 [==============================] - 0s 52us/step - loss: 0.3317 - accuracy: 0.8518\n",
            "Epoch 28/200\n",
            "614/614 [==============================] - 0s 58us/step - loss: 0.3285 - accuracy: 0.8534\n",
            "Epoch 29/200\n",
            "614/614 [==============================] - 0s 53us/step - loss: 0.3284 - accuracy: 0.8518\n",
            "Epoch 30/200\n",
            "614/614 [==============================] - 0s 49us/step - loss: 0.3271 - accuracy: 0.8502\n",
            "Epoch 31/200\n",
            "614/614 [==============================] - 0s 46us/step - loss: 0.3283 - accuracy: 0.8502\n",
            "Epoch 32/200\n",
            "614/614 [==============================] - 0s 50us/step - loss: 0.3278 - accuracy: 0.8534\n",
            "Epoch 33/200\n",
            "614/614 [==============================] - 0s 51us/step - loss: 0.3264 - accuracy: 0.8502\n",
            "Epoch 34/200\n",
            "614/614 [==============================] - 0s 48us/step - loss: 0.3255 - accuracy: 0.8518\n",
            "Epoch 35/200\n",
            "614/614 [==============================] - 0s 45us/step - loss: 0.3235 - accuracy: 0.8534\n",
            "Epoch 36/200\n",
            "614/614 [==============================] - 0s 46us/step - loss: 0.3240 - accuracy: 0.8534\n",
            "Epoch 37/200\n",
            "614/614 [==============================] - 0s 58us/step - loss: 0.3209 - accuracy: 0.8518\n",
            "Epoch 38/200\n",
            "614/614 [==============================] - 0s 46us/step - loss: 0.3209 - accuracy: 0.8550\n",
            "Epoch 39/200\n",
            "614/614 [==============================] - 0s 47us/step - loss: 0.3198 - accuracy: 0.8567\n",
            "Epoch 40/200\n",
            "614/614 [==============================] - 0s 47us/step - loss: 0.3189 - accuracy: 0.8583\n",
            "Epoch 41/200\n",
            "614/614 [==============================] - 0s 46us/step - loss: 0.3179 - accuracy: 0.8583\n",
            "Epoch 42/200\n",
            "614/614 [==============================] - 0s 48us/step - loss: 0.3162 - accuracy: 0.8567\n",
            "Epoch 43/200\n",
            "614/614 [==============================] - 0s 48us/step - loss: 0.3153 - accuracy: 0.8534\n",
            "Epoch 44/200\n",
            "614/614 [==============================] - 0s 50us/step - loss: 0.3145 - accuracy: 0.8632\n",
            "Epoch 45/200\n",
            "614/614 [==============================] - 0s 46us/step - loss: 0.3150 - accuracy: 0.8550\n",
            "Epoch 46/200\n",
            "614/614 [==============================] - 0s 50us/step - loss: 0.3156 - accuracy: 0.8567\n",
            "Epoch 47/200\n",
            "614/614 [==============================] - 0s 44us/step - loss: 0.3169 - accuracy: 0.8550\n",
            "Epoch 48/200\n",
            "614/614 [==============================] - 0s 48us/step - loss: 0.3122 - accuracy: 0.8616\n",
            "Epoch 49/200\n",
            "614/614 [==============================] - 0s 57us/step - loss: 0.3110 - accuracy: 0.8616\n",
            "Epoch 50/200\n",
            "614/614 [==============================] - 0s 48us/step - loss: 0.3089 - accuracy: 0.8616\n",
            "Epoch 51/200\n",
            "614/614 [==============================] - 0s 51us/step - loss: 0.3095 - accuracy: 0.8583\n",
            "Epoch 52/200\n",
            "614/614 [==============================] - 0s 48us/step - loss: 0.3074 - accuracy: 0.8599\n",
            "Epoch 53/200\n",
            "614/614 [==============================] - 0s 48us/step - loss: 0.3073 - accuracy: 0.8599\n",
            "Epoch 54/200\n",
            "614/614 [==============================] - 0s 46us/step - loss: 0.3062 - accuracy: 0.8632\n",
            "Epoch 55/200\n",
            "614/614 [==============================] - 0s 47us/step - loss: 0.3053 - accuracy: 0.8648\n",
            "Epoch 56/200\n",
            "614/614 [==============================] - 0s 48us/step - loss: 0.3052 - accuracy: 0.8616\n",
            "Epoch 57/200\n",
            "614/614 [==============================] - 0s 49us/step - loss: 0.3079 - accuracy: 0.8567\n",
            "Epoch 58/200\n",
            "614/614 [==============================] - 0s 50us/step - loss: 0.3030 - accuracy: 0.8567\n",
            "Epoch 59/200\n",
            "614/614 [==============================] - 0s 49us/step - loss: 0.3022 - accuracy: 0.8632\n",
            "Epoch 60/200\n",
            "614/614 [==============================] - 0s 48us/step - loss: 0.3010 - accuracy: 0.8632\n",
            "Epoch 61/200\n",
            "614/614 [==============================] - 0s 48us/step - loss: 0.3007 - accuracy: 0.8632\n",
            "Epoch 62/200\n",
            "614/614 [==============================] - 0s 51us/step - loss: 0.2994 - accuracy: 0.8616\n",
            "Epoch 63/200\n",
            "614/614 [==============================] - 0s 45us/step - loss: 0.2989 - accuracy: 0.8616\n",
            "Epoch 64/200\n",
            "614/614 [==============================] - 0s 46us/step - loss: 0.2970 - accuracy: 0.8664\n",
            "Epoch 65/200\n",
            "614/614 [==============================] - 0s 48us/step - loss: 0.2978 - accuracy: 0.8648\n",
            "Epoch 66/200\n",
            "614/614 [==============================] - 0s 50us/step - loss: 0.2988 - accuracy: 0.8664\n",
            "Epoch 67/200\n",
            "614/614 [==============================] - 0s 47us/step - loss: 0.2956 - accuracy: 0.8664\n",
            "Epoch 68/200\n",
            "614/614 [==============================] - 0s 47us/step - loss: 0.2959 - accuracy: 0.8681\n",
            "Epoch 69/200\n",
            "614/614 [==============================] - 0s 56us/step - loss: 0.2927 - accuracy: 0.8681\n",
            "Epoch 70/200\n",
            "614/614 [==============================] - 0s 44us/step - loss: 0.2925 - accuracy: 0.8697\n",
            "Epoch 71/200\n",
            "614/614 [==============================] - 0s 58us/step - loss: 0.2914 - accuracy: 0.8795\n",
            "Epoch 72/200\n",
            "614/614 [==============================] - 0s 50us/step - loss: 0.2917 - accuracy: 0.8730\n",
            "Epoch 73/200\n",
            "614/614 [==============================] - 0s 50us/step - loss: 0.2932 - accuracy: 0.8713\n",
            "Epoch 74/200\n",
            "614/614 [==============================] - 0s 53us/step - loss: 0.2889 - accuracy: 0.8713\n",
            "Epoch 75/200\n",
            "614/614 [==============================] - 0s 46us/step - loss: 0.2876 - accuracy: 0.8762\n",
            "Epoch 76/200\n",
            "614/614 [==============================] - 0s 50us/step - loss: 0.2867 - accuracy: 0.8779\n",
            "Epoch 77/200\n",
            "614/614 [==============================] - 0s 48us/step - loss: 0.2873 - accuracy: 0.8795\n",
            "Epoch 78/200\n",
            "614/614 [==============================] - 0s 44us/step - loss: 0.2855 - accuracy: 0.8779\n",
            "Epoch 79/200\n",
            "614/614 [==============================] - 0s 46us/step - loss: 0.2838 - accuracy: 0.8762\n",
            "Epoch 80/200\n",
            "614/614 [==============================] - 0s 45us/step - loss: 0.2839 - accuracy: 0.8762\n",
            "Epoch 81/200\n",
            "614/614 [==============================] - 0s 49us/step - loss: 0.2830 - accuracy: 0.8713\n",
            "Epoch 82/200\n",
            "614/614 [==============================] - 0s 44us/step - loss: 0.2833 - accuracy: 0.8746\n",
            "Epoch 83/200\n",
            "614/614 [==============================] - 0s 45us/step - loss: 0.2813 - accuracy: 0.8762\n",
            "Epoch 84/200\n",
            "614/614 [==============================] - 0s 52us/step - loss: 0.2795 - accuracy: 0.8762\n",
            "Epoch 85/200\n",
            "614/614 [==============================] - 0s 50us/step - loss: 0.2790 - accuracy: 0.8795\n",
            "Epoch 86/200\n",
            "614/614 [==============================] - 0s 48us/step - loss: 0.2791 - accuracy: 0.8779\n",
            "Epoch 87/200\n",
            "614/614 [==============================] - 0s 50us/step - loss: 0.2779 - accuracy: 0.8827\n",
            "Epoch 88/200\n",
            "614/614 [==============================] - 0s 48us/step - loss: 0.2778 - accuracy: 0.8795\n",
            "Epoch 89/200\n",
            "614/614 [==============================] - 0s 47us/step - loss: 0.2758 - accuracy: 0.8811\n",
            "Epoch 90/200\n",
            "614/614 [==============================] - 0s 45us/step - loss: 0.2744 - accuracy: 0.8827\n",
            "Epoch 91/200\n",
            "614/614 [==============================] - 0s 46us/step - loss: 0.2734 - accuracy: 0.8795\n",
            "Epoch 92/200\n",
            "614/614 [==============================] - 0s 45us/step - loss: 0.2731 - accuracy: 0.8844\n",
            "Epoch 93/200\n",
            "614/614 [==============================] - 0s 50us/step - loss: 0.2716 - accuracy: 0.8860\n",
            "Epoch 94/200\n",
            "614/614 [==============================] - 0s 45us/step - loss: 0.2716 - accuracy: 0.8811\n",
            "Epoch 95/200\n",
            "614/614 [==============================] - 0s 46us/step - loss: 0.2734 - accuracy: 0.8795\n",
            "Epoch 96/200\n",
            "614/614 [==============================] - 0s 47us/step - loss: 0.2693 - accuracy: 0.8876\n",
            "Epoch 97/200\n",
            "614/614 [==============================] - 0s 47us/step - loss: 0.2696 - accuracy: 0.8844\n",
            "Epoch 98/200\n",
            "614/614 [==============================] - 0s 45us/step - loss: 0.2689 - accuracy: 0.8844\n",
            "Epoch 99/200\n",
            "614/614 [==============================] - 0s 44us/step - loss: 0.2660 - accuracy: 0.8827\n",
            "Epoch 100/200\n",
            "614/614 [==============================] - 0s 45us/step - loss: 0.2662 - accuracy: 0.8844\n",
            "Epoch 101/200\n",
            "614/614 [==============================] - 0s 47us/step - loss: 0.2635 - accuracy: 0.8876\n",
            "Epoch 102/200\n",
            "614/614 [==============================] - 0s 61us/step - loss: 0.2645 - accuracy: 0.8893\n",
            "Epoch 103/200\n",
            "614/614 [==============================] - 0s 51us/step - loss: 0.2644 - accuracy: 0.8876\n",
            "Epoch 104/200\n",
            "614/614 [==============================] - 0s 44us/step - loss: 0.2634 - accuracy: 0.8827\n",
            "Epoch 105/200\n",
            "614/614 [==============================] - 0s 51us/step - loss: 0.2611 - accuracy: 0.8893\n",
            "Epoch 106/200\n",
            "614/614 [==============================] - 0s 47us/step - loss: 0.2603 - accuracy: 0.8844\n",
            "Epoch 107/200\n",
            "614/614 [==============================] - 0s 46us/step - loss: 0.2584 - accuracy: 0.8893\n",
            "Epoch 108/200\n",
            "614/614 [==============================] - 0s 51us/step - loss: 0.2589 - accuracy: 0.8876\n",
            "Epoch 109/200\n",
            "614/614 [==============================] - 0s 53us/step - loss: 0.2582 - accuracy: 0.8925\n",
            "Epoch 110/200\n",
            "614/614 [==============================] - 0s 46us/step - loss: 0.2557 - accuracy: 0.8909\n",
            "Epoch 111/200\n",
            "614/614 [==============================] - 0s 48us/step - loss: 0.2565 - accuracy: 0.8909\n",
            "Epoch 112/200\n",
            "614/614 [==============================] - 0s 50us/step - loss: 0.2544 - accuracy: 0.8909\n",
            "Epoch 113/200\n",
            "614/614 [==============================] - 0s 49us/step - loss: 0.2524 - accuracy: 0.8909\n",
            "Epoch 114/200\n",
            "614/614 [==============================] - 0s 47us/step - loss: 0.2511 - accuracy: 0.8925\n",
            "Epoch 115/200\n",
            "614/614 [==============================] - 0s 47us/step - loss: 0.2549 - accuracy: 0.8974\n",
            "Epoch 116/200\n",
            "614/614 [==============================] - 0s 47us/step - loss: 0.2516 - accuracy: 0.8974\n",
            "Epoch 117/200\n",
            "614/614 [==============================] - 0s 51us/step - loss: 0.2512 - accuracy: 0.8974\n",
            "Epoch 118/200\n",
            "614/614 [==============================] - 0s 47us/step - loss: 0.2481 - accuracy: 0.8990\n",
            "Epoch 119/200\n",
            "614/614 [==============================] - 0s 48us/step - loss: 0.2479 - accuracy: 0.8958\n",
            "Epoch 120/200\n",
            "614/614 [==============================] - 0s 45us/step - loss: 0.2480 - accuracy: 0.8958\n",
            "Epoch 121/200\n",
            "614/614 [==============================] - 0s 46us/step - loss: 0.2454 - accuracy: 0.8958\n",
            "Epoch 122/200\n",
            "614/614 [==============================] - 0s 45us/step - loss: 0.2455 - accuracy: 0.8958\n",
            "Epoch 123/200\n",
            "614/614 [==============================] - 0s 46us/step - loss: 0.2455 - accuracy: 0.9039\n",
            "Epoch 124/200\n",
            "614/614 [==============================] - 0s 45us/step - loss: 0.2440 - accuracy: 0.8958\n",
            "Epoch 125/200\n",
            "614/614 [==============================] - 0s 44us/step - loss: 0.2433 - accuracy: 0.9055\n",
            "Epoch 126/200\n",
            "614/614 [==============================] - 0s 45us/step - loss: 0.2411 - accuracy: 0.8990\n",
            "Epoch 127/200\n",
            "614/614 [==============================] - 0s 45us/step - loss: 0.2409 - accuracy: 0.9023\n",
            "Epoch 128/200\n",
            "614/614 [==============================] - 0s 44us/step - loss: 0.2381 - accuracy: 0.9023\n",
            "Epoch 129/200\n",
            "614/614 [==============================] - 0s 46us/step - loss: 0.2403 - accuracy: 0.8990\n",
            "Epoch 130/200\n",
            "614/614 [==============================] - 0s 43us/step - loss: 0.2454 - accuracy: 0.9007\n",
            "Epoch 131/200\n",
            "614/614 [==============================] - 0s 43us/step - loss: 0.2383 - accuracy: 0.9072\n",
            "Epoch 132/200\n",
            "614/614 [==============================] - 0s 45us/step - loss: 0.2375 - accuracy: 0.8990\n",
            "Epoch 133/200\n",
            "614/614 [==============================] - 0s 46us/step - loss: 0.2372 - accuracy: 0.9023\n",
            "Epoch 134/200\n",
            "614/614 [==============================] - 0s 44us/step - loss: 0.2341 - accuracy: 0.9039\n",
            "Epoch 135/200\n",
            "614/614 [==============================] - 0s 49us/step - loss: 0.2354 - accuracy: 0.9055\n",
            "Epoch 136/200\n",
            "614/614 [==============================] - 0s 45us/step - loss: 0.2332 - accuracy: 0.8990\n",
            "Epoch 137/200\n",
            "614/614 [==============================] - 0s 43us/step - loss: 0.2337 - accuracy: 0.9023\n",
            "Epoch 138/200\n",
            "614/614 [==============================] - 0s 45us/step - loss: 0.2320 - accuracy: 0.9104\n",
            "Epoch 139/200\n",
            "614/614 [==============================] - 0s 47us/step - loss: 0.2339 - accuracy: 0.9088\n",
            "Epoch 140/200\n",
            "614/614 [==============================] - 0s 46us/step - loss: 0.2328 - accuracy: 0.9055\n",
            "Epoch 141/200\n",
            "614/614 [==============================] - 0s 43us/step - loss: 0.2294 - accuracy: 0.9088\n",
            "Epoch 142/200\n",
            "614/614 [==============================] - 0s 45us/step - loss: 0.2288 - accuracy: 0.9055\n",
            "Epoch 143/200\n",
            "614/614 [==============================] - 0s 45us/step - loss: 0.2271 - accuracy: 0.9088\n",
            "Epoch 144/200\n",
            "614/614 [==============================] - 0s 45us/step - loss: 0.2261 - accuracy: 0.9121\n",
            "Epoch 145/200\n",
            "614/614 [==============================] - 0s 42us/step - loss: 0.2264 - accuracy: 0.9072\n",
            "Epoch 146/200\n",
            "614/614 [==============================] - 0s 45us/step - loss: 0.2239 - accuracy: 0.9088\n",
            "Epoch 147/200\n",
            "614/614 [==============================] - 0s 46us/step - loss: 0.2238 - accuracy: 0.9169\n",
            "Epoch 148/200\n",
            "614/614 [==============================] - 0s 47us/step - loss: 0.2223 - accuracy: 0.9121\n",
            "Epoch 149/200\n",
            "614/614 [==============================] - 0s 43us/step - loss: 0.2236 - accuracy: 0.9104\n",
            "Epoch 150/200\n",
            "614/614 [==============================] - 0s 49us/step - loss: 0.2217 - accuracy: 0.9202\n",
            "Epoch 151/200\n",
            "614/614 [==============================] - 0s 44us/step - loss: 0.2202 - accuracy: 0.9121\n",
            "Epoch 152/200\n",
            "614/614 [==============================] - 0s 46us/step - loss: 0.2306 - accuracy: 0.9104\n",
            "Epoch 153/200\n",
            "614/614 [==============================] - 0s 45us/step - loss: 0.2234 - accuracy: 0.9088\n",
            "Epoch 154/200\n",
            "614/614 [==============================] - 0s 45us/step - loss: 0.2186 - accuracy: 0.9121\n",
            "Epoch 155/200\n",
            "614/614 [==============================] - 0s 45us/step - loss: 0.2190 - accuracy: 0.9169\n",
            "Epoch 156/200\n",
            "614/614 [==============================] - 0s 44us/step - loss: 0.2188 - accuracy: 0.9137\n",
            "Epoch 157/200\n",
            "614/614 [==============================] - 0s 43us/step - loss: 0.2164 - accuracy: 0.9153\n",
            "Epoch 158/200\n",
            "614/614 [==============================] - 0s 52us/step - loss: 0.2170 - accuracy: 0.9186\n",
            "Epoch 159/200\n",
            "614/614 [==============================] - 0s 45us/step - loss: 0.2140 - accuracy: 0.9153\n",
            "Epoch 160/200\n",
            "614/614 [==============================] - 0s 52us/step - loss: 0.2126 - accuracy: 0.9153\n",
            "Epoch 161/200\n",
            "614/614 [==============================] - 0s 46us/step - loss: 0.2134 - accuracy: 0.9121\n",
            "Epoch 162/200\n",
            "614/614 [==============================] - 0s 49us/step - loss: 0.2123 - accuracy: 0.9202\n",
            "Epoch 163/200\n",
            "614/614 [==============================] - 0s 45us/step - loss: 0.2110 - accuracy: 0.9186\n",
            "Epoch 164/200\n",
            "614/614 [==============================] - 0s 43us/step - loss: 0.2118 - accuracy: 0.9169\n",
            "Epoch 165/200\n",
            "614/614 [==============================] - 0s 49us/step - loss: 0.2132 - accuracy: 0.9186\n",
            "Epoch 166/200\n",
            "614/614 [==============================] - 0s 47us/step - loss: 0.2094 - accuracy: 0.9218\n",
            "Epoch 167/200\n",
            "614/614 [==============================] - 0s 47us/step - loss: 0.2081 - accuracy: 0.9202\n",
            "Epoch 168/200\n",
            "614/614 [==============================] - 0s 46us/step - loss: 0.2073 - accuracy: 0.9218\n",
            "Epoch 169/200\n",
            "614/614 [==============================] - 0s 51us/step - loss: 0.2063 - accuracy: 0.9186\n",
            "Epoch 170/200\n",
            "614/614 [==============================] - 0s 49us/step - loss: 0.2078 - accuracy: 0.9202\n",
            "Epoch 171/200\n",
            "614/614 [==============================] - 0s 47us/step - loss: 0.2049 - accuracy: 0.9235\n",
            "Epoch 172/200\n",
            "614/614 [==============================] - 0s 44us/step - loss: 0.2044 - accuracy: 0.9251\n",
            "Epoch 173/200\n",
            "614/614 [==============================] - 0s 50us/step - loss: 0.2031 - accuracy: 0.9235\n",
            "Epoch 174/200\n",
            "614/614 [==============================] - 0s 46us/step - loss: 0.2023 - accuracy: 0.9186\n",
            "Epoch 175/200\n",
            "614/614 [==============================] - 0s 45us/step - loss: 0.2049 - accuracy: 0.9235\n",
            "Epoch 176/200\n",
            "614/614 [==============================] - 0s 45us/step - loss: 0.2096 - accuracy: 0.9202\n",
            "Epoch 177/200\n",
            "614/614 [==============================] - 0s 45us/step - loss: 0.2064 - accuracy: 0.9218\n",
            "Epoch 178/200\n",
            "614/614 [==============================] - 0s 45us/step - loss: 0.2002 - accuracy: 0.9267\n",
            "Epoch 179/200\n",
            "614/614 [==============================] - 0s 45us/step - loss: 0.1979 - accuracy: 0.9202\n",
            "Epoch 180/200\n",
            "614/614 [==============================] - 0s 44us/step - loss: 0.1996 - accuracy: 0.9186\n",
            "Epoch 181/200\n",
            "614/614 [==============================] - 0s 45us/step - loss: 0.1985 - accuracy: 0.9235\n",
            "Epoch 182/200\n",
            "614/614 [==============================] - 0s 44us/step - loss: 0.1981 - accuracy: 0.9283\n",
            "Epoch 183/200\n",
            "614/614 [==============================] - 0s 44us/step - loss: 0.1970 - accuracy: 0.9251\n",
            "Epoch 184/200\n",
            "614/614 [==============================] - 0s 45us/step - loss: 0.1953 - accuracy: 0.9218\n",
            "Epoch 185/200\n",
            "614/614 [==============================] - 0s 43us/step - loss: 0.1920 - accuracy: 0.9235\n",
            "Epoch 186/200\n",
            "614/614 [==============================] - 0s 44us/step - loss: 0.1918 - accuracy: 0.9300\n",
            "Epoch 187/200\n",
            "614/614 [==============================] - 0s 44us/step - loss: 0.1921 - accuracy: 0.9235\n",
            "Epoch 188/200\n",
            "614/614 [==============================] - 0s 49us/step - loss: 0.1913 - accuracy: 0.9300\n",
            "Epoch 189/200\n",
            "614/614 [==============================] - 0s 44us/step - loss: 0.1900 - accuracy: 0.9283\n",
            "Epoch 190/200\n",
            "614/614 [==============================] - 0s 42us/step - loss: 0.1902 - accuracy: 0.9381\n",
            "Epoch 191/200\n",
            "614/614 [==============================] - 0s 44us/step - loss: 0.1895 - accuracy: 0.9283\n",
            "Epoch 192/200\n",
            "614/614 [==============================] - 0s 47us/step - loss: 0.1884 - accuracy: 0.9300\n",
            "Epoch 193/200\n",
            "614/614 [==============================] - 0s 44us/step - loss: 0.1874 - accuracy: 0.9349\n",
            "Epoch 194/200\n",
            "614/614 [==============================] - 0s 43us/step - loss: 0.1885 - accuracy: 0.9300\n",
            "Epoch 195/200\n",
            "614/614 [==============================] - 0s 45us/step - loss: 0.1860 - accuracy: 0.9332\n",
            "Epoch 196/200\n",
            "614/614 [==============================] - 0s 48us/step - loss: 0.1871 - accuracy: 0.9316\n",
            "Epoch 197/200\n",
            "614/614 [==============================] - 0s 53us/step - loss: 0.1864 - accuracy: 0.9397\n",
            "Epoch 198/200\n",
            "614/614 [==============================] - 0s 46us/step - loss: 0.1830 - accuracy: 0.9349\n",
            "Epoch 199/200\n",
            "614/614 [==============================] - 0s 45us/step - loss: 0.1852 - accuracy: 0.9316\n",
            "Epoch 200/200\n",
            "614/614 [==============================] - 0s 44us/step - loss: 0.1821 - accuracy: 0.9397\n"
          ],
          "name": "stdout"
        },
        {
          "output_type": "execute_result",
          "data": {
            "text/plain": [
              "<keras.callbacks.callbacks.History at 0x7fcd8b908160>"
            ]
          },
          "metadata": {
            "tags": []
          },
          "execution_count": 32
        }
      ]
    },
    {
      "cell_type": "code",
      "metadata": {
        "id": "VxkmSz_4vLJT",
        "colab_type": "code",
        "colab": {
          "base_uri": "https://localhost:8080/",
          "height": 118
        },
        "outputId": "85c67962-86c1-40f6-a535-3f144e68b770"
      },
      "source": [
        "scores = model.evaluate(X_train, y_train)\n",
        "print('Training Accuracy: %.2f%%\\n' % (scores[1]*100))\n",
        "\n",
        "scores = model.evaluate(X_test, y_test)\n",
        "print('Testing Accuracy: %.2f%%\\n' % (scores[1]*100))"
      ],
      "execution_count": 33,
      "outputs": [
        {
          "output_type": "stream",
          "text": [
            "614/614 [==============================] - 0s 28us/step\n",
            "Training Accuracy: 94.14%\n",
            "\n",
            "154/154 [==============================] - 0s 33us/step\n",
            "Testing Accuracy: 78.57%\n",
            "\n"
          ],
          "name": "stdout"
        }
      ]
    },
    {
      "cell_type": "markdown",
      "metadata": {
        "id": "AgQc8JwQvLJc",
        "colab_type": "text"
      },
      "source": [
        "The loss decreases and the accuracy increases over each epoch, as the learning algorithm continuously updates the weights and biases in the MLP according to the training data."
      ]
    },
    {
      "cell_type": "markdown",
      "metadata": {
        "colab_type": "text",
        "id": "Wde_0Omfkve6"
      },
      "source": [
        "Question 7. Evaluate the training and testing sets’ accuracy."
      ]
    },
    {
      "cell_type": "code",
      "metadata": {
        "id": "kFej0UZDZ_r9",
        "colab_type": "code",
        "colab": {
          "base_uri": "https://localhost:8080/",
          "height": 84
        },
        "outputId": "fcd27bd5-e105-443d-c1eb-1c4db74a87b6"
      },
      "source": [
        "loss, acc = model.evaluate(X_train,y_train, verbose=0)\n",
        "print('Train Accuracy: %.2f%%\\n' % (acc*100))\n",
        "\n",
        "loss, acc = model.evaluate(X_test, y_test, verbose=0)\n",
        "print('Test Accuracy: %.2f%%\\n' % (acc*100))"
      ],
      "execution_count": 34,
      "outputs": [
        {
          "output_type": "stream",
          "text": [
            "Train Accuracy: 94.14%\n",
            "\n",
            "Test Accuracy: 78.57%\n",
            "\n"
          ],
          "name": "stdout"
        }
      ]
    },
    {
      "cell_type": "markdown",
      "metadata": {
        "id": "Tc5q669AvqN5",
        "colab_type": "text"
      },
      "source": [
        "The models which are trained more, have more training accuracy and testing accuracy. For the model which is trained with 100 epochs, it has a training accuracy of almost 84.36 percent and testing accuracy of 80.52 percent.\n",
        "\n",
        "Where as, for the model which is trained with 200 epochs, it has a training accuracy of almsot 94.14 percent and testing accuracy of 78.57 percent. If we see the testing accuracies of both models, the number of epochs doesn't seem to be matter as they are almost same.\n",
        "\n",
        "It also shows that the model is overfitting."
      ]
    },
    {
      "cell_type": "markdown",
      "metadata": {
        "colab_type": "text",
        "id": "pA2jau3Ekve-"
      },
      "source": [
        "Question 8. Provide the confusion matrix using seaborn. What are your conclusions?"
      ]
    },
    {
      "cell_type": "code",
      "metadata": {
        "colab_type": "code",
        "id": "IQHMwUBskve-",
        "colab": {
          "base_uri": "https://localhost:8080/",
          "height": 296
        },
        "outputId": "f0c5a081-2f5a-4507-9e0f-f92aae86282b"
      },
      "source": [
        "from sklearn.metrics import confusion_matrix\n",
        "import seaborn as sns\n",
        "\n",
        "y_test_pred = model.predict_classes(X_test)\n",
        "c_matrix = confusion_matrix(y_test, y_test_pred)\n",
        "ax = sns.heatmap(c_matrix, annot=True, \n",
        "                 xticklabels=['No Diabetes','Diabetes'],\n",
        "                 yticklabels=['No Diabetes','Diabetes'], \n",
        "                 cbar=False, cmap='Blues')\n",
        "ax.set_xlabel('Prediction')\n",
        "ax.set_ylabel('Actual')"
      ],
      "execution_count": 35,
      "outputs": [
        {
          "output_type": "execute_result",
          "data": {
            "text/plain": [
              "Text(33.0, 0.5, 'Actual')"
            ]
          },
          "metadata": {
            "tags": []
          },
          "execution_count": 35
        },
        {
          "output_type": "display_data",
          "data": {
            "image/png": "[encoded data removed]",
            "text/plain": [
              "<Figure size 432x288 with 1 Axes>"
            ]
          },
          "metadata": {
            "tags": [],
            "needs_background": "light"
          }
        }
      ]
    },
    {
      "cell_type": "markdown",
      "metadata": {
        "id": "hR_ZfkPSvLJ2",
        "colab_type": "text"
      },
      "source": [
        "From, the confusion matrix, you can say that most of the predictions were true (82 + 39 = 121). It has predicted almost 121 true with only 14 + 19 = 33 false."
      ]
    },
    {
      "cell_type": "markdown",
      "metadata": {
        "colab_type": "text",
        "id": "JgC_JP2nkvfB"
      },
      "source": [
        "Question 9. Provide the ROC graph. What is the area under the curve? What are your conclusions?"
      ]
    },
    {
      "cell_type": "code",
      "metadata": {
        "colab_type": "code",
        "id": "p1Cx8HTOkvfC",
        "colab": {}
      },
      "source": [
        "from sklearn.metrics import roc_curve\n",
        "import matplotlib.pyplot as plt\n",
        "\n",
        "y_test_pred_probs = model.predict(X_test)"
      ],
      "execution_count": 0,
      "outputs": []
    },
    {
      "cell_type": "code",
      "metadata": {
        "id": "QNIw7W0tvLKB",
        "colab_type": "code",
        "colab": {}
      },
      "source": [
        "FPR, TPR, _ = roc_curve(y_test, y_test_pred_probs)"
      ],
      "execution_count": 0,
      "outputs": []
    },
    {
      "cell_type": "code",
      "metadata": {
        "id": "-vxV36bBvLKM",
        "colab_type": "code",
        "colab": {
          "base_uri": "https://localhost:8080/",
          "height": 312
        },
        "outputId": "e8f72c3f-cd6b-4dcc-bd6e-c98a81668803"
      },
      "source": [
        "plt.plot(FPR, TPR)\n",
        "plt.plot([0,1],[0,1],'--', color='black')\n",
        "plt.title('ROC Curve')\n",
        "plt.xlabel('False Positive Rate')\n",
        "plt.ylabel('True Positive Rate')"
      ],
      "execution_count": 38,
      "outputs": [
        {
          "output_type": "execute_result",
          "data": {
            "text/plain": [
              "Text(0, 0.5, 'True Positive Rate')"
            ]
          },
          "metadata": {
            "tags": []
          },
          "execution_count": 38
        },
        {
          "output_type": "display_data",
          "data": {
            "image/png": "[encoded data removed]",
            "text/plain": [
              "<Figure size 432x288 with 1 Axes>"
            ]
          },
          "metadata": {
            "tags": [],
            "needs_background": "light"
          }
        }
      ]
    },
    {
      "cell_type": "markdown",
      "metadata": {
        "id": "flMkHOYJvLKS",
        "colab_type": "text"
      },
      "source": [
        "The area under the curve (AUC) to evaluate the performance of the model that produced the curve.\n",
        "\n",
        "A large AUC indicates that the model is able to differentiate the respective classes with high accuracy, while a low AUC indicates that the model makes poor, often wrong predictions. A ROC curve that lies on the diagonal indicates that the model does no better than random.\n",
        "\n",
        "We can say that the model is performing well. That is, it is making good predictions."
      ]
    },
    {
      "cell_type": "markdown",
      "metadata": {
        "colab_type": "text",
        "id": "3LW90rTJkvfG"
      },
      "source": [
        "Question 10. What is the purpose of the activation function? Provide an example."
      ]
    },
    {
      "cell_type": "markdown",
      "metadata": {
        "id": "7KhacvuQ33CV",
        "colab_type": "text"
      },
      "source": [
        "The purpose of an activation function is to add some kind of non-linear property to the function. Example: Linear Activation Function. It takes the inputs, multiplied by the weights for each neuron, and creates an output signal proportional to the input."
      ]
    },
    {
      "cell_type": "markdown",
      "metadata": {
        "colab_type": "text",
        "id": "Jpb46p5DkvfJ"
      },
      "source": [
        "Question 11. What is binary cross-entropy and when is it used?"
      ]
    },
    {
      "cell_type": "markdown",
      "metadata": {
        "id": "Fwx7rstY4LL4",
        "colab_type": "text"
      },
      "source": [
        "The binary crossentropy function is used on yes/no decisions. The loss tells you how wrong your model’s predictions are.\n",
        "Example: You want to determine the mood of a piece of music. Every piece can have more than one mood, for instance, it can be both \"Happy\" and \"Energetic\" at the same time. To solve this problem you use binary crossentropy."
      ]
    },
    {
      "cell_type": "code",
      "metadata": {
        "id": "xZLlZke0eefF",
        "colab_type": "code",
        "colab": {}
      },
      "source": [
        "#model.save('Diabetes_Final')"
      ],
      "execution_count": 0,
      "outputs": []
    },
    {
      "cell_type": "code",
      "metadata": {
        "id": "TJ1Fjk2ve8em",
        "colab_type": "code",
        "colab": {
          "base_uri": "https://localhost:8080/",
          "height": 252
        },
        "outputId": "9947dfd7-685f-4fe2-abb2-11c5ec17df21"
      },
      "source": [
        "model.summary()"
      ],
      "execution_count": 40,
      "outputs": [
        {
          "output_type": "stream",
          "text": [
            "Model: \"sequential_1\"\n",
            "_________________________________________________________________\n",
            "Layer (type)                 Output Shape              Param #   \n",
            "=================================================================\n",
            "dense_1 (Dense)              (None, 32)                288       \n",
            "_________________________________________________________________\n",
            "dense_2 (Dense)              (None, 16)                528       \n",
            "_________________________________________________________________\n",
            "dense_3 (Dense)              (None, 1)                 17        \n",
            "=================================================================\n",
            "Total params: 833\n",
            "Trainable params: 833\n",
            "Non-trainable params: 0\n",
            "_________________________________________________________________\n"
          ],
          "name": "stdout"
        }
      ]
    },
    {
      "cell_type": "markdown",
      "metadata": {
        "colab_type": "text",
        "id": "VC_AGkuSkvfM"
      },
      "source": [
        "=========================================================================="
      ]
    },
    {
      "cell_type": "markdown",
      "metadata": {
        "colab_type": "text",
        "id": "4hNBAFMrkvfN"
      },
      "source": [
        "## Exercise 3. Natural Language Processing Applications (40 points)\n",
        "Use the ‘train_comment_small_100.csv’ in Data Files folder.\n",
        "\n",
        "Question 1. Open a new Jupyter notebook or Google Colab. Import numpy, pandas and matplotlib.pyplot.\n",
        "\n",
        "Load the dataset into a data frame."
      ]
    },
    {
      "cell_type": "code",
      "metadata": {
        "colab_type": "code",
        "id": "zlxlJvrdkvfN",
        "colab": {}
      },
      "source": [
        "#reference: Deep Learning for Natural Language Processing By Karthiek Reddy Bokka, Shubhangi Hora, Tanuj Jain, Monicah Wambugu June 2019\n",
        "\n",
        "import numpy as np\n",
        "import matplotlib.pyplot as plt\n",
        "import pandas as pd"
      ],
      "execution_count": 0,
      "outputs": []
    },
    {
      "cell_type": "code",
      "metadata": {
        "colab_type": "code",
        "id": "BAGu8ybokvfQ",
        "colab": {}
      },
      "source": [
        "dataset = pd.read_csv('train_comment_small_100.csv', sep=',')"
      ],
      "execution_count": 0,
      "outputs": []
    },
    {
      "cell_type": "code",
      "metadata": {
        "colab_type": "code",
        "id": "iz9kYNSckvfT",
        "outputId": "b1c53566-8ed9-481d-c768-f9e4f7f8beaf",
        "colab": {
          "base_uri": "https://localhost:8080/",
          "height": 195
        }
      },
      "source": [
        "dataset.head()"
      ],
      "execution_count": 43,
      "outputs": [
        {
          "output_type": "execute_result",
          "data": {
            "text/html": [
              "<div>\n",
              "<style scoped>\n",
              "    .dataframe tbody tr th:only-of-type {\n",
              "        vertical-align: middle;\n",
              "    }\n",
              "\n",
              "    .dataframe tbody tr th {\n",
              "        vertical-align: top;\n",
              "    }\n",
              "\n",
              "    .dataframe thead th {\n",
              "        text-align: right;\n",
              "    }\n",
              "</style>\n",
              "<table border=\"1\" class=\"dataframe\">\n",
              "  <thead>\n",
              "    <tr style=\"text-align: right;\">\n",
              "      <th></th>\n",
              "      <th>comment_text</th>\n",
              "      <th>toxic</th>\n",
              "    </tr>\n",
              "  </thead>\n",
              "  <tbody>\n",
              "    <tr>\n",
              "      <th>0</th>\n",
              "      <td>\"\\n \\n I'm sure if you worked on articles othe...</td>\n",
              "      <td>0</td>\n",
              "    </tr>\n",
              "    <tr>\n",
              "      <th>1</th>\n",
              "      <td>D'aww! He matches this background colour I'm s...</td>\n",
              "      <td>0</td>\n",
              "    </tr>\n",
              "    <tr>\n",
              "      <th>2</th>\n",
              "      <td>Hey man, I'm really not trying to edit war. It...</td>\n",
              "      <td>0</td>\n",
              "    </tr>\n",
              "    <tr>\n",
              "      <th>3</th>\n",
              "      <td>\"\\n More\\n I can't make any real suggestions o...</td>\n",
              "      <td>0</td>\n",
              "    </tr>\n",
              "    <tr>\n",
              "      <th>4</th>\n",
              "      <td>REDIRECT Talk:Voydan Pop Georgiev- Chernodrinski</td>\n",
              "      <td>0</td>\n",
              "    </tr>\n",
              "  </tbody>\n",
              "</table>\n",
              "</div>"
            ],
            "text/plain": [
              "                                        comment_text  toxic\n",
              "0  \"\\n \\n I'm sure if you worked on articles othe...      0\n",
              "1  D'aww! He matches this background colour I'm s...      0\n",
              "2  Hey man, I'm really not trying to edit war. It...      0\n",
              "3  \"\\n More\\n I can't make any real suggestions o...      0\n",
              "4   REDIRECT Talk:Voydan Pop Georgiev- Chernodrinski      0"
            ]
          },
          "metadata": {
            "tags": []
          },
          "execution_count": 43
        }
      ]
    },
    {
      "cell_type": "code",
      "metadata": {
        "id": "ChUWCo1uvLLK",
        "colab_type": "code",
        "colab": {
          "base_uri": "https://localhost:8080/",
          "height": 34
        },
        "outputId": "7ac86651-409e-4860-8564-b4a475d05e2c"
      },
      "source": [
        "dataset.shape"
      ],
      "execution_count": 44,
      "outputs": [
        {
          "output_type": "execute_result",
          "data": {
            "text/plain": [
              "(99, 2)"
            ]
          },
          "metadata": {
            "tags": []
          },
          "execution_count": 44
        }
      ]
    },
    {
      "cell_type": "markdown",
      "metadata": {
        "colab_type": "text",
        "id": "MHvzD-CrkvfX"
      },
      "source": [
        "Question 2. Next step is to clean and prepare the data.\n",
        "\n",
        "Import re and nltk.\n",
        "\n",
        "From nltk.corpus import stopwords. From nltk.stem.porter, import PorterStemmer.\n",
        "\n",
        "Create an array for your cleaned text to be stored in."
      ]
    },
    {
      "cell_type": "code",
      "metadata": {
        "colab_type": "code",
        "id": "rphikcu5kvfY",
        "outputId": "f7b0bf3c-600f-44eb-b79c-64ed48710d75",
        "colab": {
          "base_uri": "https://localhost:8080/",
          "height": 50
        }
      },
      "source": [
        "import re\n",
        "import nltk\n",
        "nltk.download('stopwords')\n",
        "from nltk.corpus import stopwords\n",
        "from nltk.stem.porter import PorterStemmer"
      ],
      "execution_count": 45,
      "outputs": [
        {
          "output_type": "stream",
          "text": [
            "[nltk_data] Downloading package stopwords to /root/nltk_data...\n",
            "[nltk_data]   Package stopwords is already up-to-date!\n"
          ],
          "name": "stdout"
        }
      ]
    },
    {
      "cell_type": "code",
      "metadata": {
        "colab_type": "code",
        "id": "TPgS2g2dkvfb",
        "colab": {}
      },
      "source": [
        "corpus = []"
      ],
      "execution_count": 0,
      "outputs": []
    },
    {
      "cell_type": "markdown",
      "metadata": {
        "colab_type": "text",
        "id": "wIgxSIFskvfe"
      },
      "source": [
        "Question 3. Using a for loop, iterate through every instance (every review).\n",
        "\n",
        "Replace all non-alphabets with a ' ' (whitespace). Convert all alphabets into lowercase.\n",
        "\n",
        "Split each review into individual words. Initiate the PorterStemmer. If the word is not a stopword, perform stemming on the word.\n",
        "\n",
        "Join all the individual words back together to form a cleaned review.\n",
        "\n",
        "Append this cleaned review to the array you created."
      ]
    },
    {
      "cell_type": "code",
      "metadata": {
        "colab_type": "code",
        "id": "ErAiXh9Nkvfe",
        "colab": {}
      },
      "source": [
        "for i in range(0, dataset.shape[0]):\n",
        "    review = re.sub('[^a-zA-Z]', ' ', dataset['comment_text'][i])\n",
        "    review = review.lower()\n",
        "    review = review.split()\n",
        "    ps = PorterStemmer()\n",
        "    review = [ps.stem(word) for word in review if not word in set(stopwords.words('english'))]\n",
        "    review = ' '.join(review)\n",
        "    corpus.append(review)"
      ],
      "execution_count": 0,
      "outputs": []
    },
    {
      "cell_type": "code",
      "metadata": {
        "colab_type": "code",
        "id": "_2W_MnjWkvfh",
        "outputId": "4a8965c8-8b79-49e9-9c88-843aebd687bf",
        "colab": {
          "base_uri": "https://localhost:8080/",
          "height": 205
        }
      },
      "source": [
        "corpus[:10]"
      ],
      "execution_count": 48,
      "outputs": [
        {
          "output_type": "execute_result",
          "data": {
            "text/plain": [
              "['sure work articl arcayn fine two seem problem seek edit xenotalk',\n",
              " 'aww match background colour seemingli stuck thank talk januari utc',\n",
              " 'hey man realli tri edit war guy constantli remov relev inform talk edit instead talk page seem care format actual info',\n",
              " 'make real suggest improv wonder section statist later subsect type accid think refer may need tidi exact format ie date format etc later one els first prefer format style refer want pleas let know appear backlog articl review guess may delay review turn list relev form eg wikipedia good articl nomin transport',\n",
              " 'redirect talk voydan pop georgiev chernodrinski',\n",
              " 'mitsurugi point made sens argu includ hindi ryo sakazaki page includ inform',\n",
              " 'mean bother see write someth regard remov anyth post oh well acctual discuss even better like ask take closer look prematur wrestl death catagori men list sure men belong togeth catagori anyth think catagori besid delt',\n",
              " 'regard recent edit pleas read wp filmplot edit film articl edit simpli good entir mani unnecessari detail bad write pleas stop damag',\n",
              " 'good know yeah studi deepu',\n",
              " 'snowflak alway symmetr geometri state snowflak alway six symmetr arm assert simpli true accord kenneth libbrecht rather unattract irregular crystal far common varieti http www caltech edu atom snowcryst myth myth htm perfect someon realli need take look site get fact still see decent number falsiti page forgiv im new dont want edit anyth']"
            ]
          },
          "metadata": {
            "tags": []
          },
          "execution_count": 48
        }
      ]
    },
    {
      "cell_type": "code",
      "metadata": {
        "id": "BphCqarB7aar",
        "colab_type": "code",
        "colab": {
          "base_uri": "https://localhost:8080/",
          "height": 34
        },
        "outputId": "4421a8d6-5143-4cbe-fc81-0bdc3afdccc7"
      },
      "source": [
        "len(corpus)"
      ],
      "execution_count": 49,
      "outputs": [
        {
          "output_type": "execute_result",
          "data": {
            "text/plain": [
              "99"
            ]
          },
          "metadata": {
            "tags": []
          },
          "execution_count": 49
        }
      ]
    },
    {
      "cell_type": "markdown",
      "metadata": {
        "colab_type": "text",
        "id": "GIAAdplekvfj"
      },
      "source": [
        "Question 4. Import CountVectorizer. Convert the reviews into word count vectors using CountVectorizer."
      ]
    },
    {
      "cell_type": "code",
      "metadata": {
        "colab_type": "code",
        "id": "BXPHkRYVkvfk",
        "colab": {}
      },
      "source": [
        "from sklearn.feature_extraction.text import CountVectorizer\n",
        "cv = CountVectorizer(max_features = 20)"
      ],
      "execution_count": 0,
      "outputs": []
    },
    {
      "cell_type": "markdown",
      "metadata": {
        "colab_type": "text",
        "id": "pVoOnX-qkvfn"
      },
      "source": [
        "Question 5. Create an array to store each unique word as its own column, hence making them independent variables."
      ]
    },
    {
      "cell_type": "code",
      "metadata": {
        "colab_type": "code",
        "id": "eGbGT00xkvfo",
        "colab": {}
      },
      "source": [
        "X = cv.fit_transform(corpus).toarray()"
      ],
      "execution_count": 0,
      "outputs": []
    },
    {
      "cell_type": "code",
      "metadata": {
        "colab_type": "code",
        "id": "vJTWJ94Tkvfs",
        "outputId": "ab6b8509-134f-4c9f-87ea-907edb5ca45e",
        "colab": {
          "base_uri": "https://localhost:8080/",
          "height": 134
        }
      },
      "source": [
        "X"
      ],
      "execution_count": 52,
      "outputs": [
        {
          "output_type": "execute_result",
          "data": {
            "text/plain": [
              "array([[0, 1, 0, ..., 0, 0, 0],\n",
              "       [0, 0, 0, ..., 0, 0, 0],\n",
              "       [0, 0, 0, ..., 0, 0, 0],\n",
              "       ...,\n",
              "       [0, 0, 0, ..., 0, 0, 0],\n",
              "       [0, 0, 0, ..., 0, 0, 0],\n",
              "       [0, 0, 0, ..., 1, 0, 0]])"
            ]
          },
          "metadata": {
            "tags": []
          },
          "execution_count": 52
        }
      ]
    },
    {
      "cell_type": "markdown",
      "metadata": {
        "colab_type": "text",
        "id": "xp3z-QYukvfw"
      },
      "source": [
        "Question 6. Import LabelEncoder from sklearn.preprocessing.\n",
        "\n",
        "Use the LabelEncoder on the target output (y)."
      ]
    },
    {
      "cell_type": "code",
      "metadata": {
        "colab_type": "code",
        "id": "tzcFKb3wkvfx",
        "colab": {}
      },
      "source": [
        "from sklearn import preprocessing"
      ],
      "execution_count": 0,
      "outputs": []
    },
    {
      "cell_type": "code",
      "metadata": {
        "id": "QxfqoIwb9_ML",
        "colab_type": "code",
        "colab": {}
      },
      "source": [
        "y = dataset['toxic']"
      ],
      "execution_count": 0,
      "outputs": []
    },
    {
      "cell_type": "code",
      "metadata": {
        "id": "ZR4tN5jW9_aw",
        "colab_type": "code",
        "colab": {}
      },
      "source": [
        "labelencoder_y = preprocessing.LabelEncoder()\n",
        "y = labelencoder_y.fit_transform(y)"
      ],
      "execution_count": 0,
      "outputs": []
    },
    {
      "cell_type": "code",
      "metadata": {
        "id": "iP0YMKbN-JrJ",
        "colab_type": "code",
        "colab": {
          "base_uri": "https://localhost:8080/",
          "height": 101
        },
        "outputId": "e2ad80b0-1773-4856-f502-4f77c3920f7b"
      },
      "source": [
        "y"
      ],
      "execution_count": 56,
      "outputs": [
        {
          "output_type": "execute_result",
          "data": {
            "text/plain": [
              "array([0, 0, 0, 0, 0, 0, 0, 0, 0, 0, 0, 0, 1, 0, 0, 0, 0, 0, 0, 1, 0, 1,\n",
              "       0, 0, 0, 0, 0, 1, 0, 0, 0, 0, 0, 0, 0, 0, 0, 0, 0, 0, 0, 0, 1, 0,\n",
              "       0, 0, 0, 0, 0, 0, 1, 0, 0, 0, 0, 0, 0, 0, 0, 0, 0, 0, 0, 0, 0, 0,\n",
              "       1, 0, 0, 0, 0, 0, 1, 0, 0, 0, 0, 0, 0, 0, 1, 0, 0, 0, 0, 1, 0, 0,\n",
              "       0, 0, 0, 0, 0, 0, 0, 0, 0, 0, 0])"
            ]
          },
          "metadata": {
            "tags": []
          },
          "execution_count": 56
        }
      ]
    },
    {
      "cell_type": "markdown",
      "metadata": {
        "colab_type": "text",
        "id": "MRf_BSXzkvf0"
      },
      "source": [
        "Question 7. Import train_test_split.\n",
        "\n",
        "Divide the dataset into a training set and a validation set (80/20)."
      ]
    },
    {
      "cell_type": "code",
      "metadata": {
        "colab_type": "code",
        "id": "O4DzFQCQkvf1",
        "colab": {}
      },
      "source": [
        "from sklearn.model_selection import train_test_split\n",
        "X_train, X_test, y_train, y_test = train_test_split(X, y, test_size = 0.20, random_state = 0)"
      ],
      "execution_count": 0,
      "outputs": []
    },
    {
      "cell_type": "markdown",
      "metadata": {
        "colab_type": "text",
        "id": "y_3rfZOakvf4"
      },
      "source": [
        "Question 8. Import StandardScaler from sklearn.preprocessing.\n",
        "\n",
        "Use the StandardScaler on the features of both the training set and the validation set (X)."
      ]
    },
    {
      "cell_type": "code",
      "metadata": {
        "colab_type": "code",
        "id": "sw6JFNKpkvf5",
        "colab": {}
      },
      "source": [
        "from sklearn.preprocessing import StandardScaler\n",
        "sc = StandardScaler()"
      ],
      "execution_count": 0,
      "outputs": []
    },
    {
      "cell_type": "code",
      "metadata": {
        "id": "AtJtKZTPvLMc",
        "colab_type": "code",
        "colab": {}
      },
      "source": [
        "X_train = sc.fit_transform(X_train)\n",
        "X_test = sc.transform(X_test)"
      ],
      "execution_count": 0,
      "outputs": []
    },
    {
      "cell_type": "markdown",
      "metadata": {
        "colab_type": "text",
        "id": "9xq3fVt_kvf8"
      },
      "source": [
        "Question 9. Now the next task is to create the neural network.\n",
        "\n",
        "Import keras.\n",
        "\n",
        "Import Sequential from keras.models and Dense from Keras layers."
      ]
    },
    {
      "cell_type": "code",
      "metadata": {
        "colab_type": "code",
        "id": "eIchESGQkvf-",
        "scrolled": true,
        "colab": {}
      },
      "source": [
        "import tensorflow\n",
        "import keras\n",
        "from keras.models import Sequential\n",
        "from keras.layers import Dense"
      ],
      "execution_count": 0,
      "outputs": []
    },
    {
      "cell_type": "markdown",
      "metadata": {
        "colab_type": "text",
        "id": "c5lQ-K6SkvgB"
      },
      "source": [
        "Question 10. Initialize the neural network.\n",
        "\n",
        "Add the first hidden layer with 'relu' as the activation function.\n",
        "\n",
        "Repeat step for the second hidden layer.\n",
        "\n",
        "Add the output layer with 'softmax' as the activation function.\n",
        "\n",
        "Compile the neural network, using 'adam' as the optimizer, 'binary_crossentropy' as the loss function and 'accuracy' as the performance metric."
      ]
    },
    {
      "cell_type": "code",
      "metadata": {
        "colab_type": "code",
        "id": "B9qN-rMpkvgC",
        "colab": {}
      },
      "source": [
        "classifier = Sequential()"
      ],
      "execution_count": 0,
      "outputs": []
    },
    {
      "cell_type": "code",
      "metadata": {
        "colab_type": "code",
        "id": "HAXUeozRlZLl",
        "colab": {}
      },
      "source": [
        "classifier.add(Dense(output_dim = 20, init = 'uniform', activation = 'relu', input_dim = 20))\n",
        "classifier.add(Dense(output_dim = 20, init = 'uniform', activation = 'relu'))\n",
        "classifier.add(Dense(output_dim = 1, init = 'uniform', activation = 'softmax'))\n",
        "classifier.compile(optimizer = 'adam', loss = 'binary_crossentropy', metrics = ['accuracy'])"
      ],
      "execution_count": 0,
      "outputs": []
    },
    {
      "cell_type": "code",
      "metadata": {
        "id": "yknFFs7AvLM8",
        "colab_type": "code",
        "colab": {
          "base_uri": "https://localhost:8080/",
          "height": 252
        },
        "outputId": "dcc97f77-63a9-4e98-8330-ceace0ecafbc"
      },
      "source": [
        "classifier.summary()"
      ],
      "execution_count": 63,
      "outputs": [
        {
          "output_type": "stream",
          "text": [
            "Model: \"sequential_2\"\n",
            "_________________________________________________________________\n",
            "Layer (type)                 Output Shape              Param #   \n",
            "=================================================================\n",
            "dense_4 (Dense)              (None, 20)                420       \n",
            "_________________________________________________________________\n",
            "dense_5 (Dense)              (None, 20)                420       \n",
            "_________________________________________________________________\n",
            "dense_6 (Dense)              (None, 1)                 21        \n",
            "=================================================================\n",
            "Total params: 861\n",
            "Trainable params: 861\n",
            "Non-trainable params: 0\n",
            "_________________________________________________________________\n"
          ],
          "name": "stdout"
        }
      ]
    },
    {
      "cell_type": "markdown",
      "metadata": {
        "colab_type": "text",
        "id": "JDTd7zaVkvgG"
      },
      "source": [
        "Question 11. Train the model. Fit the neural network on the training dataset with a batch_size of 3 and a nb_epoch of 200.\n",
        "\n",
        "What is the outcome?"
      ]
    },
    {
      "cell_type": "code",
      "metadata": {
        "colab_type": "code",
        "id": "Hr9fTUUUkvgG",
        "outputId": "ecb0aa54-3d03-4a19-ae90-581e78dd0f19",
        "colab": {
          "base_uri": "https://localhost:8080/",
          "height": 6754
        }
      },
      "source": [
        "classifier.fit(X_train, y_train, batch_size = 3, nb_epoch = 200)"
      ],
      "execution_count": 64,
      "outputs": [
        {
          "output_type": "stream",
          "text": [
            "Epoch 1/200\n",
            "79/79 [==============================] - 0s 2ms/step - loss: 13.3923 - accuracy: 0.1266\n",
            "Epoch 2/200\n",
            "79/79 [==============================] - 0s 523us/step - loss: 13.3923 - accuracy: 0.1266\n",
            "Epoch 3/200\n",
            "79/79 [==============================] - 0s 475us/step - loss: 13.3923 - accuracy: 0.1266\n",
            "Epoch 4/200\n",
            "79/79 [==============================] - 0s 490us/step - loss: 13.3923 - accuracy: 0.1266\n",
            "Epoch 5/200\n",
            "79/79 [==============================] - 0s 462us/step - loss: 13.3923 - accuracy: 0.1266\n",
            "Epoch 6/200\n",
            "79/79 [==============================] - 0s 460us/step - loss: 13.3923 - accuracy: 0.1266\n",
            "Epoch 7/200\n",
            "79/79 [==============================] - 0s 499us/step - loss: 13.3923 - accuracy: 0.1266\n",
            "Epoch 8/200\n",
            "79/79 [==============================] - 0s 504us/step - loss: 13.3923 - accuracy: 0.1266\n",
            "Epoch 9/200\n",
            "79/79 [==============================] - 0s 512us/step - loss: 13.3923 - accuracy: 0.1266\n",
            "Epoch 10/200\n",
            "79/79 [==============================] - 0s 803us/step - loss: 13.3923 - accuracy: 0.1266\n",
            "Epoch 11/200\n",
            "79/79 [==============================] - 0s 500us/step - loss: 13.3923 - accuracy: 0.1266\n",
            "Epoch 12/200\n",
            "79/79 [==============================] - 0s 536us/step - loss: 13.3923 - accuracy: 0.1266\n",
            "Epoch 13/200\n",
            "79/79 [==============================] - 0s 473us/step - loss: 13.3923 - accuracy: 0.1266\n",
            "Epoch 14/200\n",
            "79/79 [==============================] - 0s 503us/step - loss: 13.3923 - accuracy: 0.1266\n",
            "Epoch 15/200\n",
            "79/79 [==============================] - 0s 479us/step - loss: 13.3923 - accuracy: 0.1266\n",
            "Epoch 16/200\n",
            "79/79 [==============================] - 0s 482us/step - loss: 13.3923 - accuracy: 0.1266\n",
            "Epoch 17/200\n",
            "79/79 [==============================] - 0s 482us/step - loss: 13.3923 - accuracy: 0.1266\n",
            "Epoch 18/200\n",
            "79/79 [==============================] - 0s 506us/step - loss: 13.3923 - accuracy: 0.1266\n",
            "Epoch 19/200\n",
            "79/79 [==============================] - 0s 465us/step - loss: 13.3923 - accuracy: 0.1266\n",
            "Epoch 20/200\n",
            "79/79 [==============================] - 0s 560us/step - loss: 13.3923 - accuracy: 0.1266\n",
            "Epoch 21/200\n",
            "79/79 [==============================] - 0s 484us/step - loss: 13.3923 - accuracy: 0.1266\n",
            "Epoch 22/200\n",
            "79/79 [==============================] - 0s 453us/step - loss: 13.3923 - accuracy: 0.1266\n",
            "Epoch 23/200\n",
            "79/79 [==============================] - 0s 476us/step - loss: 13.3923 - accuracy: 0.1266\n",
            "Epoch 24/200\n",
            "79/79 [==============================] - 0s 507us/step - loss: 13.3923 - accuracy: 0.1266\n",
            "Epoch 25/200\n",
            "79/79 [==============================] - 0s 510us/step - loss: 13.3923 - accuracy: 0.1266\n",
            "Epoch 26/200\n",
            "79/79 [==============================] - 0s 495us/step - loss: 13.3923 - accuracy: 0.1266\n",
            "Epoch 27/200\n",
            "79/79 [==============================] - 0s 497us/step - loss: 13.3923 - accuracy: 0.1266\n",
            "Epoch 28/200\n",
            "79/79 [==============================] - 0s 496us/step - loss: 13.3923 - accuracy: 0.1266\n",
            "Epoch 29/200\n",
            "79/79 [==============================] - 0s 575us/step - loss: 13.3923 - accuracy: 0.1266\n",
            "Epoch 30/200\n",
            "79/79 [==============================] - 0s 477us/step - loss: 13.3923 - accuracy: 0.1266\n",
            "Epoch 31/200\n",
            "79/79 [==============================] - 0s 498us/step - loss: 13.3923 - accuracy: 0.1266\n",
            "Epoch 32/200\n",
            "79/79 [==============================] - 0s 483us/step - loss: 13.3923 - accuracy: 0.1266\n",
            "Epoch 33/200\n",
            "79/79 [==============================] - 0s 492us/step - loss: 13.3923 - accuracy: 0.1266\n",
            "Epoch 34/200\n",
            "79/79 [==============================] - 0s 510us/step - loss: 13.3923 - accuracy: 0.1266\n",
            "Epoch 35/200\n",
            "79/79 [==============================] - 0s 499us/step - loss: 13.3923 - accuracy: 0.1266\n",
            "Epoch 36/200\n",
            "79/79 [==============================] - 0s 497us/step - loss: 13.3923 - accuracy: 0.1266\n",
            "Epoch 37/200\n",
            "79/79 [==============================] - 0s 459us/step - loss: 13.3923 - accuracy: 0.1266\n",
            "Epoch 38/200\n",
            "79/79 [==============================] - 0s 487us/step - loss: 13.3923 - accuracy: 0.1266\n",
            "Epoch 39/200\n",
            "79/79 [==============================] - 0s 492us/step - loss: 13.3923 - accuracy: 0.1266\n",
            "Epoch 40/200\n",
            "79/79 [==============================] - 0s 500us/step - loss: 13.3923 - accuracy: 0.1266\n",
            "Epoch 41/200\n",
            "79/79 [==============================] - 0s 484us/step - loss: 13.3923 - accuracy: 0.1266\n",
            "Epoch 42/200\n",
            "79/79 [==============================] - 0s 487us/step - loss: 13.3923 - accuracy: 0.1266\n",
            "Epoch 43/200\n",
            "79/79 [==============================] - 0s 485us/step - loss: 13.3923 - accuracy: 0.1266\n",
            "Epoch 44/200\n",
            "79/79 [==============================] - 0s 455us/step - loss: 13.3923 - accuracy: 0.1266\n",
            "Epoch 45/200\n",
            "79/79 [==============================] - 0s 561us/step - loss: 13.3923 - accuracy: 0.1266\n",
            "Epoch 46/200\n",
            "79/79 [==============================] - 0s 473us/step - loss: 13.3923 - accuracy: 0.1266\n",
            "Epoch 47/200\n",
            "79/79 [==============================] - 0s 485us/step - loss: 13.3923 - accuracy: 0.1266\n",
            "Epoch 48/200\n",
            "79/79 [==============================] - 0s 470us/step - loss: 13.3923 - accuracy: 0.1266\n",
            "Epoch 49/200\n",
            "79/79 [==============================] - 0s 518us/step - loss: 13.3923 - accuracy: 0.1266\n",
            "Epoch 50/200\n",
            "79/79 [==============================] - 0s 498us/step - loss: 13.3923 - accuracy: 0.1266\n",
            "Epoch 51/200\n",
            "79/79 [==============================] - 0s 502us/step - loss: 13.3923 - accuracy: 0.1266\n",
            "Epoch 52/200\n",
            "79/79 [==============================] - 0s 467us/step - loss: 13.3923 - accuracy: 0.1266\n",
            "Epoch 53/200\n",
            "79/79 [==============================] - 0s 482us/step - loss: 13.3923 - accuracy: 0.1266\n",
            "Epoch 54/200\n",
            "79/79 [==============================] - 0s 487us/step - loss: 13.3923 - accuracy: 0.1266\n",
            "Epoch 55/200\n",
            "79/79 [==============================] - 0s 470us/step - loss: 13.3923 - accuracy: 0.1266\n",
            "Epoch 56/200\n",
            "79/79 [==============================] - 0s 518us/step - loss: 13.3923 - accuracy: 0.1266\n",
            "Epoch 57/200\n",
            "79/79 [==============================] - 0s 485us/step - loss: 13.3923 - accuracy: 0.1266\n",
            "Epoch 58/200\n",
            "79/79 [==============================] - 0s 484us/step - loss: 13.3923 - accuracy: 0.1266\n",
            "Epoch 59/200\n",
            "79/79 [==============================] - 0s 486us/step - loss: 13.3923 - accuracy: 0.1266\n",
            "Epoch 60/200\n",
            "79/79 [==============================] - 0s 529us/step - loss: 13.3923 - accuracy: 0.1266\n",
            "Epoch 61/200\n",
            "79/79 [==============================] - 0s 480us/step - loss: 13.3923 - accuracy: 0.1266\n",
            "Epoch 62/200\n",
            "79/79 [==============================] - 0s 466us/step - loss: 13.3923 - accuracy: 0.1266\n",
            "Epoch 63/200\n",
            "79/79 [==============================] - 0s 492us/step - loss: 13.3923 - accuracy: 0.1266\n",
            "Epoch 64/200\n",
            "79/79 [==============================] - 0s 518us/step - loss: 13.3923 - accuracy: 0.1266\n",
            "Epoch 65/200\n",
            "79/79 [==============================] - 0s 507us/step - loss: 13.3923 - accuracy: 0.1266\n",
            "Epoch 66/200\n",
            "79/79 [==============================] - 0s 537us/step - loss: 13.3923 - accuracy: 0.1266\n",
            "Epoch 67/200\n",
            "79/79 [==============================] - 0s 504us/step - loss: 13.3923 - accuracy: 0.1266\n",
            "Epoch 68/200\n",
            "79/79 [==============================] - 0s 513us/step - loss: 13.3923 - accuracy: 0.1266\n",
            "Epoch 69/200\n",
            "79/79 [==============================] - 0s 494us/step - loss: 13.3923 - accuracy: 0.1266\n",
            "Epoch 70/200\n",
            "79/79 [==============================] - 0s 556us/step - loss: 13.3923 - accuracy: 0.1266\n",
            "Epoch 71/200\n",
            "79/79 [==============================] - 0s 467us/step - loss: 13.3923 - accuracy: 0.1266\n",
            "Epoch 72/200\n",
            "79/79 [==============================] - 0s 494us/step - loss: 13.3923 - accuracy: 0.1266\n",
            "Epoch 73/200\n",
            "79/79 [==============================] - 0s 524us/step - loss: 13.3923 - accuracy: 0.1266\n",
            "Epoch 74/200\n",
            "79/79 [==============================] - 0s 482us/step - loss: 13.3923 - accuracy: 0.1266\n",
            "Epoch 75/200\n",
            "79/79 [==============================] - 0s 503us/step - loss: 13.3923 - accuracy: 0.1266\n",
            "Epoch 76/200\n",
            "79/79 [==============================] - 0s 453us/step - loss: 13.3923 - accuracy: 0.1266\n",
            "Epoch 77/200\n",
            "79/79 [==============================] - 0s 506us/step - loss: 13.3923 - accuracy: 0.1266\n",
            "Epoch 78/200\n",
            "79/79 [==============================] - 0s 475us/step - loss: 13.3923 - accuracy: 0.1266\n",
            "Epoch 79/200\n",
            "79/79 [==============================] - 0s 489us/step - loss: 13.3923 - accuracy: 0.1266\n",
            "Epoch 80/200\n",
            "79/79 [==============================] - 0s 517us/step - loss: 13.3923 - accuracy: 0.1266\n",
            "Epoch 81/200\n",
            "79/79 [==============================] - 0s 478us/step - loss: 13.3923 - accuracy: 0.1266\n",
            "Epoch 82/200\n",
            "79/79 [==============================] - 0s 465us/step - loss: 13.3923 - accuracy: 0.1266\n",
            "Epoch 83/200\n",
            "79/79 [==============================] - 0s 512us/step - loss: 13.3923 - accuracy: 0.1266\n",
            "Epoch 84/200\n",
            "79/79 [==============================] - 0s 495us/step - loss: 13.3923 - accuracy: 0.1266\n",
            "Epoch 85/200\n",
            "79/79 [==============================] - 0s 532us/step - loss: 13.3923 - accuracy: 0.1266\n",
            "Epoch 86/200\n",
            "79/79 [==============================] - 0s 468us/step - loss: 13.3923 - accuracy: 0.1266\n",
            "Epoch 87/200\n",
            "79/79 [==============================] - 0s 503us/step - loss: 13.3923 - accuracy: 0.1266\n",
            "Epoch 88/200\n",
            "79/79 [==============================] - 0s 470us/step - loss: 13.3923 - accuracy: 0.1266\n",
            "Epoch 89/200\n",
            "79/79 [==============================] - 0s 496us/step - loss: 13.3923 - accuracy: 0.1266\n",
            "Epoch 90/200\n",
            "79/79 [==============================] - 0s 533us/step - loss: 13.3923 - accuracy: 0.1266\n",
            "Epoch 91/200\n",
            "79/79 [==============================] - 0s 485us/step - loss: 13.3923 - accuracy: 0.1266\n",
            "Epoch 92/200\n",
            "79/79 [==============================] - 0s 531us/step - loss: 13.3923 - accuracy: 0.1266\n",
            "Epoch 93/200\n",
            "79/79 [==============================] - 0s 482us/step - loss: 13.3923 - accuracy: 0.1266\n",
            "Epoch 94/200\n",
            "79/79 [==============================] - 0s 488us/step - loss: 13.3923 - accuracy: 0.1266\n",
            "Epoch 95/200\n",
            "79/79 [==============================] - 0s 598us/step - loss: 13.3923 - accuracy: 0.1266\n",
            "Epoch 96/200\n",
            "79/79 [==============================] - 0s 493us/step - loss: 13.3923 - accuracy: 0.1266\n",
            "Epoch 97/200\n",
            "79/79 [==============================] - 0s 531us/step - loss: 13.3923 - accuracy: 0.1266\n",
            "Epoch 98/200\n",
            "79/79 [==============================] - 0s 479us/step - loss: 13.3923 - accuracy: 0.1266\n",
            "Epoch 99/200\n",
            "79/79 [==============================] - 0s 477us/step - loss: 13.3923 - accuracy: 0.1266\n",
            "Epoch 100/200\n",
            "79/79 [==============================] - 0s 501us/step - loss: 13.3923 - accuracy: 0.1266\n",
            "Epoch 101/200\n",
            "79/79 [==============================] - 0s 519us/step - loss: 13.3923 - accuracy: 0.1266\n",
            "Epoch 102/200\n",
            "79/79 [==============================] - 0s 506us/step - loss: 13.3923 - accuracy: 0.1266\n",
            "Epoch 103/200\n",
            "79/79 [==============================] - 0s 491us/step - loss: 13.3923 - accuracy: 0.1266\n",
            "Epoch 104/200\n",
            "79/79 [==============================] - 0s 467us/step - loss: 13.3923 - accuracy: 0.1266\n",
            "Epoch 105/200\n",
            "79/79 [==============================] - 0s 504us/step - loss: 13.3923 - accuracy: 0.1266\n",
            "Epoch 106/200\n",
            "79/79 [==============================] - 0s 623us/step - loss: 13.3923 - accuracy: 0.1266\n",
            "Epoch 107/200\n",
            "79/79 [==============================] - 0s 514us/step - loss: 13.3923 - accuracy: 0.1266\n",
            "Epoch 108/200\n",
            "79/79 [==============================] - 0s 474us/step - loss: 13.3923 - accuracy: 0.1266\n",
            "Epoch 109/200\n",
            "79/79 [==============================] - 0s 477us/step - loss: 13.3923 - accuracy: 0.1266\n",
            "Epoch 110/200\n",
            "79/79 [==============================] - 0s 484us/step - loss: 13.3923 - accuracy: 0.1266\n",
            "Epoch 111/200\n",
            "79/79 [==============================] - 0s 488us/step - loss: 13.3923 - accuracy: 0.1266\n",
            "Epoch 112/200\n",
            "79/79 [==============================] - 0s 514us/step - loss: 13.3923 - accuracy: 0.1266\n",
            "Epoch 113/200\n",
            "79/79 [==============================] - 0s 517us/step - loss: 13.3923 - accuracy: 0.1266\n",
            "Epoch 114/200\n",
            "79/79 [==============================] - 0s 458us/step - loss: 13.3923 - accuracy: 0.1266\n",
            "Epoch 115/200\n",
            "79/79 [==============================] - 0s 496us/step - loss: 13.3923 - accuracy: 0.1266\n",
            "Epoch 116/200\n",
            "79/79 [==============================] - 0s 475us/step - loss: 13.3923 - accuracy: 0.1266\n",
            "Epoch 117/200\n",
            "79/79 [==============================] - 0s 504us/step - loss: 13.3923 - accuracy: 0.1266\n",
            "Epoch 118/200\n",
            "79/79 [==============================] - 0s 505us/step - loss: 13.3923 - accuracy: 0.1266\n",
            "Epoch 119/200\n",
            "79/79 [==============================] - 0s 573us/step - loss: 13.3923 - accuracy: 0.1266\n",
            "Epoch 120/200\n",
            "79/79 [==============================] - 0s 479us/step - loss: 13.3923 - accuracy: 0.1266\n",
            "Epoch 121/200\n",
            "79/79 [==============================] - 0s 493us/step - loss: 13.3923 - accuracy: 0.1266\n",
            "Epoch 122/200\n",
            "79/79 [==============================] - 0s 482us/step - loss: 13.3923 - accuracy: 0.1266\n",
            "Epoch 123/200\n",
            "79/79 [==============================] - 0s 480us/step - loss: 13.3923 - accuracy: 0.1266\n",
            "Epoch 124/200\n",
            "79/79 [==============================] - 0s 526us/step - loss: 13.3923 - accuracy: 0.1266\n",
            "Epoch 125/200\n",
            "79/79 [==============================] - 0s 495us/step - loss: 13.3923 - accuracy: 0.1266\n",
            "Epoch 126/200\n",
            "79/79 [==============================] - 0s 488us/step - loss: 13.3923 - accuracy: 0.1266\n",
            "Epoch 127/200\n",
            "79/79 [==============================] - 0s 509us/step - loss: 13.3923 - accuracy: 0.1266\n",
            "Epoch 128/200\n",
            "79/79 [==============================] - 0s 491us/step - loss: 13.3923 - accuracy: 0.1266\n",
            "Epoch 129/200\n",
            "79/79 [==============================] - 0s 546us/step - loss: 13.3923 - accuracy: 0.1266\n",
            "Epoch 130/200\n",
            "79/79 [==============================] - 0s 518us/step - loss: 13.3923 - accuracy: 0.1266\n",
            "Epoch 131/200\n",
            "79/79 [==============================] - 0s 452us/step - loss: 13.3923 - accuracy: 0.1266\n",
            "Epoch 132/200\n",
            "79/79 [==============================] - 0s 469us/step - loss: 13.3923 - accuracy: 0.1266\n",
            "Epoch 133/200\n",
            "79/79 [==============================] - 0s 488us/step - loss: 13.3923 - accuracy: 0.1266\n",
            "Epoch 134/200\n",
            "79/79 [==============================] - 0s 515us/step - loss: 13.3923 - accuracy: 0.1266\n",
            "Epoch 135/200\n",
            "79/79 [==============================] - 0s 502us/step - loss: 13.3923 - accuracy: 0.1266\n",
            "Epoch 136/200\n",
            "79/79 [==============================] - 0s 523us/step - loss: 13.3923 - accuracy: 0.1266\n",
            "Epoch 137/200\n",
            "79/79 [==============================] - 0s 467us/step - loss: 13.3923 - accuracy: 0.1266\n",
            "Epoch 138/200\n",
            "79/79 [==============================] - 0s 530us/step - loss: 13.3923 - accuracy: 0.1266\n",
            "Epoch 139/200\n",
            "79/79 [==============================] - 0s 495us/step - loss: 13.3923 - accuracy: 0.1266\n",
            "Epoch 140/200\n",
            "79/79 [==============================] - 0s 511us/step - loss: 13.3923 - accuracy: 0.1266\n",
            "Epoch 141/200\n",
            "79/79 [==============================] - 0s 499us/step - loss: 13.3923 - accuracy: 0.1266\n",
            "Epoch 142/200\n",
            "79/79 [==============================] - 0s 488us/step - loss: 13.3923 - accuracy: 0.1266\n",
            "Epoch 143/200\n",
            "79/79 [==============================] - 0s 466us/step - loss: 13.3923 - accuracy: 0.1266\n",
            "Epoch 144/200\n",
            "79/79 [==============================] - 0s 565us/step - loss: 13.3923 - accuracy: 0.1266\n",
            "Epoch 145/200\n",
            "79/79 [==============================] - 0s 499us/step - loss: 13.3923 - accuracy: 0.1266\n",
            "Epoch 146/200\n",
            "79/79 [==============================] - 0s 503us/step - loss: 13.3923 - accuracy: 0.1266\n",
            "Epoch 147/200\n",
            "79/79 [==============================] - 0s 476us/step - loss: 13.3923 - accuracy: 0.1266\n",
            "Epoch 148/200\n",
            "79/79 [==============================] - 0s 496us/step - loss: 13.3923 - accuracy: 0.1266\n",
            "Epoch 149/200\n",
            "79/79 [==============================] - 0s 474us/step - loss: 13.3923 - accuracy: 0.1266\n",
            "Epoch 150/200\n",
            "79/79 [==============================] - 0s 468us/step - loss: 13.3923 - accuracy: 0.1266\n",
            "Epoch 151/200\n",
            "79/79 [==============================] - 0s 520us/step - loss: 13.3923 - accuracy: 0.1266\n",
            "Epoch 152/200\n",
            "79/79 [==============================] - 0s 529us/step - loss: 13.3923 - accuracy: 0.1266\n",
            "Epoch 153/200\n",
            "79/79 [==============================] - 0s 495us/step - loss: 13.3923 - accuracy: 0.1266\n",
            "Epoch 154/200\n",
            "79/79 [==============================] - 0s 480us/step - loss: 13.3923 - accuracy: 0.1266\n",
            "Epoch 155/200\n",
            "79/79 [==============================] - 0s 472us/step - loss: 13.3923 - accuracy: 0.1266\n",
            "Epoch 156/200\n",
            "79/79 [==============================] - 0s 504us/step - loss: 13.3923 - accuracy: 0.1266\n",
            "Epoch 157/200\n",
            "79/79 [==============================] - 0s 502us/step - loss: 13.3923 - accuracy: 0.1266\n",
            "Epoch 158/200\n",
            "79/79 [==============================] - 0s 482us/step - loss: 13.3923 - accuracy: 0.1266\n",
            "Epoch 159/200\n",
            "79/79 [==============================] - 0s 525us/step - loss: 13.3923 - accuracy: 0.1266\n",
            "Epoch 160/200\n",
            "79/79 [==============================] - 0s 536us/step - loss: 13.3923 - accuracy: 0.1266\n",
            "Epoch 161/200\n",
            "79/79 [==============================] - 0s 482us/step - loss: 13.3923 - accuracy: 0.1266\n",
            "Epoch 162/200\n",
            "79/79 [==============================] - 0s 542us/step - loss: 13.3923 - accuracy: 0.1266\n",
            "Epoch 163/200\n",
            "79/79 [==============================] - 0s 504us/step - loss: 13.3923 - accuracy: 0.1266\n",
            "Epoch 164/200\n",
            "79/79 [==============================] - 0s 500us/step - loss: 13.3923 - accuracy: 0.1266\n",
            "Epoch 165/200\n",
            "79/79 [==============================] - 0s 486us/step - loss: 13.3923 - accuracy: 0.1266\n",
            "Epoch 166/200\n",
            "79/79 [==============================] - 0s 498us/step - loss: 13.3923 - accuracy: 0.1266\n",
            "Epoch 167/200\n",
            "79/79 [==============================] - 0s 493us/step - loss: 13.3923 - accuracy: 0.1266\n",
            "Epoch 168/200\n",
            "79/79 [==============================] - 0s 516us/step - loss: 13.3923 - accuracy: 0.1266\n",
            "Epoch 169/200\n",
            "79/79 [==============================] - 0s 497us/step - loss: 13.3923 - accuracy: 0.1266\n",
            "Epoch 170/200\n",
            "79/79 [==============================] - 0s 503us/step - loss: 13.3923 - accuracy: 0.1266\n",
            "Epoch 171/200\n",
            "79/79 [==============================] - 0s 502us/step - loss: 13.3923 - accuracy: 0.1266\n",
            "Epoch 172/200\n",
            "79/79 [==============================] - 0s 514us/step - loss: 13.3923 - accuracy: 0.1266\n",
            "Epoch 173/200\n",
            "79/79 [==============================] - 0s 491us/step - loss: 13.3923 - accuracy: 0.1266\n",
            "Epoch 174/200\n",
            "79/79 [==============================] - 0s 470us/step - loss: 13.3923 - accuracy: 0.1266\n",
            "Epoch 175/200\n",
            "79/79 [==============================] - 0s 480us/step - loss: 13.3923 - accuracy: 0.1266\n",
            "Epoch 176/200\n",
            "79/79 [==============================] - 0s 496us/step - loss: 13.3923 - accuracy: 0.1266\n",
            "Epoch 177/200\n",
            "79/79 [==============================] - 0s 580us/step - loss: 13.3923 - accuracy: 0.1266\n",
            "Epoch 178/200\n",
            "79/79 [==============================] - 0s 539us/step - loss: 13.3923 - accuracy: 0.1266\n",
            "Epoch 179/200\n",
            "79/79 [==============================] - 0s 492us/step - loss: 13.3923 - accuracy: 0.1266\n",
            "Epoch 180/200\n",
            "79/79 [==============================] - 0s 493us/step - loss: 13.3923 - accuracy: 0.1266\n",
            "Epoch 181/200\n",
            "79/79 [==============================] - 0s 497us/step - loss: 13.3923 - accuracy: 0.1266\n",
            "Epoch 182/200\n",
            "79/79 [==============================] - 0s 515us/step - loss: 13.3923 - accuracy: 0.1266\n",
            "Epoch 183/200\n",
            "79/79 [==============================] - 0s 514us/step - loss: 13.3923 - accuracy: 0.1266\n",
            "Epoch 184/200\n",
            "79/79 [==============================] - 0s 548us/step - loss: 13.3923 - accuracy: 0.1266\n",
            "Epoch 185/200\n",
            "79/79 [==============================] - 0s 484us/step - loss: 13.3923 - accuracy: 0.1266\n",
            "Epoch 186/200\n",
            "79/79 [==============================] - 0s 498us/step - loss: 13.3923 - accuracy: 0.1266\n",
            "Epoch 187/200\n",
            "79/79 [==============================] - 0s 506us/step - loss: 13.3923 - accuracy: 0.1266\n",
            "Epoch 188/200\n",
            "79/79 [==============================] - 0s 488us/step - loss: 13.3923 - accuracy: 0.1266\n",
            "Epoch 189/200\n",
            "79/79 [==============================] - 0s 505us/step - loss: 13.3923 - accuracy: 0.1266\n",
            "Epoch 190/200\n",
            "79/79 [==============================] - 0s 494us/step - loss: 13.3923 - accuracy: 0.1266\n",
            "Epoch 191/200\n",
            "79/79 [==============================] - 0s 483us/step - loss: 13.3923 - accuracy: 0.1266\n",
            "Epoch 192/200\n",
            "79/79 [==============================] - 0s 520us/step - loss: 13.3923 - accuracy: 0.1266\n",
            "Epoch 193/200\n",
            "79/79 [==============================] - 0s 584us/step - loss: 13.3923 - accuracy: 0.1266\n",
            "Epoch 194/200\n",
            "79/79 [==============================] - 0s 472us/step - loss: 13.3923 - accuracy: 0.1266\n",
            "Epoch 195/200\n",
            "79/79 [==============================] - 0s 480us/step - loss: 13.3923 - accuracy: 0.1266\n",
            "Epoch 196/200\n",
            "79/79 [==============================] - 0s 526us/step - loss: 13.3923 - accuracy: 0.1266\n",
            "Epoch 197/200\n",
            "79/79 [==============================] - 0s 497us/step - loss: 13.3923 - accuracy: 0.1266\n",
            "Epoch 198/200\n",
            "79/79 [==============================] - 0s 495us/step - loss: 13.3923 - accuracy: 0.1266\n",
            "Epoch 199/200\n",
            "79/79 [==============================] - 0s 473us/step - loss: 13.3923 - accuracy: 0.1266\n",
            "Epoch 200/200\n",
            "79/79 [==============================] - 0s 505us/step - loss: 13.3923 - accuracy: 0.1266\n"
          ],
          "name": "stdout"
        },
        {
          "output_type": "execute_result",
          "data": {
            "text/plain": [
              "<keras.callbacks.callbacks.History at 0x7fcd864f4f28>"
            ]
          },
          "metadata": {
            "tags": []
          },
          "execution_count": 64
        }
      ]
    },
    {
      "cell_type": "code",
      "metadata": {
        "id": "NVxwRhqW8Ad1",
        "colab_type": "code",
        "colab": {
          "base_uri": "https://localhost:8080/",
          "height": 84
        },
        "outputId": "76e8d95f-26aa-47fb-e07f-7c57a4d8a271"
      },
      "source": [
        "X_test[:,10]"
      ],
      "execution_count": 65,
      "outputs": [
        {
          "output_type": "execute_result",
          "data": {
            "text/plain": [
              "array([-0.27498715, -0.27498715, -0.27498715, -0.27498715, -0.27498715,\n",
              "       -0.27498715, -0.27498715, -0.27498715, -0.27498715, -0.27498715,\n",
              "       -0.27498715, -0.27498715, -0.27498715, -0.27498715, -0.27498715,\n",
              "       -0.27498715, -0.27498715, -0.27498715, -0.27498715, -0.27498715])"
            ]
          },
          "metadata": {
            "tags": []
          },
          "execution_count": 65
        }
      ]
    },
    {
      "cell_type": "markdown",
      "metadata": {
        "id": "LrHZPshPg8Xw",
        "colab_type": "text"
      },
      "source": [
        "The model got trained with a loss value of 13.3923 accuracy as 0.1266. \n",
        "The lower the loss, the better a model. Loss is a summation of the errors made for each example in training sets. It is not percentage unlike accuracy ."
      ]
    },
    {
      "cell_type": "markdown",
      "metadata": {
        "colab_type": "text",
        "id": "mUWUR0YgkvgL"
      },
      "source": [
        "Question 12. Validate the model.\n",
        "\n",
        "Evaluate the neural network and print the accuracy scores to see how it performed.\n",
        "\n",
        "What is your conclusion?"
      ]
    },
    {
      "cell_type": "code",
      "metadata": {
        "colab_type": "code",
        "id": "hn5_2e1qkvgL",
        "outputId": "d52a7cf8-9c6c-45c0-e276-fd9d605e2e2d",
        "colab": {
          "base_uri": "https://localhost:8080/",
          "height": 118
        }
      },
      "source": [
        "y_pred = classifier.predict(X_test)\n",
        "\n",
        "scores = classifier.evaluate(X_train, y_train)\n",
        "print('Training Accuracy: %.2f%%\\n' % (scores[1]*100))\n",
        "\n",
        "scores = classifier.evaluate(X_test, y_test)\n",
        "print('Testing Accuracy: %.2f%%\\n' % (scores[1]*100))"
      ],
      "execution_count": 66,
      "outputs": [
        {
          "output_type": "stream",
          "text": [
            "79/79 [==============================] - 0s 257us/step\n",
            "Training Accuracy: 12.66%\n",
            "\n",
            "20/20 [==============================] - 0s 147us/step\n",
            "Testing Accuracy: 0.00%\n",
            "\n"
          ],
          "name": "stdout"
        }
      ]
    },
    {
      "cell_type": "code",
      "metadata": {
        "id": "wbp2D-L6vLNM",
        "colab_type": "code",
        "colab": {
          "base_uri": "https://localhost:8080/",
          "height": 168
        },
        "outputId": "3610a7c2-30ae-4e04-d3d5-19a9e940cdd6"
      },
      "source": [
        "from sklearn.metrics import classification_report\n",
        "\n",
        "print(classification_report(y_test, y_pred))"
      ],
      "execution_count": 67,
      "outputs": [
        {
          "output_type": "stream",
          "text": [
            "              precision    recall  f1-score   support\n",
            "\n",
            "         0.0       0.00      0.00      0.00      20.0\n",
            "         1.0       0.00      0.00      0.00       0.0\n",
            "\n",
            "    accuracy                           0.00      20.0\n",
            "   macro avg       0.00      0.00      0.00      20.0\n",
            "weighted avg       0.00      0.00      0.00      20.0\n",
            "\n"
          ],
          "name": "stdout"
        }
      ]
    },
    {
      "cell_type": "markdown",
      "metadata": {
        "id": "xgtXK_S9-i2K",
        "colab_type": "text"
      },
      "source": [
        "The model is not efficient as the accuracy is not good. One of the reasons could be lack of good data for training the network."
      ]
    },
    {
      "cell_type": "markdown",
      "metadata": {
        "colab_type": "text",
        "id": "GytR3a8EkvgP"
      },
      "source": [
        "Question 13. Print the confusion matrix by importing confusion_matrix from sklearn.metrics.\n",
        "\n",
        "What does the confusion matrix tell you?"
      ]
    },
    {
      "cell_type": "code",
      "metadata": {
        "colab_type": "code",
        "id": "Asp_tOmLkvgP",
        "colab": {}
      },
      "source": [
        "from sklearn.metrics import confusion_matrix\n",
        "import seaborn as sns"
      ],
      "execution_count": 0,
      "outputs": []
    },
    {
      "cell_type": "code",
      "metadata": {
        "id": "C1X3LIKb8biD",
        "colab_type": "code",
        "colab": {
          "base_uri": "https://localhost:8080/",
          "height": 34
        },
        "outputId": "98bdb917-f77e-4756-dbb4-c825e026bef3"
      },
      "source": [
        "cm = confusion_matrix(y_test, y_pred)\n",
        "scores"
      ],
      "execution_count": 69,
      "outputs": [
        {
          "output_type": "execute_result",
          "data": {
            "text/plain": [
              "[15.249238967895508, 0.0]"
            ]
          },
          "metadata": {
            "tags": []
          },
          "execution_count": 69
        }
      ]
    },
    {
      "cell_type": "code",
      "metadata": {
        "colab_type": "code",
        "id": "TEok7Ks5lrgO",
        "outputId": "ef8f161a-355d-428a-df4a-4fcdf0b0f6d1",
        "colab": {
          "base_uri": "https://localhost:8080/",
          "height": 50
        }
      },
      "source": [
        "cm"
      ],
      "execution_count": 70,
      "outputs": [
        {
          "output_type": "execute_result",
          "data": {
            "text/plain": [
              "array([[ 0, 20],\n",
              "       [ 0,  0]])"
            ]
          },
          "metadata": {
            "tags": []
          },
          "execution_count": 70
        }
      ]
    },
    {
      "cell_type": "code",
      "metadata": {
        "colab_type": "code",
        "id": "XWsecqMVmBxz",
        "colab": {
          "base_uri": "https://localhost:8080/",
          "height": 296
        },
        "outputId": "d5f4041b-a68f-409a-da5f-bd8bfca3c614"
      },
      "source": [
        "ax = sns.heatmap(cm, annot=True, \n",
        "                 xticklabels=['False','True'],\n",
        "                 yticklabels=['False','True'], \n",
        "                 cbar=False, cmap='Blues')\n",
        "ax.set_xlabel('Prediction')\n",
        "ax.set_ylabel('Actual')"
      ],
      "execution_count": 71,
      "outputs": [
        {
          "output_type": "execute_result",
          "data": {
            "text/plain": [
              "Text(33.0, 0.5, 'Actual')"
            ]
          },
          "metadata": {
            "tags": []
          },
          "execution_count": 71
        },
        {
          "output_type": "display_data",
          "data": {
            "image/png": "[encoded data removed]",
            "text/plain": [
              "<Figure size 432x288 with 1 Axes>"
            ]
          },
          "metadata": {
            "tags": [],
            "needs_background": "light"
          }
        }
      ]
    },
    {
      "cell_type": "markdown",
      "metadata": {
        "id": "cHJmSREOvLNd",
        "colab_type": "text"
      },
      "source": [
        "There is a high rate of false rate in the confusion matrix.\n",
        "\n",
        "A confusion matrix is a summary of prediction results on a classification problem. The number of correct and incorrect predictions are summarized with count values and broken down by each class.The confusion matrix shows the ways in which our classification model is confused when it makes predictions.\n",
        "\n",
        "From the above confusion matrix we can see that our model's efficiency is very low. The False Negative rate is high which says, the model predicted the false values as true."
      ]
    }
  ]
}