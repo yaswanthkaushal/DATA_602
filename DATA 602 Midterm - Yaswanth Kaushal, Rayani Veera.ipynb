{
 "cells": [
  {
   "cell_type": "markdown",
   "metadata": {},
   "source": [
    "## Exercise 1. Support Vector Machine [10 points]\n",
    "\n",
    "1. Load the ‘load_breast_cancer’ dataset from sklearn.datasets. Rename the dataset ‘cancer_data.’\n",
    "2. Explore the data. Look at the shape of the ‘cancer_data.’\n",
    "3. Create a test and train set. The test set represents 40% of the total dataset.\n",
    "4. Import the ‘SVM’ module from sklearn to create a support vector classifier in svc() by passing the argument kernel as the linear kernel. Name the classifier ‘cls.’\n",
    "5. Evaluate the model by providing separately the accuracy, precision, recall, and the classification report. What are your conclusions?\n",
    "6. Using kernel=’rbf’, C=[0.1,1, 100], ‘epsilon’=[0.1,0.5,1] and gamma=[1,3,5], what are the best parameters?\n",
    "7. What does C, epsilon, and gamma represent? What happens if you reduce gamma?"
   ]
  },
  {
   "cell_type": "code",
   "execution_count": 1,
   "metadata": {},
   "outputs": [],
   "source": [
    "import pandas as pd\n",
    "import numpy as np\n",
    "from sklearn.model_selection import train_test_split\n",
    "from sklearn.svm import LinearSVC\n",
    "from sklearn.model_selection import cross_val_score\n",
    "from sklearn.metrics import accuracy_score\n",
    "from sklearn.metrics import accuracy_score\n",
    "from sklearn.metrics import precision_score\n",
    "from sklearn.metrics import recall_score\n",
    "from sklearn.metrics import f1_score\n",
    "from sklearn.model_selection import GridSearchCV\n",
    "from sklearn.svm import SVR\n",
    "from sklearn.metrics import classification_report\n",
    "\n",
    "import warnings\n",
    "warnings.filterwarnings('ignore')"
   ]
  },
  {
   "cell_type": "code",
   "execution_count": 2,
   "metadata": {},
   "outputs": [],
   "source": [
    "from sklearn.datasets import load_breast_cancer\n",
    "cancer = load_breast_cancer()"
   ]
  },
  {
   "cell_type": "code",
   "execution_count": 3,
   "metadata": {},
   "outputs": [
    {
     "name": "stdout",
     "output_type": "stream",
     "text": [
      ".. _breast_cancer_dataset:\n",
      "\n",
      "Breast cancer wisconsin (diagnostic) dataset\n",
      "--------------------------------------------\n",
      "\n",
      "**Data Set Characteristics:**\n",
      "\n",
      "    :Number of Instances: 569\n",
      "\n",
      "    :Number of Attributes: 30 numeric, predictive attributes and the class\n",
      "\n",
      "    :Attribute Information:\n",
      "        - radius (mean of distances from center to points on the perimeter)\n",
      "        - texture (standard deviation of gray-scale values)\n",
      "        - perimeter\n",
      "        - area\n",
      "        - smoothness (local variation in radius lengths)\n",
      "        - compactness (perimeter^2 / area - 1.0)\n",
      "        - concavity (severity of concave portions of the contour)\n",
      "        - concave points (number of concave portions of the contour)\n",
      "        - symmetry \n",
      "        - fractal dimension (\"coastline approximation\" - 1)\n",
      "\n",
      "        The mean, standard error, and \"worst\" or largest (mean of the three\n",
      "        largest values) of these features were computed for each image,\n",
      "        resulting in 30 features.  For instance, field 3 is Mean Radius, field\n",
      "        13 is Radius SE, field 23 is Worst Radius.\n",
      "\n",
      "        - class:\n",
      "                - WDBC-Malignant\n",
      "                - WDBC-Benign\n",
      "\n",
      "    :Summary Statistics:\n",
      "\n",
      "    ===================================== ====== ======\n",
      "                                           Min    Max\n",
      "    ===================================== ====== ======\n",
      "    radius (mean):                        6.981  28.11\n",
      "    texture (mean):                       9.71   39.28\n",
      "    perimeter (mean):                     43.79  188.5\n",
      "    area (mean):                          143.5  2501.0\n",
      "    smoothness (mean):                    0.053  0.163\n",
      "    compactness (mean):                   0.019  0.345\n",
      "    concavity (mean):                     0.0    0.427\n",
      "    concave points (mean):                0.0    0.201\n",
      "    symmetry (mean):                      0.106  0.304\n",
      "    fractal dimension (mean):             0.05   0.097\n",
      "    radius (standard error):              0.112  2.873\n",
      "    texture (standard error):             0.36   4.885\n",
      "    perimeter (standard error):           0.757  21.98\n",
      "    area (standard error):                6.802  542.2\n",
      "    smoothness (standard error):          0.002  0.031\n",
      "    compactness (standard error):         0.002  0.135\n",
      "    concavity (standard error):           0.0    0.396\n",
      "    concave points (standard error):      0.0    0.053\n",
      "    symmetry (standard error):            0.008  0.079\n",
      "    fractal dimension (standard error):   0.001  0.03\n",
      "    radius (worst):                       7.93   36.04\n",
      "    texture (worst):                      12.02  49.54\n",
      "    perimeter (worst):                    50.41  251.2\n",
      "    area (worst):                         185.2  4254.0\n",
      "    smoothness (worst):                   0.071  0.223\n",
      "    compactness (worst):                  0.027  1.058\n",
      "    concavity (worst):                    0.0    1.252\n",
      "    concave points (worst):               0.0    0.291\n",
      "    symmetry (worst):                     0.156  0.664\n",
      "    fractal dimension (worst):            0.055  0.208\n",
      "    ===================================== ====== ======\n",
      "\n",
      "    :Missing Attribute Values: None\n",
      "\n",
      "    :Class Distribution: 212 - Malignant, 357 - Benign\n",
      "\n",
      "    :Creator:  Dr. William H. Wolberg, W. Nick Street, Olvi L. Mangasarian\n",
      "\n",
      "    :Donor: Nick Street\n",
      "\n",
      "    :Date: November, 1995\n",
      "\n",
      "This is a copy of UCI ML Breast Cancer Wisconsin (Diagnostic) datasets.\n",
      "https://goo.gl/U2Uwz2\n",
      "\n",
      "Features are computed from a digitized image of a fine needle\n",
      "aspirate (FNA) of a breast mass.  They describe\n",
      "characteristics of the cell nuclei present in the image.\n",
      "\n",
      "Separating plane described above was obtained using\n",
      "Multisurface Method-Tree (MSM-T) [K. P. Bennett, \"Decision Tree\n",
      "Construction Via Linear Programming.\" Proceedings of the 4th\n",
      "Midwest Artificial Intelligence and Cognitive Science Society,\n",
      "pp. 97-101, 1992], a classification method which uses linear\n",
      "programming to construct a decision tree.  Relevant features\n",
      "were selected using an exhaustive search in the space of 1-4\n",
      "features and 1-3 separating planes.\n",
      "\n",
      "The actual linear program used to obtain the separating plane\n",
      "in the 3-dimensional space is that described in:\n",
      "[K. P. Bennett and O. L. Mangasarian: \"Robust Linear\n",
      "Programming Discrimination of Two Linearly Inseparable Sets\",\n",
      "Optimization Methods and Software 1, 1992, 23-34].\n",
      "\n",
      "This database is also available through the UW CS ftp server:\n",
      "\n",
      "ftp ftp.cs.wisc.edu\n",
      "cd math-prog/cpo-dataset/machine-learn/WDBC/\n",
      "\n",
      ".. topic:: References\n",
      "\n",
      "   - W.N. Street, W.H. Wolberg and O.L. Mangasarian. Nuclear feature extraction \n",
      "     for breast tumor diagnosis. IS&T/SPIE 1993 International Symposium on \n",
      "     Electronic Imaging: Science and Technology, volume 1905, pages 861-870,\n",
      "     San Jose, CA, 1993.\n",
      "   - O.L. Mangasarian, W.N. Street and W.H. Wolberg. Breast cancer diagnosis and \n",
      "     prognosis via linear programming. Operations Research, 43(4), pages 570-577, \n",
      "     July-August 1995.\n",
      "   - W.H. Wolberg, W.N. Street, and O.L. Mangasarian. Machine learning techniques\n",
      "     to diagnose breast cancer from fine-needle aspirates. Cancer Letters 77 (1994) \n",
      "     163-171.\n"
     ]
    }
   ],
   "source": [
    "print(cancer.DESCR)"
   ]
  },
  {
   "cell_type": "code",
   "execution_count": 4,
   "metadata": {},
   "outputs": [],
   "source": [
    "#ref: https://stackoverflow.com/questions/44340445/loading-sklearn-cancer-dataset-into-pandas-dataframe\n",
    "\n",
    "#Load the ‘load_breast_cancer’ dataset from sklearn.datasets. Rename the dataset ‘cancer_data.’\n",
    "\n",
    "cancer_data = pd.DataFrame(np.c_[cancer['data'], cancer['target']],\n",
    "                           columns= np.append(cancer['feature_names'], ['target']))"
   ]
  },
  {
   "cell_type": "code",
   "execution_count": 5,
   "metadata": {
    "scrolled": false
   },
   "outputs": [
    {
     "data": {
      "text/plain": [
       "(569, 31)"
      ]
     },
     "execution_count": 5,
     "metadata": {},
     "output_type": "execute_result"
    }
   ],
   "source": [
    "#Explore the data. Look at the shape of the ‘cancer_data.’\n",
    "\n",
    "cancer_data.shape"
   ]
  },
  {
   "cell_type": "code",
   "execution_count": 6,
   "metadata": {},
   "outputs": [
    {
     "data": {
      "text/html": [
       "<div>\n",
       "<style scoped>\n",
       "    .dataframe tbody tr th:only-of-type {\n",
       "        vertical-align: middle;\n",
       "    }\n",
       "\n",
       "    .dataframe tbody tr th {\n",
       "        vertical-align: top;\n",
       "    }\n",
       "\n",
       "    .dataframe thead th {\n",
       "        text-align: right;\n",
       "    }\n",
       "</style>\n",
       "<table border=\"1\" class=\"dataframe\">\n",
       "  <thead>\n",
       "    <tr style=\"text-align: right;\">\n",
       "      <th></th>\n",
       "      <th>mean radius</th>\n",
       "      <th>mean texture</th>\n",
       "      <th>mean perimeter</th>\n",
       "      <th>mean area</th>\n",
       "      <th>mean smoothness</th>\n",
       "      <th>mean compactness</th>\n",
       "      <th>mean concavity</th>\n",
       "      <th>mean concave points</th>\n",
       "      <th>mean symmetry</th>\n",
       "      <th>mean fractal dimension</th>\n",
       "      <th>...</th>\n",
       "      <th>worst texture</th>\n",
       "      <th>worst perimeter</th>\n",
       "      <th>worst area</th>\n",
       "      <th>worst smoothness</th>\n",
       "      <th>worst compactness</th>\n",
       "      <th>worst concavity</th>\n",
       "      <th>worst concave points</th>\n",
       "      <th>worst symmetry</th>\n",
       "      <th>worst fractal dimension</th>\n",
       "      <th>target</th>\n",
       "    </tr>\n",
       "  </thead>\n",
       "  <tbody>\n",
       "    <tr>\n",
       "      <td>0</td>\n",
       "      <td>17.99</td>\n",
       "      <td>10.38</td>\n",
       "      <td>122.80</td>\n",
       "      <td>1001.0</td>\n",
       "      <td>0.11840</td>\n",
       "      <td>0.27760</td>\n",
       "      <td>0.30010</td>\n",
       "      <td>0.14710</td>\n",
       "      <td>0.2419</td>\n",
       "      <td>0.07871</td>\n",
       "      <td>...</td>\n",
       "      <td>17.33</td>\n",
       "      <td>184.60</td>\n",
       "      <td>2019.0</td>\n",
       "      <td>0.16220</td>\n",
       "      <td>0.66560</td>\n",
       "      <td>0.7119</td>\n",
       "      <td>0.2654</td>\n",
       "      <td>0.4601</td>\n",
       "      <td>0.11890</td>\n",
       "      <td>0.0</td>\n",
       "    </tr>\n",
       "    <tr>\n",
       "      <td>1</td>\n",
       "      <td>20.57</td>\n",
       "      <td>17.77</td>\n",
       "      <td>132.90</td>\n",
       "      <td>1326.0</td>\n",
       "      <td>0.08474</td>\n",
       "      <td>0.07864</td>\n",
       "      <td>0.08690</td>\n",
       "      <td>0.07017</td>\n",
       "      <td>0.1812</td>\n",
       "      <td>0.05667</td>\n",
       "      <td>...</td>\n",
       "      <td>23.41</td>\n",
       "      <td>158.80</td>\n",
       "      <td>1956.0</td>\n",
       "      <td>0.12380</td>\n",
       "      <td>0.18660</td>\n",
       "      <td>0.2416</td>\n",
       "      <td>0.1860</td>\n",
       "      <td>0.2750</td>\n",
       "      <td>0.08902</td>\n",
       "      <td>0.0</td>\n",
       "    </tr>\n",
       "    <tr>\n",
       "      <td>2</td>\n",
       "      <td>19.69</td>\n",
       "      <td>21.25</td>\n",
       "      <td>130.00</td>\n",
       "      <td>1203.0</td>\n",
       "      <td>0.10960</td>\n",
       "      <td>0.15990</td>\n",
       "      <td>0.19740</td>\n",
       "      <td>0.12790</td>\n",
       "      <td>0.2069</td>\n",
       "      <td>0.05999</td>\n",
       "      <td>...</td>\n",
       "      <td>25.53</td>\n",
       "      <td>152.50</td>\n",
       "      <td>1709.0</td>\n",
       "      <td>0.14440</td>\n",
       "      <td>0.42450</td>\n",
       "      <td>0.4504</td>\n",
       "      <td>0.2430</td>\n",
       "      <td>0.3613</td>\n",
       "      <td>0.08758</td>\n",
       "      <td>0.0</td>\n",
       "    </tr>\n",
       "    <tr>\n",
       "      <td>3</td>\n",
       "      <td>11.42</td>\n",
       "      <td>20.38</td>\n",
       "      <td>77.58</td>\n",
       "      <td>386.1</td>\n",
       "      <td>0.14250</td>\n",
       "      <td>0.28390</td>\n",
       "      <td>0.24140</td>\n",
       "      <td>0.10520</td>\n",
       "      <td>0.2597</td>\n",
       "      <td>0.09744</td>\n",
       "      <td>...</td>\n",
       "      <td>26.50</td>\n",
       "      <td>98.87</td>\n",
       "      <td>567.7</td>\n",
       "      <td>0.20980</td>\n",
       "      <td>0.86630</td>\n",
       "      <td>0.6869</td>\n",
       "      <td>0.2575</td>\n",
       "      <td>0.6638</td>\n",
       "      <td>0.17300</td>\n",
       "      <td>0.0</td>\n",
       "    </tr>\n",
       "    <tr>\n",
       "      <td>4</td>\n",
       "      <td>20.29</td>\n",
       "      <td>14.34</td>\n",
       "      <td>135.10</td>\n",
       "      <td>1297.0</td>\n",
       "      <td>0.10030</td>\n",
       "      <td>0.13280</td>\n",
       "      <td>0.19800</td>\n",
       "      <td>0.10430</td>\n",
       "      <td>0.1809</td>\n",
       "      <td>0.05883</td>\n",
       "      <td>...</td>\n",
       "      <td>16.67</td>\n",
       "      <td>152.20</td>\n",
       "      <td>1575.0</td>\n",
       "      <td>0.13740</td>\n",
       "      <td>0.20500</td>\n",
       "      <td>0.4000</td>\n",
       "      <td>0.1625</td>\n",
       "      <td>0.2364</td>\n",
       "      <td>0.07678</td>\n",
       "      <td>0.0</td>\n",
       "    </tr>\n",
       "    <tr>\n",
       "      <td>...</td>\n",
       "      <td>...</td>\n",
       "      <td>...</td>\n",
       "      <td>...</td>\n",
       "      <td>...</td>\n",
       "      <td>...</td>\n",
       "      <td>...</td>\n",
       "      <td>...</td>\n",
       "      <td>...</td>\n",
       "      <td>...</td>\n",
       "      <td>...</td>\n",
       "      <td>...</td>\n",
       "      <td>...</td>\n",
       "      <td>...</td>\n",
       "      <td>...</td>\n",
       "      <td>...</td>\n",
       "      <td>...</td>\n",
       "      <td>...</td>\n",
       "      <td>...</td>\n",
       "      <td>...</td>\n",
       "      <td>...</td>\n",
       "      <td>...</td>\n",
       "    </tr>\n",
       "    <tr>\n",
       "      <td>564</td>\n",
       "      <td>21.56</td>\n",
       "      <td>22.39</td>\n",
       "      <td>142.00</td>\n",
       "      <td>1479.0</td>\n",
       "      <td>0.11100</td>\n",
       "      <td>0.11590</td>\n",
       "      <td>0.24390</td>\n",
       "      <td>0.13890</td>\n",
       "      <td>0.1726</td>\n",
       "      <td>0.05623</td>\n",
       "      <td>...</td>\n",
       "      <td>26.40</td>\n",
       "      <td>166.10</td>\n",
       "      <td>2027.0</td>\n",
       "      <td>0.14100</td>\n",
       "      <td>0.21130</td>\n",
       "      <td>0.4107</td>\n",
       "      <td>0.2216</td>\n",
       "      <td>0.2060</td>\n",
       "      <td>0.07115</td>\n",
       "      <td>0.0</td>\n",
       "    </tr>\n",
       "    <tr>\n",
       "      <td>565</td>\n",
       "      <td>20.13</td>\n",
       "      <td>28.25</td>\n",
       "      <td>131.20</td>\n",
       "      <td>1261.0</td>\n",
       "      <td>0.09780</td>\n",
       "      <td>0.10340</td>\n",
       "      <td>0.14400</td>\n",
       "      <td>0.09791</td>\n",
       "      <td>0.1752</td>\n",
       "      <td>0.05533</td>\n",
       "      <td>...</td>\n",
       "      <td>38.25</td>\n",
       "      <td>155.00</td>\n",
       "      <td>1731.0</td>\n",
       "      <td>0.11660</td>\n",
       "      <td>0.19220</td>\n",
       "      <td>0.3215</td>\n",
       "      <td>0.1628</td>\n",
       "      <td>0.2572</td>\n",
       "      <td>0.06637</td>\n",
       "      <td>0.0</td>\n",
       "    </tr>\n",
       "    <tr>\n",
       "      <td>566</td>\n",
       "      <td>16.60</td>\n",
       "      <td>28.08</td>\n",
       "      <td>108.30</td>\n",
       "      <td>858.1</td>\n",
       "      <td>0.08455</td>\n",
       "      <td>0.10230</td>\n",
       "      <td>0.09251</td>\n",
       "      <td>0.05302</td>\n",
       "      <td>0.1590</td>\n",
       "      <td>0.05648</td>\n",
       "      <td>...</td>\n",
       "      <td>34.12</td>\n",
       "      <td>126.70</td>\n",
       "      <td>1124.0</td>\n",
       "      <td>0.11390</td>\n",
       "      <td>0.30940</td>\n",
       "      <td>0.3403</td>\n",
       "      <td>0.1418</td>\n",
       "      <td>0.2218</td>\n",
       "      <td>0.07820</td>\n",
       "      <td>0.0</td>\n",
       "    </tr>\n",
       "    <tr>\n",
       "      <td>567</td>\n",
       "      <td>20.60</td>\n",
       "      <td>29.33</td>\n",
       "      <td>140.10</td>\n",
       "      <td>1265.0</td>\n",
       "      <td>0.11780</td>\n",
       "      <td>0.27700</td>\n",
       "      <td>0.35140</td>\n",
       "      <td>0.15200</td>\n",
       "      <td>0.2397</td>\n",
       "      <td>0.07016</td>\n",
       "      <td>...</td>\n",
       "      <td>39.42</td>\n",
       "      <td>184.60</td>\n",
       "      <td>1821.0</td>\n",
       "      <td>0.16500</td>\n",
       "      <td>0.86810</td>\n",
       "      <td>0.9387</td>\n",
       "      <td>0.2650</td>\n",
       "      <td>0.4087</td>\n",
       "      <td>0.12400</td>\n",
       "      <td>0.0</td>\n",
       "    </tr>\n",
       "    <tr>\n",
       "      <td>568</td>\n",
       "      <td>7.76</td>\n",
       "      <td>24.54</td>\n",
       "      <td>47.92</td>\n",
       "      <td>181.0</td>\n",
       "      <td>0.05263</td>\n",
       "      <td>0.04362</td>\n",
       "      <td>0.00000</td>\n",
       "      <td>0.00000</td>\n",
       "      <td>0.1587</td>\n",
       "      <td>0.05884</td>\n",
       "      <td>...</td>\n",
       "      <td>30.37</td>\n",
       "      <td>59.16</td>\n",
       "      <td>268.6</td>\n",
       "      <td>0.08996</td>\n",
       "      <td>0.06444</td>\n",
       "      <td>0.0000</td>\n",
       "      <td>0.0000</td>\n",
       "      <td>0.2871</td>\n",
       "      <td>0.07039</td>\n",
       "      <td>1.0</td>\n",
       "    </tr>\n",
       "  </tbody>\n",
       "</table>\n",
       "<p>569 rows × 31 columns</p>\n",
       "</div>"
      ],
      "text/plain": [
       "     mean radius  mean texture  mean perimeter  mean area  mean smoothness  \\\n",
       "0          17.99         10.38          122.80     1001.0          0.11840   \n",
       "1          20.57         17.77          132.90     1326.0          0.08474   \n",
       "2          19.69         21.25          130.00     1203.0          0.10960   \n",
       "3          11.42         20.38           77.58      386.1          0.14250   \n",
       "4          20.29         14.34          135.10     1297.0          0.10030   \n",
       "..           ...           ...             ...        ...              ...   \n",
       "564        21.56         22.39          142.00     1479.0          0.11100   \n",
       "565        20.13         28.25          131.20     1261.0          0.09780   \n",
       "566        16.60         28.08          108.30      858.1          0.08455   \n",
       "567        20.60         29.33          140.10     1265.0          0.11780   \n",
       "568         7.76         24.54           47.92      181.0          0.05263   \n",
       "\n",
       "     mean compactness  mean concavity  mean concave points  mean symmetry  \\\n",
       "0             0.27760         0.30010              0.14710         0.2419   \n",
       "1             0.07864         0.08690              0.07017         0.1812   \n",
       "2             0.15990         0.19740              0.12790         0.2069   \n",
       "3             0.28390         0.24140              0.10520         0.2597   \n",
       "4             0.13280         0.19800              0.10430         0.1809   \n",
       "..                ...             ...                  ...            ...   \n",
       "564           0.11590         0.24390              0.13890         0.1726   \n",
       "565           0.10340         0.14400              0.09791         0.1752   \n",
       "566           0.10230         0.09251              0.05302         0.1590   \n",
       "567           0.27700         0.35140              0.15200         0.2397   \n",
       "568           0.04362         0.00000              0.00000         0.1587   \n",
       "\n",
       "     mean fractal dimension  ...  worst texture  worst perimeter  worst area  \\\n",
       "0                   0.07871  ...          17.33           184.60      2019.0   \n",
       "1                   0.05667  ...          23.41           158.80      1956.0   \n",
       "2                   0.05999  ...          25.53           152.50      1709.0   \n",
       "3                   0.09744  ...          26.50            98.87       567.7   \n",
       "4                   0.05883  ...          16.67           152.20      1575.0   \n",
       "..                      ...  ...            ...              ...         ...   \n",
       "564                 0.05623  ...          26.40           166.10      2027.0   \n",
       "565                 0.05533  ...          38.25           155.00      1731.0   \n",
       "566                 0.05648  ...          34.12           126.70      1124.0   \n",
       "567                 0.07016  ...          39.42           184.60      1821.0   \n",
       "568                 0.05884  ...          30.37            59.16       268.6   \n",
       "\n",
       "     worst smoothness  worst compactness  worst concavity  \\\n",
       "0             0.16220            0.66560           0.7119   \n",
       "1             0.12380            0.18660           0.2416   \n",
       "2             0.14440            0.42450           0.4504   \n",
       "3             0.20980            0.86630           0.6869   \n",
       "4             0.13740            0.20500           0.4000   \n",
       "..                ...                ...              ...   \n",
       "564           0.14100            0.21130           0.4107   \n",
       "565           0.11660            0.19220           0.3215   \n",
       "566           0.11390            0.30940           0.3403   \n",
       "567           0.16500            0.86810           0.9387   \n",
       "568           0.08996            0.06444           0.0000   \n",
       "\n",
       "     worst concave points  worst symmetry  worst fractal dimension  target  \n",
       "0                  0.2654          0.4601                  0.11890     0.0  \n",
       "1                  0.1860          0.2750                  0.08902     0.0  \n",
       "2                  0.2430          0.3613                  0.08758     0.0  \n",
       "3                  0.2575          0.6638                  0.17300     0.0  \n",
       "4                  0.1625          0.2364                  0.07678     0.0  \n",
       "..                    ...             ...                      ...     ...  \n",
       "564                0.2216          0.2060                  0.07115     0.0  \n",
       "565                0.1628          0.2572                  0.06637     0.0  \n",
       "566                0.1418          0.2218                  0.07820     0.0  \n",
       "567                0.2650          0.4087                  0.12400     0.0  \n",
       "568                0.0000          0.2871                  0.07039     1.0  \n",
       "\n",
       "[569 rows x 31 columns]"
      ]
     },
     "execution_count": 6,
     "metadata": {},
     "output_type": "execute_result"
    }
   ],
   "source": [
    "cancer_data"
   ]
  },
  {
   "cell_type": "code",
   "execution_count": 7,
   "metadata": {},
   "outputs": [
    {
     "data": {
      "text/plain": [
       "mean radius                0\n",
       "mean texture               0\n",
       "mean perimeter             0\n",
       "mean area                  0\n",
       "mean smoothness            0\n",
       "mean compactness           0\n",
       "mean concavity             0\n",
       "mean concave points        0\n",
       "mean symmetry              0\n",
       "mean fractal dimension     0\n",
       "radius error               0\n",
       "texture error              0\n",
       "perimeter error            0\n",
       "area error                 0\n",
       "smoothness error           0\n",
       "compactness error          0\n",
       "concavity error            0\n",
       "concave points error       0\n",
       "symmetry error             0\n",
       "fractal dimension error    0\n",
       "worst radius               0\n",
       "worst texture              0\n",
       "worst perimeter            0\n",
       "worst area                 0\n",
       "worst smoothness           0\n",
       "worst compactness          0\n",
       "worst concavity            0\n",
       "worst concave points       0\n",
       "worst symmetry             0\n",
       "worst fractal dimension    0\n",
       "target                     0\n",
       "dtype: int64"
      ]
     },
     "execution_count": 7,
     "metadata": {},
     "output_type": "execute_result"
    }
   ],
   "source": [
    "cancer_data.isna().sum()"
   ]
  },
  {
   "cell_type": "code",
   "execution_count": 8,
   "metadata": {},
   "outputs": [],
   "source": [
    "#Create a test and train set. The test set represents 40% of the total dataset.\n",
    "\n",
    "x_train, x_test, y_train, y_test = train_test_split(cancer_data[cancer_data.columns[:-1]], cancer_data.target, test_size=0.40, random_state=0)"
   ]
  },
  {
   "cell_type": "code",
   "execution_count": 9,
   "metadata": {},
   "outputs": [
    {
     "name": "stdout",
     "output_type": "stream",
     "text": [
      "LinearSVC Accuracy: 87.28%\n"
     ]
    }
   ],
   "source": [
    "#Import the ‘SVM’ module from sklearn to create a support vector classifier in svc() by passing the argument kernel as the linear kernel. Name the classifier ‘cls.’\n",
    "\n",
    "cls = LinearSVC()\n",
    "cls.fit(x_train, y_train)\n",
    "prediction = cls.predict(x_test)\n",
    "scores = cross_val_score(cls, cancer_data[cancer_data.columns[:-1]], cancer_data.target, cv=5)\n",
    "\n",
    "accuracy_all=[]\n",
    "cvs_all=[]\n",
    "accuracy_all.append(accuracy_score(prediction, y_test))\n",
    "cvs_all.append(np.mean(scores))\n",
    "\n",
    "print(\"LinearSVC Accuracy: {0:.2%}\".format(accuracy_score(prediction, y_test)))"
   ]
  },
  {
   "cell_type": "code",
   "execution_count": 10,
   "metadata": {},
   "outputs": [
    {
     "name": "stdout",
     "output_type": "stream",
     "text": [
      "accuracy : 0.87\n",
      "precision : 0.83\n",
      "recall : 1.00\n",
      "f1_score: 0.91\n"
     ]
    }
   ],
   "source": [
    "#Evaluate the model by providing separately the accuracy, precision, recall, and the classification report.\n",
    "\n",
    "print(\"accuracy : {:.2f}\".format(accuracy_score(y_test, prediction)))\n",
    "print(\"precision : {:.2f}\".format(precision_score(y_test, prediction)))\n",
    "print(\"recall : {:.2f}\".format(recall_score(y_test, prediction)))\n",
    "print(\"f1_score: {:.2f}\".format(f1_score(y_test, prediction)))"
   ]
  },
  {
   "cell_type": "code",
   "execution_count": 11,
   "metadata": {},
   "outputs": [
    {
     "name": "stdout",
     "output_type": "stream",
     "text": [
      "classification report:\n",
      "              precision    recall  f1-score   support\n",
      "\n",
      "         0.0       1.00      0.65      0.79        83\n",
      "         1.0       0.83      1.00      0.91       145\n",
      "\n",
      "    accuracy                           0.87       228\n",
      "   macro avg       0.92      0.83      0.85       228\n",
      "weighted avg       0.89      0.87      0.87       228\n",
      "\n"
     ]
    }
   ],
   "source": [
    "print(\"classification report:\")\n",
    "print(classification_report(y_test,prediction))"
   ]
  },
  {
   "cell_type": "markdown",
   "metadata": {},
   "source": [
    "What are your conclusions?\n",
    "\n",
    "The model has 87% accuracy, 83% precision, and 100% recall. The recall higher than precision. This means that the model is dependable."
   ]
  },
  {
   "cell_type": "code",
   "execution_count": 12,
   "metadata": {},
   "outputs": [],
   "source": [
    "#Using kernel=’rbf’, C=[0.1,1, 100], ‘epsilon’=[0.1,0.5,1] and gamma=[1,3,5]\n",
    "\n",
    "param_grid = {'C':[0.1,1,100],'epsilon':[0.1,0.5,1],'gamma':[1,3,5]}"
   ]
  },
  {
   "cell_type": "code",
   "execution_count": 13,
   "metadata": {},
   "outputs": [],
   "source": [
    "grid = GridSearchCV(SVR(kernel='rbf'),param_grid,refit=True,verbose=3)"
   ]
  },
  {
   "cell_type": "code",
   "execution_count": 14,
   "metadata": {},
   "outputs": [],
   "source": [
    "pred = cls.predict(x_test)"
   ]
  },
  {
   "cell_type": "code",
   "execution_count": 15,
   "metadata": {},
   "outputs": [
    {
     "name": "stdout",
     "output_type": "stream",
     "text": [
      "Fitting 5 folds for each of 27 candidates, totalling 135 fits\n",
      "[CV] C=0.1, epsilon=0.1, gamma=1 .....................................\n",
      "[CV] ........ C=0.1, epsilon=0.1, gamma=1, score=-0.151, total=   0.0s\n",
      "[CV] C=0.1, epsilon=0.1, gamma=1 .....................................\n",
      "[CV] ........ C=0.1, epsilon=0.1, gamma=1, score=-0.183, total=   0.0s\n",
      "[CV] C=0.1, epsilon=0.1, gamma=1 .....................................\n",
      "[CV] ........ C=0.1, epsilon=0.1, gamma=1, score=-0.208, total=   0.0s\n",
      "[CV] C=0.1, epsilon=0.1, gamma=1 .....................................\n",
      "[CV] ........ C=0.1, epsilon=0.1, gamma=1, score=-0.235, total=   0.0s\n",
      "[CV] C=0.1, epsilon=0.1, gamma=1 .....................................\n",
      "[CV] ........ C=0.1, epsilon=0.1, gamma=1, score=-0.235, total=   0.0s\n",
      "[CV] C=0.1, epsilon=0.1, gamma=3 .....................................\n",
      "[CV] ........ C=0.1, epsilon=0.1, gamma=3, score=-0.151, total=   0.0s\n",
      "[CV] C=0.1, epsilon=0.1, gamma=3 .....................................\n",
      "[CV] ........ C=0.1, epsilon=0.1, gamma=3, score=-0.183, total=   0.0s\n",
      "[CV] C=0.1, epsilon=0.1, gamma=3 .....................................\n",
      "[CV] ........ C=0.1, epsilon=0.1, gamma=3, score=-0.208, total=   0.0s\n",
      "[CV] C=0.1, epsilon=0.1, gamma=3 .....................................\n",
      "[CV] ........ C=0.1, epsilon=0.1, gamma=3, score=-0.235, total=   0.0s\n",
      "[CV] C=0.1, epsilon=0.1, gamma=3 .....................................\n",
      "[CV] ........ C=0.1, epsilon=0.1, gamma=3, score=-0.235, total=   0.0s\n",
      "[CV] C=0.1, epsilon=0.1, gamma=5 .....................................\n",
      "[CV] ........ C=0.1, epsilon=0.1, gamma=5, score=-0.151, total=   0.0s\n",
      "[CV] C=0.1, epsilon=0.1, gamma=5 .....................................\n",
      "[CV] ........ C=0.1, epsilon=0.1, gamma=5, score=-0.183, total=   0.0s\n",
      "[CV] C=0.1, epsilon=0.1, gamma=5 .....................................\n"
     ]
    },
    {
     "name": "stderr",
     "output_type": "stream",
     "text": [
      "[Parallel(n_jobs=1)]: Using backend SequentialBackend with 1 concurrent workers.\n",
      "[Parallel(n_jobs=1)]: Done   1 out of   1 | elapsed:    0.0s remaining:    0.0s\n",
      "[Parallel(n_jobs=1)]: Done   2 out of   2 | elapsed:    0.0s remaining:    0.0s\n"
     ]
    },
    {
     "name": "stdout",
     "output_type": "stream",
     "text": [
      "[CV] ........ C=0.1, epsilon=0.1, gamma=5, score=-0.208, total=   0.0s\n",
      "[CV] C=0.1, epsilon=0.1, gamma=5 .....................................\n",
      "[CV] ........ C=0.1, epsilon=0.1, gamma=5, score=-0.235, total=   0.0s\n",
      "[CV] C=0.1, epsilon=0.1, gamma=5 .....................................\n",
      "[CV] ........ C=0.1, epsilon=0.1, gamma=5, score=-0.235, total=   0.0s\n",
      "[CV] C=0.1, epsilon=0.5, gamma=1 .....................................\n",
      "[CV] ........ C=0.1, epsilon=0.5, gamma=1, score=-0.102, total=   0.0s\n",
      "[CV] C=0.1, epsilon=0.5, gamma=1 .....................................\n",
      "[CV] ........ C=0.1, epsilon=0.5, gamma=1, score=-0.075, total=   0.0s\n",
      "[CV] C=0.1, epsilon=0.5, gamma=1 .....................................\n",
      "[CV] ........ C=0.1, epsilon=0.5, gamma=1, score=-0.059, total=   0.0s\n",
      "[CV] C=0.1, epsilon=0.5, gamma=1 .....................................\n",
      "[CV] ........ C=0.1, epsilon=0.5, gamma=1, score=-0.044, total=   0.0s\n",
      "[CV] C=0.1, epsilon=0.5, gamma=1 .....................................\n",
      "[CV] ........ C=0.1, epsilon=0.5, gamma=1, score=-0.044, total=   0.0s\n",
      "[CV] C=0.1, epsilon=0.5, gamma=3 .....................................\n",
      "[CV] ........ C=0.1, epsilon=0.5, gamma=3, score=-0.102, total=   0.0s\n",
      "[CV] C=0.1, epsilon=0.5, gamma=3 .....................................\n",
      "[CV] ........ C=0.1, epsilon=0.5, gamma=3, score=-0.075, total=   0.0s\n",
      "[CV] C=0.1, epsilon=0.5, gamma=3 .....................................\n",
      "[CV] ........ C=0.1, epsilon=0.5, gamma=3, score=-0.059, total=   0.0s\n",
      "[CV] C=0.1, epsilon=0.5, gamma=3 .....................................\n",
      "[CV] ........ C=0.1, epsilon=0.5, gamma=3, score=-0.044, total=   0.0s\n",
      "[CV] C=0.1, epsilon=0.5, gamma=3 .....................................\n",
      "[CV] ........ C=0.1, epsilon=0.5, gamma=3, score=-0.044, total=   0.0s\n",
      "[CV] C=0.1, epsilon=0.5, gamma=5 .....................................\n",
      "[CV] ........ C=0.1, epsilon=0.5, gamma=5, score=-0.102, total=   0.0s\n",
      "[CV] C=0.1, epsilon=0.5, gamma=5 .....................................\n",
      "[CV] ........ C=0.1, epsilon=0.5, gamma=5, score=-0.075, total=   0.0s\n",
      "[CV] C=0.1, epsilon=0.5, gamma=5 .....................................\n",
      "[CV] ........ C=0.1, epsilon=0.5, gamma=5, score=-0.059, total=   0.0s\n",
      "[CV] C=0.1, epsilon=0.5, gamma=5 .....................................\n",
      "[CV] ........ C=0.1, epsilon=0.5, gamma=5, score=-0.044, total=   0.0s\n",
      "[CV] C=0.1, epsilon=0.5, gamma=5 .....................................\n",
      "[CV] ........ C=0.1, epsilon=0.5, gamma=5, score=-0.044, total=   0.0s\n",
      "[CV] C=0.1, epsilon=1, gamma=1 .......................................\n",
      "[CV] .......... C=0.1, epsilon=1, gamma=1, score=-0.102, total=   0.0s\n",
      "[CV] C=0.1, epsilon=1, gamma=1 .......................................\n",
      "[CV] .......... C=0.1, epsilon=1, gamma=1, score=-0.075, total=   0.0s\n",
      "[CV] C=0.1, epsilon=1, gamma=1 .......................................\n",
      "[CV] .......... C=0.1, epsilon=1, gamma=1, score=-0.059, total=   0.0s\n",
      "[CV] C=0.1, epsilon=1, gamma=1 .......................................\n",
      "[CV] .......... C=0.1, epsilon=1, gamma=1, score=-0.044, total=   0.0s\n",
      "[CV] C=0.1, epsilon=1, gamma=1 .......................................\n",
      "[CV] .......... C=0.1, epsilon=1, gamma=1, score=-0.044, total=   0.0s\n",
      "[CV] C=0.1, epsilon=1, gamma=3 .......................................\n",
      "[CV] .......... C=0.1, epsilon=1, gamma=3, score=-0.102, total=   0.0s\n",
      "[CV] C=0.1, epsilon=1, gamma=3 .......................................\n",
      "[CV] .......... C=0.1, epsilon=1, gamma=3, score=-0.075, total=   0.0s\n",
      "[CV] C=0.1, epsilon=1, gamma=3 .......................................\n",
      "[CV] .......... C=0.1, epsilon=1, gamma=3, score=-0.059, total=   0.0s\n",
      "[CV] C=0.1, epsilon=1, gamma=3 .......................................\n",
      "[CV] .......... C=0.1, epsilon=1, gamma=3, score=-0.044, total=   0.0s\n",
      "[CV] C=0.1, epsilon=1, gamma=3 .......................................\n",
      "[CV] .......... C=0.1, epsilon=1, gamma=3, score=-0.044, total=   0.0s\n",
      "[CV] C=0.1, epsilon=1, gamma=5 .......................................\n",
      "[CV] .......... C=0.1, epsilon=1, gamma=5, score=-0.102, total=   0.0s\n",
      "[CV] C=0.1, epsilon=1, gamma=5 .......................................\n",
      "[CV] .......... C=0.1, epsilon=1, gamma=5, score=-0.075, total=   0.0s\n",
      "[CV] C=0.1, epsilon=1, gamma=5 .......................................\n",
      "[CV] .......... C=0.1, epsilon=1, gamma=5, score=-0.059, total=   0.0s\n",
      "[CV] C=0.1, epsilon=1, gamma=5 .......................................\n",
      "[CV] .......... C=0.1, epsilon=1, gamma=5, score=-0.044, total=   0.0s\n",
      "[CV] C=0.1, epsilon=1, gamma=5 .......................................\n",
      "[CV] .......... C=0.1, epsilon=1, gamma=5, score=-0.044, total=   0.0s\n",
      "[CV] C=1, epsilon=0.1, gamma=1 .......................................\n",
      "[CV] .......... C=1, epsilon=0.1, gamma=1, score=-0.016, total=   0.0s\n",
      "[CV] C=1, epsilon=0.1, gamma=1 .......................................\n",
      "[CV] .......... C=1, epsilon=0.1, gamma=1, score=-0.006, total=   0.0s\n",
      "[CV] C=1, epsilon=0.1, gamma=1 .......................................\n",
      "[CV] .......... C=1, epsilon=0.1, gamma=1, score=-0.002, total=   0.0s\n",
      "[CV] C=1, epsilon=0.1, gamma=1 .......................................\n",
      "[CV] .......... C=1, epsilon=0.1, gamma=1, score=-0.000, total=   0.0s\n",
      "[CV] C=1, epsilon=0.1, gamma=1 .......................................\n",
      "[CV] .......... C=1, epsilon=0.1, gamma=1, score=-0.000, total=   0.0s\n",
      "[CV] C=1, epsilon=0.1, gamma=3 .......................................\n",
      "[CV] .......... C=1, epsilon=0.1, gamma=3, score=-0.016, total=   0.0s\n",
      "[CV] C=1, epsilon=0.1, gamma=3 .......................................\n",
      "[CV] .......... C=1, epsilon=0.1, gamma=3, score=-0.006, total=   0.0s\n",
      "[CV] C=1, epsilon=0.1, gamma=3 .......................................\n",
      "[CV] .......... C=1, epsilon=0.1, gamma=3, score=-0.002, total=   0.0s\n",
      "[CV] C=1, epsilon=0.1, gamma=3 .......................................\n",
      "[CV] .......... C=1, epsilon=0.1, gamma=3, score=-0.000, total=   0.0s\n",
      "[CV] C=1, epsilon=0.1, gamma=3 .......................................\n",
      "[CV] .......... C=1, epsilon=0.1, gamma=3, score=-0.000, total=   0.0s\n",
      "[CV] C=1, epsilon=0.1, gamma=5 .......................................\n",
      "[CV] .......... C=1, epsilon=0.1, gamma=5, score=-0.016, total=   0.0s\n",
      "[CV] C=1, epsilon=0.1, gamma=5 .......................................\n",
      "[CV] .......... C=1, epsilon=0.1, gamma=5, score=-0.006, total=   0.0s\n",
      "[CV] C=1, epsilon=0.1, gamma=5 .......................................\n",
      "[CV] .......... C=1, epsilon=0.1, gamma=5, score=-0.002, total=   0.0s\n",
      "[CV] C=1, epsilon=0.1, gamma=5 .......................................\n",
      "[CV] .......... C=1, epsilon=0.1, gamma=5, score=-0.000, total=   0.0s\n",
      "[CV] C=1, epsilon=0.1, gamma=5 .......................................\n",
      "[CV] .......... C=1, epsilon=0.1, gamma=5, score=-0.000, total=   0.0s\n",
      "[CV] C=1, epsilon=0.5, gamma=1 .......................................\n",
      "[CV] .......... C=1, epsilon=0.5, gamma=1, score=-0.102, total=   0.0s\n",
      "[CV] C=1, epsilon=0.5, gamma=1 .......................................\n",
      "[CV] .......... C=1, epsilon=0.5, gamma=1, score=-0.075, total=   0.0s\n",
      "[CV] C=1, epsilon=0.5, gamma=1 .......................................\n",
      "[CV] .......... C=1, epsilon=0.5, gamma=1, score=-0.059, total=   0.0s\n",
      "[CV] C=1, epsilon=0.5, gamma=1 .......................................\n",
      "[CV] .......... C=1, epsilon=0.5, gamma=1, score=-0.044, total=   0.0s\n",
      "[CV] C=1, epsilon=0.5, gamma=1 .......................................\n",
      "[CV] .......... C=1, epsilon=0.5, gamma=1, score=-0.044, total=   0.0s\n",
      "[CV] C=1, epsilon=0.5, gamma=3 .......................................\n",
      "[CV] .......... C=1, epsilon=0.5, gamma=3, score=-0.102, total=   0.0s\n",
      "[CV] C=1, epsilon=0.5, gamma=3 .......................................\n",
      "[CV] .......... C=1, epsilon=0.5, gamma=3, score=-0.075, total=   0.0s\n",
      "[CV] C=1, epsilon=0.5, gamma=3 .......................................\n",
      "[CV] .......... C=1, epsilon=0.5, gamma=3, score=-0.059, total=   0.0s\n",
      "[CV] C=1, epsilon=0.5, gamma=3 .......................................\n",
      "[CV] .......... C=1, epsilon=0.5, gamma=3, score=-0.044, total=   0.0s\n",
      "[CV] C=1, epsilon=0.5, gamma=3 .......................................\n",
      "[CV] .......... C=1, epsilon=0.5, gamma=3, score=-0.044, total=   0.0s\n",
      "[CV] C=1, epsilon=0.5, gamma=5 .......................................\n",
      "[CV] .......... C=1, epsilon=0.5, gamma=5, score=-0.102, total=   0.0s\n",
      "[CV] C=1, epsilon=0.5, gamma=5 .......................................\n",
      "[CV] .......... C=1, epsilon=0.5, gamma=5, score=-0.075, total=   0.0s\n",
      "[CV] C=1, epsilon=0.5, gamma=5 .......................................\n",
      "[CV] .......... C=1, epsilon=0.5, gamma=5, score=-0.059, total=   0.0s\n",
      "[CV] C=1, epsilon=0.5, gamma=5 .......................................\n",
      "[CV] .......... C=1, epsilon=0.5, gamma=5, score=-0.044, total=   0.0s\n",
      "[CV] C=1, epsilon=0.5, gamma=5 .......................................\n",
      "[CV] .......... C=1, epsilon=0.5, gamma=5, score=-0.044, total=   0.0s\n",
      "[CV] C=1, epsilon=1, gamma=1 .........................................\n",
      "[CV] ............ C=1, epsilon=1, gamma=1, score=-0.102, total=   0.0s\n",
      "[CV] C=1, epsilon=1, gamma=1 .........................................\n",
      "[CV] ............ C=1, epsilon=1, gamma=1, score=-0.075, total=   0.0s\n",
      "[CV] C=1, epsilon=1, gamma=1 .........................................\n",
      "[CV] ............ C=1, epsilon=1, gamma=1, score=-0.059, total=   0.0s\n",
      "[CV] C=1, epsilon=1, gamma=1 .........................................\n",
      "[CV] ............ C=1, epsilon=1, gamma=1, score=-0.044, total=   0.0s\n",
      "[CV] C=1, epsilon=1, gamma=1 .........................................\n",
      "[CV] ............ C=1, epsilon=1, gamma=1, score=-0.044, total=   0.0s\n",
      "[CV] C=1, epsilon=1, gamma=3 .........................................\n",
      "[CV] ............ C=1, epsilon=1, gamma=3, score=-0.102, total=   0.0s\n",
      "[CV] C=1, epsilon=1, gamma=3 .........................................\n",
      "[CV] ............ C=1, epsilon=1, gamma=3, score=-0.075, total=   0.0s\n",
      "[CV] C=1, epsilon=1, gamma=3 .........................................\n"
     ]
    },
    {
     "name": "stdout",
     "output_type": "stream",
     "text": [
      "[CV] ............ C=1, epsilon=1, gamma=3, score=-0.059, total=   0.0s\n",
      "[CV] C=1, epsilon=1, gamma=3 .........................................\n",
      "[CV] ............ C=1, epsilon=1, gamma=3, score=-0.044, total=   0.0s\n",
      "[CV] C=1, epsilon=1, gamma=3 .........................................\n",
      "[CV] ............ C=1, epsilon=1, gamma=3, score=-0.044, total=   0.0s\n",
      "[CV] C=1, epsilon=1, gamma=5 .........................................\n",
      "[CV] ............ C=1, epsilon=1, gamma=5, score=-0.102, total=   0.0s\n",
      "[CV] C=1, epsilon=1, gamma=5 .........................................\n",
      "[CV] ............ C=1, epsilon=1, gamma=5, score=-0.075, total=   0.0s\n",
      "[CV] C=1, epsilon=1, gamma=5 .........................................\n",
      "[CV] ............ C=1, epsilon=1, gamma=5, score=-0.059, total=   0.0s\n",
      "[CV] C=1, epsilon=1, gamma=5 .........................................\n",
      "[CV] ............ C=1, epsilon=1, gamma=5, score=-0.044, total=   0.0s\n",
      "[CV] C=1, epsilon=1, gamma=5 .........................................\n",
      "[CV] ............ C=1, epsilon=1, gamma=5, score=-0.044, total=   0.0s\n",
      "[CV] C=100, epsilon=0.1, gamma=1 .....................................\n",
      "[CV] ........ C=100, epsilon=0.1, gamma=1, score=-0.016, total=   0.0s\n",
      "[CV] C=100, epsilon=0.1, gamma=1 .....................................\n",
      "[CV] ........ C=100, epsilon=0.1, gamma=1, score=-0.006, total=   0.0s\n",
      "[CV] C=100, epsilon=0.1, gamma=1 .....................................\n",
      "[CV] ........ C=100, epsilon=0.1, gamma=1, score=-0.002, total=   0.0s\n",
      "[CV] C=100, epsilon=0.1, gamma=1 .....................................\n",
      "[CV] ........ C=100, epsilon=0.1, gamma=1, score=-0.000, total=   0.0s\n",
      "[CV] C=100, epsilon=0.1, gamma=1 .....................................\n",
      "[CV] ........ C=100, epsilon=0.1, gamma=1, score=-0.000, total=   0.0s\n",
      "[CV] C=100, epsilon=0.1, gamma=3 .....................................\n",
      "[CV] ........ C=100, epsilon=0.1, gamma=3, score=-0.016, total=   0.0s\n",
      "[CV] C=100, epsilon=0.1, gamma=3 .....................................\n",
      "[CV] ........ C=100, epsilon=0.1, gamma=3, score=-0.006, total=   0.0s\n",
      "[CV] C=100, epsilon=0.1, gamma=3 .....................................\n",
      "[CV] ........ C=100, epsilon=0.1, gamma=3, score=-0.002, total=   0.0s\n",
      "[CV] C=100, epsilon=0.1, gamma=3 .....................................\n",
      "[CV] ........ C=100, epsilon=0.1, gamma=3, score=-0.000, total=   0.0s\n",
      "[CV] C=100, epsilon=0.1, gamma=3 .....................................\n",
      "[CV] ........ C=100, epsilon=0.1, gamma=3, score=-0.000, total=   0.0s\n",
      "[CV] C=100, epsilon=0.1, gamma=5 .....................................\n",
      "[CV] ........ C=100, epsilon=0.1, gamma=5, score=-0.016, total=   0.0s\n",
      "[CV] C=100, epsilon=0.1, gamma=5 .....................................\n",
      "[CV] ........ C=100, epsilon=0.1, gamma=5, score=-0.006, total=   0.0s\n",
      "[CV] C=100, epsilon=0.1, gamma=5 .....................................\n",
      "[CV] ........ C=100, epsilon=0.1, gamma=5, score=-0.002, total=   0.0s\n",
      "[CV] C=100, epsilon=0.1, gamma=5 .....................................\n",
      "[CV] ........ C=100, epsilon=0.1, gamma=5, score=-0.000, total=   0.0s\n",
      "[CV] C=100, epsilon=0.1, gamma=5 .....................................\n",
      "[CV] ........ C=100, epsilon=0.1, gamma=5, score=-0.000, total=   0.0s\n",
      "[CV] C=100, epsilon=0.5, gamma=1 .....................................\n",
      "[CV] ........ C=100, epsilon=0.5, gamma=1, score=-0.102, total=   0.0s\n",
      "[CV] C=100, epsilon=0.5, gamma=1 .....................................\n",
      "[CV] ........ C=100, epsilon=0.5, gamma=1, score=-0.075, total=   0.0s\n",
      "[CV] C=100, epsilon=0.5, gamma=1 .....................................\n",
      "[CV] ........ C=100, epsilon=0.5, gamma=1, score=-0.059, total=   0.0s\n",
      "[CV] C=100, epsilon=0.5, gamma=1 .....................................\n",
      "[CV] ........ C=100, epsilon=0.5, gamma=1, score=-0.044, total=   0.0s\n",
      "[CV] C=100, epsilon=0.5, gamma=1 .....................................\n",
      "[CV] ........ C=100, epsilon=0.5, gamma=1, score=-0.044, total=   0.0s\n",
      "[CV] C=100, epsilon=0.5, gamma=3 .....................................\n",
      "[CV] ........ C=100, epsilon=0.5, gamma=3, score=-0.102, total=   0.0s\n",
      "[CV] C=100, epsilon=0.5, gamma=3 .....................................\n",
      "[CV] ........ C=100, epsilon=0.5, gamma=3, score=-0.075, total=   0.0s\n",
      "[CV] C=100, epsilon=0.5, gamma=3 .....................................\n",
      "[CV] ........ C=100, epsilon=0.5, gamma=3, score=-0.059, total=   0.0s\n",
      "[CV] C=100, epsilon=0.5, gamma=3 .....................................\n",
      "[CV] ........ C=100, epsilon=0.5, gamma=3, score=-0.044, total=   0.0s\n",
      "[CV] C=100, epsilon=0.5, gamma=3 .....................................\n",
      "[CV] ........ C=100, epsilon=0.5, gamma=3, score=-0.044, total=   0.0s\n",
      "[CV] C=100, epsilon=0.5, gamma=5 .....................................\n",
      "[CV] ........ C=100, epsilon=0.5, gamma=5, score=-0.102, total=   0.0s\n",
      "[CV] C=100, epsilon=0.5, gamma=5 .....................................\n",
      "[CV] ........ C=100, epsilon=0.5, gamma=5, score=-0.075, total=   0.0s\n",
      "[CV] C=100, epsilon=0.5, gamma=5 .....................................\n",
      "[CV] ........ C=100, epsilon=0.5, gamma=5, score=-0.059, total=   0.0s\n",
      "[CV] C=100, epsilon=0.5, gamma=5 .....................................\n",
      "[CV] ........ C=100, epsilon=0.5, gamma=5, score=-0.044, total=   0.0s\n",
      "[CV] C=100, epsilon=0.5, gamma=5 .....................................\n",
      "[CV] ........ C=100, epsilon=0.5, gamma=5, score=-0.044, total=   0.0s\n",
      "[CV] C=100, epsilon=1, gamma=1 .......................................\n",
      "[CV] .......... C=100, epsilon=1, gamma=1, score=-0.102, total=   0.0s\n",
      "[CV] C=100, epsilon=1, gamma=1 .......................................\n",
      "[CV] .......... C=100, epsilon=1, gamma=1, score=-0.075, total=   0.0s\n",
      "[CV] C=100, epsilon=1, gamma=1 .......................................\n",
      "[CV] .......... C=100, epsilon=1, gamma=1, score=-0.059, total=   0.0s\n",
      "[CV] C=100, epsilon=1, gamma=1 .......................................\n",
      "[CV] .......... C=100, epsilon=1, gamma=1, score=-0.044, total=   0.0s\n",
      "[CV] C=100, epsilon=1, gamma=1 .......................................\n",
      "[CV] .......... C=100, epsilon=1, gamma=1, score=-0.044, total=   0.0s\n",
      "[CV] C=100, epsilon=1, gamma=3 .......................................\n",
      "[CV] .......... C=100, epsilon=1, gamma=3, score=-0.102, total=   0.0s\n",
      "[CV] C=100, epsilon=1, gamma=3 .......................................\n",
      "[CV] .......... C=100, epsilon=1, gamma=3, score=-0.075, total=   0.0s\n",
      "[CV] C=100, epsilon=1, gamma=3 .......................................\n",
      "[CV] .......... C=100, epsilon=1, gamma=3, score=-0.059, total=   0.0s\n",
      "[CV] C=100, epsilon=1, gamma=3 .......................................\n",
      "[CV] .......... C=100, epsilon=1, gamma=3, score=-0.044, total=   0.0s\n",
      "[CV] C=100, epsilon=1, gamma=3 .......................................\n",
      "[CV] .......... C=100, epsilon=1, gamma=3, score=-0.044, total=   0.0s\n",
      "[CV] C=100, epsilon=1, gamma=5 .......................................\n",
      "[CV] .......... C=100, epsilon=1, gamma=5, score=-0.102, total=   0.0s\n",
      "[CV] C=100, epsilon=1, gamma=5 .......................................\n",
      "[CV] .......... C=100, epsilon=1, gamma=5, score=-0.075, total=   0.0s\n",
      "[CV] C=100, epsilon=1, gamma=5 .......................................\n",
      "[CV] .......... C=100, epsilon=1, gamma=5, score=-0.059, total=   0.0s\n",
      "[CV] C=100, epsilon=1, gamma=5 .......................................\n",
      "[CV] .......... C=100, epsilon=1, gamma=5, score=-0.044, total=   0.0s\n",
      "[CV] C=100, epsilon=1, gamma=5 .......................................\n",
      "[CV] .......... C=100, epsilon=1, gamma=5, score=-0.044, total=   0.0s\n"
     ]
    },
    {
     "name": "stderr",
     "output_type": "stream",
     "text": [
      "[Parallel(n_jobs=1)]: Done 135 out of 135 | elapsed:    0.7s finished\n"
     ]
    },
    {
     "data": {
      "text/plain": [
       "GridSearchCV(cv=None, error_score=nan,\n",
       "             estimator=SVR(C=1.0, cache_size=200, coef0=0.0, degree=3,\n",
       "                           epsilon=0.1, gamma='scale', kernel='rbf',\n",
       "                           max_iter=-1, shrinking=True, tol=0.001,\n",
       "                           verbose=False),\n",
       "             iid='deprecated', n_jobs=None,\n",
       "             param_grid={'C': [0.1, 1, 100], 'epsilon': [0.1, 0.5, 1],\n",
       "                         'gamma': [1, 3, 5]},\n",
       "             pre_dispatch='2*n_jobs', refit=True, return_train_score=False,\n",
       "             scoring=None, verbose=3)"
      ]
     },
     "execution_count": 15,
     "metadata": {},
     "output_type": "execute_result"
    }
   ],
   "source": [
    "grid.fit(x_train,y_train)"
   ]
  },
  {
   "cell_type": "code",
   "execution_count": 16,
   "metadata": {},
   "outputs": [
    {
     "name": "stdout",
     "output_type": "stream",
     "text": [
      "{'C': 1, 'epsilon': 0.1, 'gamma': 1}\n"
     ]
    }
   ],
   "source": [
    "#what are the best parameters?\n",
    "\n",
    "print(grid.best_params_)"
   ]
  },
  {
   "cell_type": "code",
   "execution_count": 17,
   "metadata": {},
   "outputs": [
    {
     "name": "stdout",
     "output_type": "stream",
     "text": [
      "SVR(C=1, cache_size=200, coef0=0.0, degree=3, epsilon=0.1, gamma=1,\n",
      "    kernel='rbf', max_iter=-1, shrinking=True, tol=0.001, verbose=False)\n"
     ]
    }
   ],
   "source": [
    "print(grid.best_estimator_)"
   ]
  },
  {
   "cell_type": "markdown",
   "metadata": {},
   "source": [
    "What does C, epsilon, and gamma represent? What happens if you reduce gamma?\n",
    "\n",
    "C is the cost of misclassification as correctly stated by Dima.\n",
    "\n",
    "A large C gives you low bias and high variance. Low bias because you penalize the cost of missclasification a lot.\n",
    "A small C gives you higher bias and lower variance.\n",
    "\n",
    "Epsilon specifies the epsilon-tube within which no penalty is associated in the training loss function with points predicted within a distance epsilon from the actual value.\n",
    "\n",
    "Gamma is the parameter of a Gaussian Kernel (to handle non-linear classification). \n",
    "\n",
    "Low gamma means that the Gaussian has a very large variance.\n",
    "\n",
    "#ref: https://www.quora.com/What-are-C-and-gamma-with-regards-to-a-support-vector-machine\n",
    "#ref: https://scikit-learn.org/stable/auto_examples/svm/plot_rbf_parameters.html\n",
    "#ref: https://scikit-learn.org/stable/modules/generated/sklearn.svm.SVR.html\n",
    "#ref: https://www.researchgate.net/post/Does_the_choice_of_gamma_value_has_any_serious_effect_on_model_performance_in_SVM_classification"
   ]
  },
  {
   "cell_type": "code",
   "execution_count": null,
   "metadata": {},
   "outputs": [],
   "source": []
  },
  {
   "cell_type": "markdown",
   "metadata": {},
   "source": [
    "## Exercise 2. Naïve Bayes [10 points]\n",
    "1. Load the ‘iris’ dataset from sklearn.datasets.\n",
    "2. Define the feature matrix X and the target vector y\n",
    "3. Split X and y into the training and test sets. Use 40% for the test set.\n",
    "4. Use the training set to train the Naïve Bayes model using GaussianNB.\n",
    "5. Make predictions using the test set.\n",
    "6. Compare actual target values (y_test) with predicted target values (y_pred) in percent.\n",
    "7. What are your conclusions?\n",
    "8. What are the other types of Naïve Bayes classifiers?"
   ]
  },
  {
   "cell_type": "code",
   "execution_count": 18,
   "metadata": {},
   "outputs": [],
   "source": [
    "import pandas as pd\n",
    "import numpy as np\n",
    "from matplotlib import pyplot as plt\n",
    "import matplotlib.colors as colors\n",
    "import seaborn as sns\n",
    "import itertools\n",
    "from scipy.stats import norm\n",
    "import scipy.stats\n",
    "from sklearn import datasets\n",
    "from sklearn.naive_bayes import GaussianNB\n",
    "from sklearn import metrics\n",
    "from sklearn.metrics import accuracy_score\n",
    "from sklearn.model_selection import train_test_split\n",
    "from sklearn.metrics import confusion_matrix\n",
    "\n",
    "%matplotlib inline\n",
    "sns.set()"
   ]
  },
  {
   "cell_type": "code",
   "execution_count": 19,
   "metadata": {},
   "outputs": [],
   "source": [
    "#Load the ‘iris’ dataset from sklearn.datasets\n",
    "\n",
    "from sklearn.datasets import load_iris"
   ]
  },
  {
   "cell_type": "code",
   "execution_count": 20,
   "metadata": {},
   "outputs": [],
   "source": [
    "iris = sns.load_dataset(\"iris\")\n",
    "iris1 = datasets.load_iris()"
   ]
  },
  {
   "cell_type": "code",
   "execution_count": 21,
   "metadata": {
    "scrolled": true
   },
   "outputs": [
    {
     "name": "stdout",
     "output_type": "stream",
     "text": [
      ".. _iris_dataset:\n",
      "\n",
      "Iris plants dataset\n",
      "--------------------\n",
      "\n",
      "**Data Set Characteristics:**\n",
      "\n",
      "    :Number of Instances: 150 (50 in each of three classes)\n",
      "    :Number of Attributes: 4 numeric, predictive attributes and the class\n",
      "    :Attribute Information:\n",
      "        - sepal length in cm\n",
      "        - sepal width in cm\n",
      "        - petal length in cm\n",
      "        - petal width in cm\n",
      "        - class:\n",
      "                - Iris-Setosa\n",
      "                - Iris-Versicolour\n",
      "                - Iris-Virginica\n",
      "                \n",
      "    :Summary Statistics:\n",
      "\n",
      "    ============== ==== ==== ======= ===== ====================\n",
      "                    Min  Max   Mean    SD   Class Correlation\n",
      "    ============== ==== ==== ======= ===== ====================\n",
      "    sepal length:   4.3  7.9   5.84   0.83    0.7826\n",
      "    sepal width:    2.0  4.4   3.05   0.43   -0.4194\n",
      "    petal length:   1.0  6.9   3.76   1.76    0.9490  (high!)\n",
      "    petal width:    0.1  2.5   1.20   0.76    0.9565  (high!)\n",
      "    ============== ==== ==== ======= ===== ====================\n",
      "\n",
      "    :Missing Attribute Values: None\n",
      "    :Class Distribution: 33.3% for each of 3 classes.\n",
      "    :Creator: R.A. Fisher\n",
      "    :Donor: Michael Marshall (MARSHALL%PLU@io.arc.nasa.gov)\n",
      "    :Date: July, 1988\n",
      "\n",
      "The famous Iris database, first used by Sir R.A. Fisher. The dataset is taken\n",
      "from Fisher's paper. Note that it's the same as in R, but not as in the UCI\n",
      "Machine Learning Repository, which has two wrong data points.\n",
      "\n",
      "This is perhaps the best known database to be found in the\n",
      "pattern recognition literature.  Fisher's paper is a classic in the field and\n",
      "is referenced frequently to this day.  (See Duda & Hart, for example.)  The\n",
      "data set contains 3 classes of 50 instances each, where each class refers to a\n",
      "type of iris plant.  One class is linearly separable from the other 2; the\n",
      "latter are NOT linearly separable from each other.\n",
      "\n",
      ".. topic:: References\n",
      "\n",
      "   - Fisher, R.A. \"The use of multiple measurements in taxonomic problems\"\n",
      "     Annual Eugenics, 7, Part II, 179-188 (1936); also in \"Contributions to\n",
      "     Mathematical Statistics\" (John Wiley, NY, 1950).\n",
      "   - Duda, R.O., & Hart, P.E. (1973) Pattern Classification and Scene Analysis.\n",
      "     (Q327.D83) John Wiley & Sons.  ISBN 0-471-22361-1.  See page 218.\n",
      "   - Dasarathy, B.V. (1980) \"Nosing Around the Neighborhood: A New System\n",
      "     Structure and Classification Rule for Recognition in Partially Exposed\n",
      "     Environments\".  IEEE Transactions on Pattern Analysis and Machine\n",
      "     Intelligence, Vol. PAMI-2, No. 1, 67-71.\n",
      "   - Gates, G.W. (1972) \"The Reduced Nearest Neighbor Rule\".  IEEE Transactions\n",
      "     on Information Theory, May 1972, 431-433.\n",
      "   - See also: 1988 MLC Proceedings, 54-64.  Cheeseman et al\"s AUTOCLASS II\n",
      "     conceptual clustering system finds 3 classes in the data.\n",
      "   - Many, many more ...\n"
     ]
    }
   ],
   "source": [
    "print(iris1.DESCR)"
   ]
  },
  {
   "cell_type": "code",
   "execution_count": 22,
   "metadata": {},
   "outputs": [
    {
     "data": {
      "text/html": [
       "<div>\n",
       "<style scoped>\n",
       "    .dataframe tbody tr th:only-of-type {\n",
       "        vertical-align: middle;\n",
       "    }\n",
       "\n",
       "    .dataframe tbody tr th {\n",
       "        vertical-align: top;\n",
       "    }\n",
       "\n",
       "    .dataframe thead th {\n",
       "        text-align: right;\n",
       "    }\n",
       "</style>\n",
       "<table border=\"1\" class=\"dataframe\">\n",
       "  <thead>\n",
       "    <tr style=\"text-align: right;\">\n",
       "      <th></th>\n",
       "      <th>sepal_length</th>\n",
       "      <th>sepal_width</th>\n",
       "      <th>petal_length</th>\n",
       "      <th>petal_width</th>\n",
       "      <th>species</th>\n",
       "    </tr>\n",
       "  </thead>\n",
       "  <tbody>\n",
       "    <tr>\n",
       "      <td>0</td>\n",
       "      <td>5.1</td>\n",
       "      <td>3.5</td>\n",
       "      <td>1.4</td>\n",
       "      <td>0.2</td>\n",
       "      <td>setosa</td>\n",
       "    </tr>\n",
       "    <tr>\n",
       "      <td>1</td>\n",
       "      <td>4.9</td>\n",
       "      <td>3.0</td>\n",
       "      <td>1.4</td>\n",
       "      <td>0.2</td>\n",
       "      <td>setosa</td>\n",
       "    </tr>\n",
       "    <tr>\n",
       "      <td>2</td>\n",
       "      <td>4.7</td>\n",
       "      <td>3.2</td>\n",
       "      <td>1.3</td>\n",
       "      <td>0.2</td>\n",
       "      <td>setosa</td>\n",
       "    </tr>\n",
       "    <tr>\n",
       "      <td>3</td>\n",
       "      <td>4.6</td>\n",
       "      <td>3.1</td>\n",
       "      <td>1.5</td>\n",
       "      <td>0.2</td>\n",
       "      <td>setosa</td>\n",
       "    </tr>\n",
       "    <tr>\n",
       "      <td>4</td>\n",
       "      <td>5.0</td>\n",
       "      <td>3.6</td>\n",
       "      <td>1.4</td>\n",
       "      <td>0.2</td>\n",
       "      <td>setosa</td>\n",
       "    </tr>\n",
       "    <tr>\n",
       "      <td>...</td>\n",
       "      <td>...</td>\n",
       "      <td>...</td>\n",
       "      <td>...</td>\n",
       "      <td>...</td>\n",
       "      <td>...</td>\n",
       "    </tr>\n",
       "    <tr>\n",
       "      <td>145</td>\n",
       "      <td>6.7</td>\n",
       "      <td>3.0</td>\n",
       "      <td>5.2</td>\n",
       "      <td>2.3</td>\n",
       "      <td>virginica</td>\n",
       "    </tr>\n",
       "    <tr>\n",
       "      <td>146</td>\n",
       "      <td>6.3</td>\n",
       "      <td>2.5</td>\n",
       "      <td>5.0</td>\n",
       "      <td>1.9</td>\n",
       "      <td>virginica</td>\n",
       "    </tr>\n",
       "    <tr>\n",
       "      <td>147</td>\n",
       "      <td>6.5</td>\n",
       "      <td>3.0</td>\n",
       "      <td>5.2</td>\n",
       "      <td>2.0</td>\n",
       "      <td>virginica</td>\n",
       "    </tr>\n",
       "    <tr>\n",
       "      <td>148</td>\n",
       "      <td>6.2</td>\n",
       "      <td>3.4</td>\n",
       "      <td>5.4</td>\n",
       "      <td>2.3</td>\n",
       "      <td>virginica</td>\n",
       "    </tr>\n",
       "    <tr>\n",
       "      <td>149</td>\n",
       "      <td>5.9</td>\n",
       "      <td>3.0</td>\n",
       "      <td>5.1</td>\n",
       "      <td>1.8</td>\n",
       "      <td>virginica</td>\n",
       "    </tr>\n",
       "  </tbody>\n",
       "</table>\n",
       "<p>150 rows × 5 columns</p>\n",
       "</div>"
      ],
      "text/plain": [
       "     sepal_length  sepal_width  petal_length  petal_width    species\n",
       "0             5.1          3.5           1.4          0.2     setosa\n",
       "1             4.9          3.0           1.4          0.2     setosa\n",
       "2             4.7          3.2           1.3          0.2     setosa\n",
       "3             4.6          3.1           1.5          0.2     setosa\n",
       "4             5.0          3.6           1.4          0.2     setosa\n",
       "..            ...          ...           ...          ...        ...\n",
       "145           6.7          3.0           5.2          2.3  virginica\n",
       "146           6.3          2.5           5.0          1.9  virginica\n",
       "147           6.5          3.0           5.2          2.0  virginica\n",
       "148           6.2          3.4           5.4          2.3  virginica\n",
       "149           5.9          3.0           5.1          1.8  virginica\n",
       "\n",
       "[150 rows x 5 columns]"
      ]
     },
     "execution_count": 22,
     "metadata": {},
     "output_type": "execute_result"
    }
   ],
   "source": [
    "iris"
   ]
  },
  {
   "cell_type": "code",
   "execution_count": 23,
   "metadata": {},
   "outputs": [],
   "source": [
    "#ref: https://www.kaggle.com/nageshnaik/iris-dataset-classfication-using-naive-bayes\n",
    "\n",
    "#Split X and y into the training and test sets. Use 40% for the test set\n",
    "\n",
    "x_train, x_test, y_train, y_test = train_test_split(iris[iris.columns[:-1]], iris.species, test_size=0.4, random_state=0)"
   ]
  },
  {
   "cell_type": "code",
   "execution_count": 24,
   "metadata": {},
   "outputs": [
    {
     "data": {
      "text/plain": [
       "GaussianNB(priors=None, var_smoothing=1e-09)"
      ]
     },
     "execution_count": 24,
     "metadata": {},
     "output_type": "execute_result"
    }
   ],
   "source": [
    "#Use the training set to train the Naïve Bayes model using GaussianNB\n",
    "\n",
    "nvclassifier = GaussianNB()\n",
    "nvclassifier.fit(x_train, y_train)"
   ]
  },
  {
   "cell_type": "code",
   "execution_count": 25,
   "metadata": {
    "scrolled": true
   },
   "outputs": [
    {
     "name": "stdout",
     "output_type": "stream",
     "text": [
      "['virginica' 'versicolor' 'setosa' 'virginica' 'setosa' 'virginica'\n",
      " 'setosa' 'versicolor' 'versicolor' 'versicolor' 'versicolor' 'versicolor'\n",
      " 'versicolor' 'versicolor' 'versicolor' 'setosa' 'versicolor' 'versicolor'\n",
      " 'setosa' 'setosa' 'virginica' 'versicolor' 'setosa' 'setosa' 'virginica'\n",
      " 'setosa' 'setosa' 'versicolor' 'versicolor' 'setosa' 'virginica'\n",
      " 'versicolor' 'setosa' 'virginica' 'virginica' 'versicolor' 'setosa'\n",
      " 'versicolor' 'versicolor' 'versicolor' 'virginica' 'setosa' 'virginica'\n",
      " 'setosa' 'setosa' 'versicolor' 'virginica' 'virginica' 'versicolor'\n",
      " 'virginica' 'versicolor' 'virginica' 'versicolor' 'versicolor'\n",
      " 'virginica' 'versicolor' 'versicolor' 'virginica' 'versicolor'\n",
      " 'virginica']\n"
     ]
    }
   ],
   "source": [
    "#Make predictions using the test set\n",
    "\n",
    "y_pred_test = nvclassifier.predict(x_test)\n",
    "print(y_pred_test)"
   ]
  },
  {
   "cell_type": "code",
   "execution_count": 26,
   "metadata": {},
   "outputs": [
    {
     "data": {
      "text/html": [
       "<div>\n",
       "<style scoped>\n",
       "    .dataframe tbody tr th:only-of-type {\n",
       "        vertical-align: middle;\n",
       "    }\n",
       "\n",
       "    .dataframe tbody tr th {\n",
       "        vertical-align: top;\n",
       "    }\n",
       "\n",
       "    .dataframe thead th {\n",
       "        text-align: right;\n",
       "    }\n",
       "</style>\n",
       "<table border=\"1\" class=\"dataframe\">\n",
       "  <thead>\n",
       "    <tr style=\"text-align: right;\">\n",
       "      <th></th>\n",
       "      <th>Actual</th>\n",
       "      <th>Predicted</th>\n",
       "    </tr>\n",
       "  </thead>\n",
       "  <tbody>\n",
       "    <tr>\n",
       "      <td>0</td>\n",
       "      <td>virginica</td>\n",
       "      <td>virginica</td>\n",
       "    </tr>\n",
       "    <tr>\n",
       "      <td>1</td>\n",
       "      <td>versicolor</td>\n",
       "      <td>versicolor</td>\n",
       "    </tr>\n",
       "    <tr>\n",
       "      <td>2</td>\n",
       "      <td>setosa</td>\n",
       "      <td>setosa</td>\n",
       "    </tr>\n",
       "    <tr>\n",
       "      <td>3</td>\n",
       "      <td>virginica</td>\n",
       "      <td>virginica</td>\n",
       "    </tr>\n",
       "    <tr>\n",
       "      <td>4</td>\n",
       "      <td>setosa</td>\n",
       "      <td>setosa</td>\n",
       "    </tr>\n",
       "    <tr>\n",
       "      <td>5</td>\n",
       "      <td>virginica</td>\n",
       "      <td>virginica</td>\n",
       "    </tr>\n",
       "    <tr>\n",
       "      <td>6</td>\n",
       "      <td>setosa</td>\n",
       "      <td>setosa</td>\n",
       "    </tr>\n",
       "    <tr>\n",
       "      <td>7</td>\n",
       "      <td>versicolor</td>\n",
       "      <td>versicolor</td>\n",
       "    </tr>\n",
       "    <tr>\n",
       "      <td>8</td>\n",
       "      <td>versicolor</td>\n",
       "      <td>versicolor</td>\n",
       "    </tr>\n",
       "    <tr>\n",
       "      <td>9</td>\n",
       "      <td>versicolor</td>\n",
       "      <td>versicolor</td>\n",
       "    </tr>\n",
       "  </tbody>\n",
       "</table>\n",
       "</div>"
      ],
      "text/plain": [
       "       Actual   Predicted\n",
       "0   virginica   virginica\n",
       "1  versicolor  versicolor\n",
       "2      setosa      setosa\n",
       "3   virginica   virginica\n",
       "4      setosa      setosa\n",
       "5   virginica   virginica\n",
       "6      setosa      setosa\n",
       "7  versicolor  versicolor\n",
       "8  versicolor  versicolor\n",
       "9  versicolor  versicolor"
      ]
     },
     "execution_count": 26,
     "metadata": {},
     "output_type": "execute_result"
    }
   ],
   "source": [
    "compare_naive_results_test = pd.DataFrame({'Actual': y_test.ravel(),\n",
    "                                      'Predicted': y_pred_test.ravel()})\n",
    "compare_naive_results_test.head(10)"
   ]
  },
  {
   "cell_type": "code",
   "execution_count": 27,
   "metadata": {},
   "outputs": [
    {
     "name": "stdout",
     "output_type": "stream",
     "text": [
      "[[16  0  0]\n",
      " [ 0 23  0]\n",
      " [ 0  4 17]]\n"
     ]
    }
   ],
   "source": [
    "#Compare actual target values (y_test) with predicted target values (y_pred) in percent\n",
    "\n",
    "cm = confusion_matrix(y_test, y_pred_test)\n",
    "print(cm)"
   ]
  },
  {
   "cell_type": "code",
   "execution_count": 28,
   "metadata": {
    "scrolled": true
   },
   "outputs": [],
   "source": [
    "i = cm.shape\n",
    "truePred = 0\n",
    "falsePred = 0\n",
    "\n",
    "for row in range(i[0]):\n",
    "    for j in range(i[1]):\n",
    "        if row == j:\n",
    "            truePred +=cm[row,j]\n",
    "        else:\n",
    "            falsePred += cm[row,j]"
   ]
  },
  {
   "cell_type": "code",
   "execution_count": 29,
   "metadata": {},
   "outputs": [
    {
     "name": "stdout",
     "output_type": "stream",
     "text": [
      "True predictions:  56\n",
      "\n",
      "False predictions 4\n",
      "\n",
      "Accuracy of the Naive Bayes Clasification is:  0.9333333333333333\n"
     ]
    }
   ],
   "source": [
    "print('True predictions: ', truePred)\n",
    "print('\\nFalse predictions', falsePred)\n",
    "print('\\nAccuracy of the Naive Bayes Clasification is: ', truePred/(cm.sum()))"
   ]
  },
  {
   "cell_type": "markdown",
   "metadata": {},
   "source": [
    "7. What are your conclusions?\n",
    "\n",
    "The Naïve Bayes model 93% accurate. For problems with a small amount of training data, it can achieve better results than other classifiers because it has a low propensity to overfit. Training is quick, and consists of computing the priors and the likelihoods.\n",
    "\n",
    "#ref: https://towardsdatascience.com/the-naive-bayes-classifier-e92ea9f47523"
   ]
  },
  {
   "cell_type": "markdown",
   "metadata": {},
   "source": [
    "#ref: https://www.educative.io/edpresso/what-are-naive-bayes-classifiers\n",
    "#ref: https://www.analyticsvidhya.com/blog/2017/09/naive-bayes-explained/\n",
    "\n",
    "8. What are the other types of Naïve Bayes classifiers?\n",
    "\n",
    "Gaussian Naive Bayes Classifier: It is used in classification and it assumes that features follow a normal distribution\n",
    "\n",
    "Multinomial Naive Bayes Classifier: used when features follow a multinomial distribution.\n",
    "\n",
    "Bernoulli Naive Bayes classifier: used when features are of the boolean type."
   ]
  },
  {
   "cell_type": "code",
   "execution_count": null,
   "metadata": {},
   "outputs": [],
   "source": []
  },
  {
   "cell_type": "markdown",
   "metadata": {},
   "source": [
    "## Exercise 3. Logistic Regression [20 points]\n",
    "\n",
    "### 1. When does logistic regression become a classification technique?\n",
    "#ref: http://logisticregressionanalysis.com/33-when-to-use-logistic-regression/\n",
    "\n",
    "Logistic regression becomes a classification technique when your output variable takes on only two values (binary) such as yes/no, defective/non-defective, success/failure, and so on.\n",
    "\n",
    "### 2. Based on the number of categories, what are the different types of logistic regression models?\n",
    "#ref: https://www.edureka.co/community/46062/different-types-of-logistic-regression\n",
    "\n",
    "There are three main types of logistic regression:\n",
    "\n",
    "1. binomial: target variable can have only 2 possible types: “0” or “1” which may represent “win” vs “loss”, “pass” vs “fail”, “dead” vs “alive”, etc.\n",
    "2. multinomial: target variable can have 3 or more possible types which are not ordered(i.e. types have no quantitative significance) like “disease A” vs “disease B” vs “disease C”.\n",
    "3. ordinal: it deals with target variables with ordered categories. For example, a test score can be categorized as:“very poor”, “poor”, “good”, “very good”. Here, each category can be given a score like 0, 1, 2, 3."
   ]
  },
  {
   "cell_type": "markdown",
   "metadata": {},
   "source": [
    "3. From sklearn, import datasets, linear_model, and metrics.\n",
    "4. Use the ‘load_digits’ dataset from sklearn.\n",
    "5. Set X as digits.data and y as digits.target\n",
    "6. Split X and y into training and test sets. Use 40% of the data for the test set.\n",
    "7. Create the logistic regression object as ‘reg.’\n",
    "8. Make predictions using the test set.\n",
    "9. Compare actual response values (y_test) with the predicted response values (y_pred). What is the outcome?"
   ]
  },
  {
   "cell_type": "code",
   "execution_count": 30,
   "metadata": {},
   "outputs": [],
   "source": [
    "import pandas as pd\n",
    "import numpy as np\n",
    "from matplotlib import pyplot as plt\n",
    "import matplotlib.colors as colors\n",
    "import seaborn as sns\n",
    "\n",
    "#From sklearn, import datasets, linear_model, and metrics\n",
    "from sklearn.model_selection import train_test_split\n",
    "from sklearn.linear_model import LogisticRegression\n",
    "from sklearn import metrics"
   ]
  },
  {
   "cell_type": "code",
   "execution_count": 31,
   "metadata": {},
   "outputs": [],
   "source": [
    "#Use the ‘load_digits’ dataset from sklearn\n",
    "\n",
    "from sklearn.datasets import load_digits\n",
    "digits = load_digits()"
   ]
  },
  {
   "cell_type": "code",
   "execution_count": 32,
   "metadata": {
    "scrolled": true
   },
   "outputs": [
    {
     "name": "stdout",
     "output_type": "stream",
     "text": [
      ".. _digits_dataset:\n",
      "\n",
      "Optical recognition of handwritten digits dataset\n",
      "--------------------------------------------------\n",
      "\n",
      "**Data Set Characteristics:**\n",
      "\n",
      "    :Number of Instances: 5620\n",
      "    :Number of Attributes: 64\n",
      "    :Attribute Information: 8x8 image of integer pixels in the range 0..16.\n",
      "    :Missing Attribute Values: None\n",
      "    :Creator: E. Alpaydin (alpaydin '@' boun.edu.tr)\n",
      "    :Date: July; 1998\n",
      "\n",
      "This is a copy of the test set of the UCI ML hand-written digits datasets\n",
      "https://archive.ics.uci.edu/ml/datasets/Optical+Recognition+of+Handwritten+Digits\n",
      "\n",
      "The data set contains images of hand-written digits: 10 classes where\n",
      "each class refers to a digit.\n",
      "\n",
      "Preprocessing programs made available by NIST were used to extract\n",
      "normalized bitmaps of handwritten digits from a preprinted form. From a\n",
      "total of 43 people, 30 contributed to the training set and different 13\n",
      "to the test set. 32x32 bitmaps are divided into nonoverlapping blocks of\n",
      "4x4 and the number of on pixels are counted in each block. This generates\n",
      "an input matrix of 8x8 where each element is an integer in the range\n",
      "0..16. This reduces dimensionality and gives invariance to small\n",
      "distortions.\n",
      "\n",
      "For info on NIST preprocessing routines, see M. D. Garris, J. L. Blue, G.\n",
      "T. Candela, D. L. Dimmick, J. Geist, P. J. Grother, S. A. Janet, and C.\n",
      "L. Wilson, NIST Form-Based Handprint Recognition System, NISTIR 5469,\n",
      "1994.\n",
      "\n",
      ".. topic:: References\n",
      "\n",
      "  - C. Kaynak (1995) Methods of Combining Multiple Classifiers and Their\n",
      "    Applications to Handwritten Digit Recognition, MSc Thesis, Institute of\n",
      "    Graduate Studies in Science and Engineering, Bogazici University.\n",
      "  - E. Alpaydin, C. Kaynak (1998) Cascading Classifiers, Kybernetika.\n",
      "  - Ken Tang and Ponnuthurai N. Suganthan and Xi Yao and A. Kai Qin.\n",
      "    Linear dimensionalityreduction using relevance weighted LDA. School of\n",
      "    Electrical and Electronic Engineering Nanyang Technological University.\n",
      "    2005.\n",
      "  - Claudio Gentile. A New Approximate Maximal Margin Classification\n",
      "    Algorithm. NIPS. 2000.\n"
     ]
    }
   ],
   "source": [
    "print(digits.DESCR)"
   ]
  },
  {
   "cell_type": "code",
   "execution_count": 33,
   "metadata": {},
   "outputs": [
    {
     "name": "stdout",
     "output_type": "stream",
     "text": [
      "Image Data Shape (1797, 64)\n"
     ]
    }
   ],
   "source": [
    "print('Image Data Shape' , digits.data.shape)"
   ]
  },
  {
   "cell_type": "code",
   "execution_count": 34,
   "metadata": {},
   "outputs": [
    {
     "name": "stdout",
     "output_type": "stream",
     "text": [
      "Label Data Shape (1797,)\n"
     ]
    }
   ],
   "source": [
    "print(\"Label Data Shape\", digits.target.shape)"
   ]
  },
  {
   "cell_type": "code",
   "execution_count": 35,
   "metadata": {},
   "outputs": [],
   "source": [
    "#Set X as digits.data and y as digits.target\n",
    "#Split X and y into training and test sets. Use 40% of the data for the test set\n",
    "\n",
    "x = digits.data\n",
    "y = digits.target\n",
    "\n",
    "x_train, x_test, y_train, y_test = train_test_split(x, y, test_size=0.4, random_state=0)"
   ]
  },
  {
   "cell_type": "code",
   "execution_count": 36,
   "metadata": {},
   "outputs": [
    {
     "data": {
      "text/plain": [
       "LogisticRegression(C=1.0, class_weight=None, dual=False, fit_intercept=True,\n",
       "                   intercept_scaling=1, l1_ratio=None, max_iter=4500,\n",
       "                   multi_class='auto', n_jobs=None, penalty='l2',\n",
       "                   random_state=None, solver='lbfgs', tol=0.0001, verbose=0,\n",
       "                   warm_start=False)"
      ]
     },
     "execution_count": 36,
     "metadata": {},
     "output_type": "execute_result"
    }
   ],
   "source": [
    "#Create the logistic regression object as ‘reg’\n",
    "\n",
    "reg = LogisticRegression(max_iter = 4500)\n",
    "reg.fit(x_train, y_train)"
   ]
  },
  {
   "cell_type": "code",
   "execution_count": 37,
   "metadata": {},
   "outputs": [
    {
     "data": {
      "text/plain": [
       "array([2])"
      ]
     },
     "execution_count": 37,
     "metadata": {},
     "output_type": "execute_result"
    }
   ],
   "source": [
    "#Make predictions using the test set\n",
    "\n",
    "reg.predict(x_test[0].reshape(1,-1))"
   ]
  },
  {
   "cell_type": "code",
   "execution_count": 38,
   "metadata": {},
   "outputs": [
    {
     "data": {
      "text/plain": [
       "array([2, 8, 2, 6, 6, 7, 1, 9, 8, 5])"
      ]
     },
     "execution_count": 38,
     "metadata": {},
     "output_type": "execute_result"
    }
   ],
   "source": [
    "reg.predict(x_test[0:10])"
   ]
  },
  {
   "cell_type": "code",
   "execution_count": 39,
   "metadata": {},
   "outputs": [],
   "source": [
    "predictions = reg.predict(x_test)"
   ]
  },
  {
   "cell_type": "code",
   "execution_count": 40,
   "metadata": {},
   "outputs": [
    {
     "name": "stdout",
     "output_type": "stream",
     "text": [
      "0.9568845618915159\n"
     ]
    }
   ],
   "source": [
    "score = reg.score(x_test, y_test)\n",
    "print(score)"
   ]
  },
  {
   "cell_type": "code",
   "execution_count": 41,
   "metadata": {},
   "outputs": [
    {
     "data": {
      "text/plain": [
       "(719,)"
      ]
     },
     "execution_count": 41,
     "metadata": {},
     "output_type": "execute_result"
    }
   ],
   "source": [
    "predictions.shape"
   ]
  },
  {
   "cell_type": "code",
   "execution_count": 42,
   "metadata": {},
   "outputs": [
    {
     "data": {
      "text/html": [
       "<div>\n",
       "<style scoped>\n",
       "    .dataframe tbody tr th:only-of-type {\n",
       "        vertical-align: middle;\n",
       "    }\n",
       "\n",
       "    .dataframe tbody tr th {\n",
       "        vertical-align: top;\n",
       "    }\n",
       "\n",
       "    .dataframe thead th {\n",
       "        text-align: right;\n",
       "    }\n",
       "</style>\n",
       "<table border=\"1\" class=\"dataframe\">\n",
       "  <thead>\n",
       "    <tr style=\"text-align: right;\">\n",
       "      <th></th>\n",
       "      <th>Actual</th>\n",
       "      <th>Predicted</th>\n",
       "    </tr>\n",
       "  </thead>\n",
       "  <tbody>\n",
       "    <tr>\n",
       "      <td>0</td>\n",
       "      <td>2</td>\n",
       "      <td>2</td>\n",
       "    </tr>\n",
       "    <tr>\n",
       "      <td>1</td>\n",
       "      <td>8</td>\n",
       "      <td>8</td>\n",
       "    </tr>\n",
       "    <tr>\n",
       "      <td>2</td>\n",
       "      <td>2</td>\n",
       "      <td>2</td>\n",
       "    </tr>\n",
       "    <tr>\n",
       "      <td>3</td>\n",
       "      <td>6</td>\n",
       "      <td>6</td>\n",
       "    </tr>\n",
       "    <tr>\n",
       "      <td>4</td>\n",
       "      <td>6</td>\n",
       "      <td>6</td>\n",
       "    </tr>\n",
       "    <tr>\n",
       "      <td>5</td>\n",
       "      <td>7</td>\n",
       "      <td>7</td>\n",
       "    </tr>\n",
       "    <tr>\n",
       "      <td>6</td>\n",
       "      <td>1</td>\n",
       "      <td>1</td>\n",
       "    </tr>\n",
       "    <tr>\n",
       "      <td>7</td>\n",
       "      <td>9</td>\n",
       "      <td>9</td>\n",
       "    </tr>\n",
       "    <tr>\n",
       "      <td>8</td>\n",
       "      <td>8</td>\n",
       "      <td>8</td>\n",
       "    </tr>\n",
       "    <tr>\n",
       "      <td>9</td>\n",
       "      <td>5</td>\n",
       "      <td>5</td>\n",
       "    </tr>\n",
       "  </tbody>\n",
       "</table>\n",
       "</div>"
      ],
      "text/plain": [
       "   Actual  Predicted\n",
       "0       2          2\n",
       "1       8          8\n",
       "2       2          2\n",
       "3       6          6\n",
       "4       6          6\n",
       "5       7          7\n",
       "6       1          1\n",
       "7       9          9\n",
       "8       8          8\n",
       "9       5          5"
      ]
     },
     "execution_count": 42,
     "metadata": {},
     "output_type": "execute_result"
    }
   ],
   "source": [
    "#Compare actual response values (y_test) with the predicted response values (y_pred).\n",
    "\n",
    "compare_results = pd.DataFrame({'Actual': y_test.flatten(), 'Predicted': predictions.flatten()})\n",
    "compare_results.head(10)"
   ]
  },
  {
   "cell_type": "code",
   "execution_count": 43,
   "metadata": {},
   "outputs": [
    {
     "data": {
      "text/plain": [
       "Text(0.5, 1.0, 'Comparion between actual and pridicted values')"
      ]
     },
     "execution_count": 43,
     "metadata": {},
     "output_type": "execute_result"
    },
    {
     "data": {
      "image/png": "[encoded data removed]",
      "text/plain": [
       "<Figure size 1080x720 with 1 Axes>"
      ]
     },
     "metadata": {
      "needs_background": "light"
     },
     "output_type": "display_data"
    }
   ],
   "source": [
    "compare_results2 = compare_results.head(25)\n",
    "compare_results2.plot(kind='bar',figsize=(15,10), rot=0)\n",
    "plt.title('Comparion between actual and pridicted values')"
   ]
  },
  {
   "cell_type": "markdown",
   "metadata": {},
   "source": [
    "What is the outcome?\n",
    "\n",
    "The model is 95% accurate."
   ]
  },
  {
   "cell_type": "code",
   "execution_count": null,
   "metadata": {},
   "outputs": [],
   "source": []
  },
  {
   "cell_type": "markdown",
   "metadata": {},
   "source": [
    "## Exercise 4. Regression Models [40 points]\n",
    "1. Use the ‘diamonds.csv’ dataset from the Data File folder in Blackboard.\n",
    "2. Import the ‘pandas’, ‘numpy’, ‘seaborn’, ‘train_test_split’, ‘GridSearchCV’, ‘linear_model’, ‘Ridge’, ‘Lasso’, ‘RandomForestRegression’, ‘StandardScaler’, and ‘mean_squared_error’, among other packages.\n",
    "3. Represent the variables as catplots in seaborn. What is issue? What should you do to make sure you can properly evaluate the impact of each variable on the target?\n",
    "4. Drop the ‘Unnamed:0’ column, check the dataset for null values, provide the dataset info, and shape of target and feature variables. Make sure there are not any null values. If so, eliminate them.\n",
    "5. Once null values are removed, uses the ‘missingno’ library to visualize missing data. What are your conclusions?\n",
    "6. Describe the data. Make sure there are no rows for the x, y, and z variables with a zero value. If there are, remove them.\n",
    "7. Provide a correlation heatmap. What are your conclusions? Explain in a few words what correlation measures. How can correlation affect conclusions about the relationship between two or more variables in regression analysis?\n",
    "8. Use LabelEncoder to create three labels: ‘cut’, ‘color’, and ‘clarity.’\n",
    "9. Define y as ‘price’ and create a train and test set. The test set represents 20% of the data.\n",
    "10. Scale the train and test sets using ‘StandardScaler.’\n",
    "11. Collect the R2_score as R2_Scores = [ ] and the models as models = ['Linear Regression' , 'Lasso Regression' , 'Ridge Regression' , 'RandomForest Regression'] .\n",
    "12. Run a linear regression model. Provide the accuracy scores (remember: cv=5. Determine the MSE, MAE, RMSE, and r2_score for the y_test and y_pred model. Is the model over- or underfitting? Explain.\n",
    "13. What is the purpose of cross validation?\n",
    "14. Repeat question 12 for the Lasso model.\n",
    "15. Repeat question 12 for the Ridge Regression model.\n",
    "16. Repeat question 12 for the Random Forest Regression model.\n",
    "17. Using GridSearchCV such that \n",
    "\n",
    "no_of_test=[100] \n",
    "\n",
    "params_dict={'n_estimators':no_of_test,'n_jobs':[-1],'max_features':[\"auto\",'sqrt','log2']}\n",
    "\n",
    "determine the Score and R2. Is the outcome different from the model outcomes in question 16?\n",
    "18. Provide a table (DataFrame) that compares the R2_Scores from the different models using a data frame. How do you interpret the coefficient of determination? What does it represent?\n",
    "19. Create a bar plot to show the R2_Scores by model.\n",
    "20. How do you think the linear regression model performed?\n",
    "21. Did penalized models perform better than others? Explain the logic behind Ridge and Lasso regression. When do you best use Lasso versus Ridge regression?"
   ]
  },
  {
   "cell_type": "code",
   "execution_count": 44,
   "metadata": {},
   "outputs": [],
   "source": [
    "#Use the ‘diamonds.csv’ dataset from the Data File folder in Blackboard.\n",
    "#Import the ‘pandas’, ‘numpy’, ‘seaborn’, ‘train_test_split’, ‘GridSearchCV’, ‘linear_model’, ‘Ridge’, ‘Lasso’, ‘RandomForestRegression’, ‘StandardScaler’, and ‘mean_squared_error’, among other packages.\n",
    "\n",
    "import pandas as pd\n",
    "import numpy as np\n",
    "import matplotlib.pyplot as plt\n",
    "%matplotlib inline\n",
    "import seaborn as sns\n",
    "from pandas import Series, DataFrame\n",
    "from sklearn.linear_model import LinearRegression\n",
    "from sklearn.model_selection import train_test_split\n",
    "from sklearn.metrics import accuracy_score\n",
    "from sklearn.preprocessing import MinMaxScaler\n",
    "from sklearn import preprocessing \n",
    "from sklearn.preprocessing import StandardScaler\n",
    "import missingno as msno\n",
    "from sklearn import linear_model\n",
    "from sklearn.metrics import mean_squared_error, mean_absolute_error, r2_score\n",
    "from sklearn.model_selection import cross_val_score\n",
    "import math\n",
    "from math import sqrt\n",
    "from sklearn.linear_model import Lasso\n",
    "from sklearn.linear_model import Ridge\n",
    "from sklearn.ensemble import RandomForestRegressor\n",
    "\n",
    "import warnings\n",
    "warnings.filterwarnings('ignore')"
   ]
  },
  {
   "cell_type": "code",
   "execution_count": 45,
   "metadata": {
    "scrolled": true
   },
   "outputs": [
    {
     "data": {
      "text/html": [
       "<div>\n",
       "<style scoped>\n",
       "    .dataframe tbody tr th:only-of-type {\n",
       "        vertical-align: middle;\n",
       "    }\n",
       "\n",
       "    .dataframe tbody tr th {\n",
       "        vertical-align: top;\n",
       "    }\n",
       "\n",
       "    .dataframe thead th {\n",
       "        text-align: right;\n",
       "    }\n",
       "</style>\n",
       "<table border=\"1\" class=\"dataframe\">\n",
       "  <thead>\n",
       "    <tr style=\"text-align: right;\">\n",
       "      <th></th>\n",
       "      <th>Unnamed: 0</th>\n",
       "      <th>carat</th>\n",
       "      <th>cut</th>\n",
       "      <th>color</th>\n",
       "      <th>clarity</th>\n",
       "      <th>depth</th>\n",
       "      <th>table</th>\n",
       "      <th>price</th>\n",
       "      <th>x</th>\n",
       "      <th>y</th>\n",
       "      <th>z</th>\n",
       "    </tr>\n",
       "  </thead>\n",
       "  <tbody>\n",
       "    <tr>\n",
       "      <td>0</td>\n",
       "      <td>1</td>\n",
       "      <td>0.23</td>\n",
       "      <td>Ideal</td>\n",
       "      <td>E</td>\n",
       "      <td>SI2</td>\n",
       "      <td>61.5</td>\n",
       "      <td>55.0</td>\n",
       "      <td>326</td>\n",
       "      <td>3.95</td>\n",
       "      <td>3.98</td>\n",
       "      <td>2.43</td>\n",
       "    </tr>\n",
       "    <tr>\n",
       "      <td>1</td>\n",
       "      <td>2</td>\n",
       "      <td>0.21</td>\n",
       "      <td>Premium</td>\n",
       "      <td>E</td>\n",
       "      <td>SI1</td>\n",
       "      <td>59.8</td>\n",
       "      <td>61.0</td>\n",
       "      <td>326</td>\n",
       "      <td>3.89</td>\n",
       "      <td>3.84</td>\n",
       "      <td>2.31</td>\n",
       "    </tr>\n",
       "    <tr>\n",
       "      <td>2</td>\n",
       "      <td>3</td>\n",
       "      <td>0.23</td>\n",
       "      <td>Good</td>\n",
       "      <td>E</td>\n",
       "      <td>VS1</td>\n",
       "      <td>56.9</td>\n",
       "      <td>65.0</td>\n",
       "      <td>327</td>\n",
       "      <td>4.05</td>\n",
       "      <td>4.07</td>\n",
       "      <td>2.31</td>\n",
       "    </tr>\n",
       "    <tr>\n",
       "      <td>3</td>\n",
       "      <td>4</td>\n",
       "      <td>0.29</td>\n",
       "      <td>Premium</td>\n",
       "      <td>I</td>\n",
       "      <td>VS2</td>\n",
       "      <td>62.4</td>\n",
       "      <td>58.0</td>\n",
       "      <td>334</td>\n",
       "      <td>4.20</td>\n",
       "      <td>4.23</td>\n",
       "      <td>2.63</td>\n",
       "    </tr>\n",
       "    <tr>\n",
       "      <td>4</td>\n",
       "      <td>5</td>\n",
       "      <td>0.31</td>\n",
       "      <td>Good</td>\n",
       "      <td>J</td>\n",
       "      <td>SI2</td>\n",
       "      <td>63.3</td>\n",
       "      <td>58.0</td>\n",
       "      <td>335</td>\n",
       "      <td>4.34</td>\n",
       "      <td>4.35</td>\n",
       "      <td>2.75</td>\n",
       "    </tr>\n",
       "    <tr>\n",
       "      <td>...</td>\n",
       "      <td>...</td>\n",
       "      <td>...</td>\n",
       "      <td>...</td>\n",
       "      <td>...</td>\n",
       "      <td>...</td>\n",
       "      <td>...</td>\n",
       "      <td>...</td>\n",
       "      <td>...</td>\n",
       "      <td>...</td>\n",
       "      <td>...</td>\n",
       "      <td>...</td>\n",
       "    </tr>\n",
       "    <tr>\n",
       "      <td>53935</td>\n",
       "      <td>53936</td>\n",
       "      <td>0.72</td>\n",
       "      <td>Ideal</td>\n",
       "      <td>D</td>\n",
       "      <td>SI1</td>\n",
       "      <td>60.8</td>\n",
       "      <td>57.0</td>\n",
       "      <td>2757</td>\n",
       "      <td>5.75</td>\n",
       "      <td>5.76</td>\n",
       "      <td>3.50</td>\n",
       "    </tr>\n",
       "    <tr>\n",
       "      <td>53936</td>\n",
       "      <td>53937</td>\n",
       "      <td>0.72</td>\n",
       "      <td>Good</td>\n",
       "      <td>D</td>\n",
       "      <td>SI1</td>\n",
       "      <td>63.1</td>\n",
       "      <td>55.0</td>\n",
       "      <td>2757</td>\n",
       "      <td>5.69</td>\n",
       "      <td>5.75</td>\n",
       "      <td>3.61</td>\n",
       "    </tr>\n",
       "    <tr>\n",
       "      <td>53937</td>\n",
       "      <td>53938</td>\n",
       "      <td>0.70</td>\n",
       "      <td>Very Good</td>\n",
       "      <td>D</td>\n",
       "      <td>SI1</td>\n",
       "      <td>62.8</td>\n",
       "      <td>60.0</td>\n",
       "      <td>2757</td>\n",
       "      <td>5.66</td>\n",
       "      <td>5.68</td>\n",
       "      <td>3.56</td>\n",
       "    </tr>\n",
       "    <tr>\n",
       "      <td>53938</td>\n",
       "      <td>53939</td>\n",
       "      <td>0.86</td>\n",
       "      <td>Premium</td>\n",
       "      <td>H</td>\n",
       "      <td>SI2</td>\n",
       "      <td>61.0</td>\n",
       "      <td>58.0</td>\n",
       "      <td>2757</td>\n",
       "      <td>6.15</td>\n",
       "      <td>6.12</td>\n",
       "      <td>3.74</td>\n",
       "    </tr>\n",
       "    <tr>\n",
       "      <td>53939</td>\n",
       "      <td>53940</td>\n",
       "      <td>0.75</td>\n",
       "      <td>Ideal</td>\n",
       "      <td>D</td>\n",
       "      <td>SI2</td>\n",
       "      <td>62.2</td>\n",
       "      <td>55.0</td>\n",
       "      <td>2757</td>\n",
       "      <td>5.83</td>\n",
       "      <td>5.87</td>\n",
       "      <td>3.64</td>\n",
       "    </tr>\n",
       "  </tbody>\n",
       "</table>\n",
       "<p>53940 rows × 11 columns</p>\n",
       "</div>"
      ],
      "text/plain": [
       "       Unnamed: 0  carat        cut color clarity  depth  table  price     x  \\\n",
       "0               1   0.23      Ideal     E     SI2   61.5   55.0    326  3.95   \n",
       "1               2   0.21    Premium     E     SI1   59.8   61.0    326  3.89   \n",
       "2               3   0.23       Good     E     VS1   56.9   65.0    327  4.05   \n",
       "3               4   0.29    Premium     I     VS2   62.4   58.0    334  4.20   \n",
       "4               5   0.31       Good     J     SI2   63.3   58.0    335  4.34   \n",
       "...           ...    ...        ...   ...     ...    ...    ...    ...   ...   \n",
       "53935       53936   0.72      Ideal     D     SI1   60.8   57.0   2757  5.75   \n",
       "53936       53937   0.72       Good     D     SI1   63.1   55.0   2757  5.69   \n",
       "53937       53938   0.70  Very Good     D     SI1   62.8   60.0   2757  5.66   \n",
       "53938       53939   0.86    Premium     H     SI2   61.0   58.0   2757  6.15   \n",
       "53939       53940   0.75      Ideal     D     SI2   62.2   55.0   2757  5.83   \n",
       "\n",
       "          y     z  \n",
       "0      3.98  2.43  \n",
       "1      3.84  2.31  \n",
       "2      4.07  2.31  \n",
       "3      4.23  2.63  \n",
       "4      4.35  2.75  \n",
       "...     ...   ...  \n",
       "53935  5.76  3.50  \n",
       "53936  5.75  3.61  \n",
       "53937  5.68  3.56  \n",
       "53938  6.12  3.74  \n",
       "53939  5.87  3.64  \n",
       "\n",
       "[53940 rows x 11 columns]"
      ]
     },
     "execution_count": 45,
     "metadata": {},
     "output_type": "execute_result"
    }
   ],
   "source": [
    "data_diamond = pd.read_csv(\"diamonds.csv\")\n",
    "data_diamond"
   ]
  },
  {
   "cell_type": "code",
   "execution_count": 46,
   "metadata": {},
   "outputs": [
    {
     "data": {
      "text/plain": [
       "<seaborn.axisgrid.FacetGrid at 0x1ca35c7dd08>"
      ]
     },
     "execution_count": 46,
     "metadata": {},
     "output_type": "execute_result"
    },
    {
     "data": {
      "image/png": "[encoded data removed]",
      "text/plain": [
       "<Figure size 360x360 with 1 Axes>"
      ]
     },
     "metadata": {
      "needs_background": "light"
     },
     "output_type": "display_data"
    }
   ],
   "source": [
    "#Represent the variables as catplots in seaborn. \n",
    "\n",
    "sns.catplot(x='cut',y='price',data=data_diamond)"
   ]
  },
  {
   "cell_type": "code",
   "execution_count": 47,
   "metadata": {},
   "outputs": [
    {
     "data": {
      "text/plain": [
       "<seaborn.axisgrid.FacetGrid at 0x1ca35cf2f08>"
      ]
     },
     "execution_count": 47,
     "metadata": {},
     "output_type": "execute_result"
    },
    {
     "data": {
      "image/png": "[encoded data removed]",
      "text/plain": [
       "<Figure size 360x360 with 1 Axes>"
      ]
     },
     "metadata": {
      "needs_background": "light"
     },
     "output_type": "display_data"
    }
   ],
   "source": [
    "sns.catplot(x='color',y='price',data=data_diamond)"
   ]
  },
  {
   "cell_type": "code",
   "execution_count": 48,
   "metadata": {},
   "outputs": [
    {
     "data": {
      "text/plain": [
       "<seaborn.axisgrid.FacetGrid at 0x1ca35d942c8>"
      ]
     },
     "execution_count": 48,
     "metadata": {},
     "output_type": "execute_result"
    },
    {
     "data": {
      "image/png": "[encoded data removed]",
      "text/plain": [
       "<Figure size 360x360 with 1 Axes>"
      ]
     },
     "metadata": {
      "needs_background": "light"
     },
     "output_type": "display_data"
    }
   ],
   "source": [
    "sns.catplot(x='clarity',y='price',data=data_diamond)"
   ]
  },
  {
   "cell_type": "markdown",
   "metadata": {},
   "source": [
    "What is issue?\n",
    "What should you do to make sure you can properly evaluate the impact of each variable on the target?\n",
    "\n",
    "Catplots are particularly used categorical variables and it cannot be used for numerical variables.\n",
    "\n",
    "We should convert categorical data to numerical data."
   ]
  },
  {
   "cell_type": "code",
   "execution_count": 49,
   "metadata": {},
   "outputs": [
    {
     "data": {
      "text/html": [
       "<div>\n",
       "<style scoped>\n",
       "    .dataframe tbody tr th:only-of-type {\n",
       "        vertical-align: middle;\n",
       "    }\n",
       "\n",
       "    .dataframe tbody tr th {\n",
       "        vertical-align: top;\n",
       "    }\n",
       "\n",
       "    .dataframe thead th {\n",
       "        text-align: right;\n",
       "    }\n",
       "</style>\n",
       "<table border=\"1\" class=\"dataframe\">\n",
       "  <thead>\n",
       "    <tr style=\"text-align: right;\">\n",
       "      <th></th>\n",
       "      <th>carat</th>\n",
       "      <th>cut</th>\n",
       "      <th>color</th>\n",
       "      <th>clarity</th>\n",
       "      <th>depth</th>\n",
       "      <th>table</th>\n",
       "      <th>price</th>\n",
       "      <th>x</th>\n",
       "      <th>y</th>\n",
       "      <th>z</th>\n",
       "    </tr>\n",
       "  </thead>\n",
       "  <tbody>\n",
       "    <tr>\n",
       "      <td>0</td>\n",
       "      <td>0.23</td>\n",
       "      <td>Ideal</td>\n",
       "      <td>E</td>\n",
       "      <td>SI2</td>\n",
       "      <td>61.5</td>\n",
       "      <td>55.0</td>\n",
       "      <td>326</td>\n",
       "      <td>3.95</td>\n",
       "      <td>3.98</td>\n",
       "      <td>2.43</td>\n",
       "    </tr>\n",
       "    <tr>\n",
       "      <td>1</td>\n",
       "      <td>0.21</td>\n",
       "      <td>Premium</td>\n",
       "      <td>E</td>\n",
       "      <td>SI1</td>\n",
       "      <td>59.8</td>\n",
       "      <td>61.0</td>\n",
       "      <td>326</td>\n",
       "      <td>3.89</td>\n",
       "      <td>3.84</td>\n",
       "      <td>2.31</td>\n",
       "    </tr>\n",
       "    <tr>\n",
       "      <td>2</td>\n",
       "      <td>0.23</td>\n",
       "      <td>Good</td>\n",
       "      <td>E</td>\n",
       "      <td>VS1</td>\n",
       "      <td>56.9</td>\n",
       "      <td>65.0</td>\n",
       "      <td>327</td>\n",
       "      <td>4.05</td>\n",
       "      <td>4.07</td>\n",
       "      <td>2.31</td>\n",
       "    </tr>\n",
       "    <tr>\n",
       "      <td>3</td>\n",
       "      <td>0.29</td>\n",
       "      <td>Premium</td>\n",
       "      <td>I</td>\n",
       "      <td>VS2</td>\n",
       "      <td>62.4</td>\n",
       "      <td>58.0</td>\n",
       "      <td>334</td>\n",
       "      <td>4.20</td>\n",
       "      <td>4.23</td>\n",
       "      <td>2.63</td>\n",
       "    </tr>\n",
       "    <tr>\n",
       "      <td>4</td>\n",
       "      <td>0.31</td>\n",
       "      <td>Good</td>\n",
       "      <td>J</td>\n",
       "      <td>SI2</td>\n",
       "      <td>63.3</td>\n",
       "      <td>58.0</td>\n",
       "      <td>335</td>\n",
       "      <td>4.34</td>\n",
       "      <td>4.35</td>\n",
       "      <td>2.75</td>\n",
       "    </tr>\n",
       "    <tr>\n",
       "      <td>...</td>\n",
       "      <td>...</td>\n",
       "      <td>...</td>\n",
       "      <td>...</td>\n",
       "      <td>...</td>\n",
       "      <td>...</td>\n",
       "      <td>...</td>\n",
       "      <td>...</td>\n",
       "      <td>...</td>\n",
       "      <td>...</td>\n",
       "      <td>...</td>\n",
       "    </tr>\n",
       "    <tr>\n",
       "      <td>53935</td>\n",
       "      <td>0.72</td>\n",
       "      <td>Ideal</td>\n",
       "      <td>D</td>\n",
       "      <td>SI1</td>\n",
       "      <td>60.8</td>\n",
       "      <td>57.0</td>\n",
       "      <td>2757</td>\n",
       "      <td>5.75</td>\n",
       "      <td>5.76</td>\n",
       "      <td>3.50</td>\n",
       "    </tr>\n",
       "    <tr>\n",
       "      <td>53936</td>\n",
       "      <td>0.72</td>\n",
       "      <td>Good</td>\n",
       "      <td>D</td>\n",
       "      <td>SI1</td>\n",
       "      <td>63.1</td>\n",
       "      <td>55.0</td>\n",
       "      <td>2757</td>\n",
       "      <td>5.69</td>\n",
       "      <td>5.75</td>\n",
       "      <td>3.61</td>\n",
       "    </tr>\n",
       "    <tr>\n",
       "      <td>53937</td>\n",
       "      <td>0.70</td>\n",
       "      <td>Very Good</td>\n",
       "      <td>D</td>\n",
       "      <td>SI1</td>\n",
       "      <td>62.8</td>\n",
       "      <td>60.0</td>\n",
       "      <td>2757</td>\n",
       "      <td>5.66</td>\n",
       "      <td>5.68</td>\n",
       "      <td>3.56</td>\n",
       "    </tr>\n",
       "    <tr>\n",
       "      <td>53938</td>\n",
       "      <td>0.86</td>\n",
       "      <td>Premium</td>\n",
       "      <td>H</td>\n",
       "      <td>SI2</td>\n",
       "      <td>61.0</td>\n",
       "      <td>58.0</td>\n",
       "      <td>2757</td>\n",
       "      <td>6.15</td>\n",
       "      <td>6.12</td>\n",
       "      <td>3.74</td>\n",
       "    </tr>\n",
       "    <tr>\n",
       "      <td>53939</td>\n",
       "      <td>0.75</td>\n",
       "      <td>Ideal</td>\n",
       "      <td>D</td>\n",
       "      <td>SI2</td>\n",
       "      <td>62.2</td>\n",
       "      <td>55.0</td>\n",
       "      <td>2757</td>\n",
       "      <td>5.83</td>\n",
       "      <td>5.87</td>\n",
       "      <td>3.64</td>\n",
       "    </tr>\n",
       "  </tbody>\n",
       "</table>\n",
       "<p>53940 rows × 10 columns</p>\n",
       "</div>"
      ],
      "text/plain": [
       "       carat        cut color clarity  depth  table  price     x     y     z\n",
       "0       0.23      Ideal     E     SI2   61.5   55.0    326  3.95  3.98  2.43\n",
       "1       0.21    Premium     E     SI1   59.8   61.0    326  3.89  3.84  2.31\n",
       "2       0.23       Good     E     VS1   56.9   65.0    327  4.05  4.07  2.31\n",
       "3       0.29    Premium     I     VS2   62.4   58.0    334  4.20  4.23  2.63\n",
       "4       0.31       Good     J     SI2   63.3   58.0    335  4.34  4.35  2.75\n",
       "...      ...        ...   ...     ...    ...    ...    ...   ...   ...   ...\n",
       "53935   0.72      Ideal     D     SI1   60.8   57.0   2757  5.75  5.76  3.50\n",
       "53936   0.72       Good     D     SI1   63.1   55.0   2757  5.69  5.75  3.61\n",
       "53937   0.70  Very Good     D     SI1   62.8   60.0   2757  5.66  5.68  3.56\n",
       "53938   0.86    Premium     H     SI2   61.0   58.0   2757  6.15  6.12  3.74\n",
       "53939   0.75      Ideal     D     SI2   62.2   55.0   2757  5.83  5.87  3.64\n",
       "\n",
       "[53940 rows x 10 columns]"
      ]
     },
     "execution_count": 49,
     "metadata": {},
     "output_type": "execute_result"
    }
   ],
   "source": [
    "#Drop the ‘Unnamed:0’ column, check the dataset for null values,\n",
    "#provide the dataset info, and shape of target and feature variables.\n",
    "#Make sure there are not any null values. If so, eliminate them.\n",
    "\n",
    "data_diamond = data_diamond.drop('Unnamed: 0',axis=1)\n",
    "data_diamond"
   ]
  },
  {
   "cell_type": "code",
   "execution_count": 50,
   "metadata": {
    "scrolled": true
   },
   "outputs": [
    {
     "data": {
      "text/plain": [
       "carat      0\n",
       "cut        0\n",
       "color      0\n",
       "clarity    0\n",
       "depth      0\n",
       "table      0\n",
       "price      0\n",
       "x          0\n",
       "y          0\n",
       "z          0\n",
       "dtype: int64"
      ]
     },
     "execution_count": 50,
     "metadata": {},
     "output_type": "execute_result"
    }
   ],
   "source": [
    "data_diamond.isna().sum()"
   ]
  },
  {
   "cell_type": "code",
   "execution_count": 51,
   "metadata": {},
   "outputs": [
    {
     "data": {
      "text/plain": [
       "(53940, 10)"
      ]
     },
     "execution_count": 51,
     "metadata": {},
     "output_type": "execute_result"
    }
   ],
   "source": [
    "data_diamond.shape"
   ]
  },
  {
   "cell_type": "code",
   "execution_count": 52,
   "metadata": {},
   "outputs": [
    {
     "name": "stdout",
     "output_type": "stream",
     "text": [
      "<class 'pandas.core.frame.DataFrame'>\n",
      "RangeIndex: 53940 entries, 0 to 53939\n",
      "Data columns (total 10 columns):\n",
      "carat      53940 non-null float64\n",
      "cut        53940 non-null object\n",
      "color      53940 non-null object\n",
      "clarity    53940 non-null object\n",
      "depth      53940 non-null float64\n",
      "table      53940 non-null float64\n",
      "price      53940 non-null int64\n",
      "x          53940 non-null float64\n",
      "y          53940 non-null float64\n",
      "z          53940 non-null float64\n",
      "dtypes: float64(6), int64(1), object(3)\n",
      "memory usage: 4.1+ MB\n"
     ]
    }
   ],
   "source": [
    "data_diamond.info()"
   ]
  },
  {
   "cell_type": "code",
   "execution_count": 53,
   "metadata": {},
   "outputs": [
    {
     "data": {
      "text/html": [
       "<div>\n",
       "<style scoped>\n",
       "    .dataframe tbody tr th:only-of-type {\n",
       "        vertical-align: middle;\n",
       "    }\n",
       "\n",
       "    .dataframe tbody tr th {\n",
       "        vertical-align: top;\n",
       "    }\n",
       "\n",
       "    .dataframe thead th {\n",
       "        text-align: right;\n",
       "    }\n",
       "</style>\n",
       "<table border=\"1\" class=\"dataframe\">\n",
       "  <thead>\n",
       "    <tr style=\"text-align: right;\">\n",
       "      <th></th>\n",
       "      <th>carat</th>\n",
       "      <th>depth</th>\n",
       "      <th>table</th>\n",
       "      <th>price</th>\n",
       "      <th>x</th>\n",
       "      <th>y</th>\n",
       "      <th>z</th>\n",
       "    </tr>\n",
       "  </thead>\n",
       "  <tbody>\n",
       "    <tr>\n",
       "      <td>count</td>\n",
       "      <td>53940.000000</td>\n",
       "      <td>53940.000000</td>\n",
       "      <td>53940.000000</td>\n",
       "      <td>53940.000000</td>\n",
       "      <td>53940.000000</td>\n",
       "      <td>53940.000000</td>\n",
       "      <td>53940.000000</td>\n",
       "    </tr>\n",
       "    <tr>\n",
       "      <td>mean</td>\n",
       "      <td>0.797940</td>\n",
       "      <td>61.749405</td>\n",
       "      <td>57.457184</td>\n",
       "      <td>3932.799722</td>\n",
       "      <td>5.731157</td>\n",
       "      <td>5.734526</td>\n",
       "      <td>3.538734</td>\n",
       "    </tr>\n",
       "    <tr>\n",
       "      <td>std</td>\n",
       "      <td>0.474011</td>\n",
       "      <td>1.432621</td>\n",
       "      <td>2.234491</td>\n",
       "      <td>3989.439738</td>\n",
       "      <td>1.121761</td>\n",
       "      <td>1.142135</td>\n",
       "      <td>0.705699</td>\n",
       "    </tr>\n",
       "    <tr>\n",
       "      <td>min</td>\n",
       "      <td>0.200000</td>\n",
       "      <td>43.000000</td>\n",
       "      <td>43.000000</td>\n",
       "      <td>326.000000</td>\n",
       "      <td>0.000000</td>\n",
       "      <td>0.000000</td>\n",
       "      <td>0.000000</td>\n",
       "    </tr>\n",
       "    <tr>\n",
       "      <td>25%</td>\n",
       "      <td>0.400000</td>\n",
       "      <td>61.000000</td>\n",
       "      <td>56.000000</td>\n",
       "      <td>950.000000</td>\n",
       "      <td>4.710000</td>\n",
       "      <td>4.720000</td>\n",
       "      <td>2.910000</td>\n",
       "    </tr>\n",
       "    <tr>\n",
       "      <td>50%</td>\n",
       "      <td>0.700000</td>\n",
       "      <td>61.800000</td>\n",
       "      <td>57.000000</td>\n",
       "      <td>2401.000000</td>\n",
       "      <td>5.700000</td>\n",
       "      <td>5.710000</td>\n",
       "      <td>3.530000</td>\n",
       "    </tr>\n",
       "    <tr>\n",
       "      <td>75%</td>\n",
       "      <td>1.040000</td>\n",
       "      <td>62.500000</td>\n",
       "      <td>59.000000</td>\n",
       "      <td>5324.250000</td>\n",
       "      <td>6.540000</td>\n",
       "      <td>6.540000</td>\n",
       "      <td>4.040000</td>\n",
       "    </tr>\n",
       "    <tr>\n",
       "      <td>max</td>\n",
       "      <td>5.010000</td>\n",
       "      <td>79.000000</td>\n",
       "      <td>95.000000</td>\n",
       "      <td>18823.000000</td>\n",
       "      <td>10.740000</td>\n",
       "      <td>58.900000</td>\n",
       "      <td>31.800000</td>\n",
       "    </tr>\n",
       "  </tbody>\n",
       "</table>\n",
       "</div>"
      ],
      "text/plain": [
       "              carat         depth         table         price             x  \\\n",
       "count  53940.000000  53940.000000  53940.000000  53940.000000  53940.000000   \n",
       "mean       0.797940     61.749405     57.457184   3932.799722      5.731157   \n",
       "std        0.474011      1.432621      2.234491   3989.439738      1.121761   \n",
       "min        0.200000     43.000000     43.000000    326.000000      0.000000   \n",
       "25%        0.400000     61.000000     56.000000    950.000000      4.710000   \n",
       "50%        0.700000     61.800000     57.000000   2401.000000      5.700000   \n",
       "75%        1.040000     62.500000     59.000000   5324.250000      6.540000   \n",
       "max        5.010000     79.000000     95.000000  18823.000000     10.740000   \n",
       "\n",
       "                  y             z  \n",
       "count  53940.000000  53940.000000  \n",
       "mean       5.734526      3.538734  \n",
       "std        1.142135      0.705699  \n",
       "min        0.000000      0.000000  \n",
       "25%        4.720000      2.910000  \n",
       "50%        5.710000      3.530000  \n",
       "75%        6.540000      4.040000  \n",
       "max       58.900000     31.800000  "
      ]
     },
     "execution_count": 53,
     "metadata": {},
     "output_type": "execute_result"
    }
   ],
   "source": [
    "data_diamond.describe()"
   ]
  },
  {
   "cell_type": "code",
   "execution_count": 54,
   "metadata": {},
   "outputs": [
    {
     "data": {
      "text/plain": [
       "<matplotlib.axes._subplots.AxesSubplot at 0x1ca38a59788>"
      ]
     },
     "execution_count": 54,
     "metadata": {},
     "output_type": "execute_result"
    },
    {
     "data": {
      "image/png": "[encoded data removed]",
      "text/plain": [
       "<Figure size 1800x720 with 2 Axes>"
      ]
     },
     "metadata": {
      "needs_background": "light"
     },
     "output_type": "display_data"
    }
   ],
   "source": [
    "#Once null values are removed, uses the ‘missingno’ library to visualize missing data.\n",
    "\n",
    "msno.matrix(data_diamond.isnull())"
   ]
  },
  {
   "cell_type": "markdown",
   "metadata": {},
   "source": [
    "What are your conclusions?\n",
    "\n",
    "There are no null values same number of records under each column in the data frame."
   ]
  },
  {
   "cell_type": "code",
   "execution_count": 55,
   "metadata": {},
   "outputs": [
    {
     "data": {
      "text/html": [
       "<div>\n",
       "<style scoped>\n",
       "    .dataframe tbody tr th:only-of-type {\n",
       "        vertical-align: middle;\n",
       "    }\n",
       "\n",
       "    .dataframe tbody tr th {\n",
       "        vertical-align: top;\n",
       "    }\n",
       "\n",
       "    .dataframe thead th {\n",
       "        text-align: right;\n",
       "    }\n",
       "</style>\n",
       "<table border=\"1\" class=\"dataframe\">\n",
       "  <thead>\n",
       "    <tr style=\"text-align: right;\">\n",
       "      <th></th>\n",
       "      <th>carat</th>\n",
       "      <th>depth</th>\n",
       "      <th>table</th>\n",
       "      <th>price</th>\n",
       "      <th>x</th>\n",
       "      <th>y</th>\n",
       "      <th>z</th>\n",
       "    </tr>\n",
       "  </thead>\n",
       "  <tbody>\n",
       "    <tr>\n",
       "      <td>count</td>\n",
       "      <td>53940.000000</td>\n",
       "      <td>53940.000000</td>\n",
       "      <td>53940.000000</td>\n",
       "      <td>53940.000000</td>\n",
       "      <td>53940.000000</td>\n",
       "      <td>53940.000000</td>\n",
       "      <td>53940.000000</td>\n",
       "    </tr>\n",
       "    <tr>\n",
       "      <td>mean</td>\n",
       "      <td>0.797940</td>\n",
       "      <td>61.749405</td>\n",
       "      <td>57.457184</td>\n",
       "      <td>3932.799722</td>\n",
       "      <td>5.731157</td>\n",
       "      <td>5.734526</td>\n",
       "      <td>3.538734</td>\n",
       "    </tr>\n",
       "    <tr>\n",
       "      <td>std</td>\n",
       "      <td>0.474011</td>\n",
       "      <td>1.432621</td>\n",
       "      <td>2.234491</td>\n",
       "      <td>3989.439738</td>\n",
       "      <td>1.121761</td>\n",
       "      <td>1.142135</td>\n",
       "      <td>0.705699</td>\n",
       "    </tr>\n",
       "    <tr>\n",
       "      <td>min</td>\n",
       "      <td>0.200000</td>\n",
       "      <td>43.000000</td>\n",
       "      <td>43.000000</td>\n",
       "      <td>326.000000</td>\n",
       "      <td>0.000000</td>\n",
       "      <td>0.000000</td>\n",
       "      <td>0.000000</td>\n",
       "    </tr>\n",
       "    <tr>\n",
       "      <td>25%</td>\n",
       "      <td>0.400000</td>\n",
       "      <td>61.000000</td>\n",
       "      <td>56.000000</td>\n",
       "      <td>950.000000</td>\n",
       "      <td>4.710000</td>\n",
       "      <td>4.720000</td>\n",
       "      <td>2.910000</td>\n",
       "    </tr>\n",
       "    <tr>\n",
       "      <td>50%</td>\n",
       "      <td>0.700000</td>\n",
       "      <td>61.800000</td>\n",
       "      <td>57.000000</td>\n",
       "      <td>2401.000000</td>\n",
       "      <td>5.700000</td>\n",
       "      <td>5.710000</td>\n",
       "      <td>3.530000</td>\n",
       "    </tr>\n",
       "    <tr>\n",
       "      <td>75%</td>\n",
       "      <td>1.040000</td>\n",
       "      <td>62.500000</td>\n",
       "      <td>59.000000</td>\n",
       "      <td>5324.250000</td>\n",
       "      <td>6.540000</td>\n",
       "      <td>6.540000</td>\n",
       "      <td>4.040000</td>\n",
       "    </tr>\n",
       "    <tr>\n",
       "      <td>max</td>\n",
       "      <td>5.010000</td>\n",
       "      <td>79.000000</td>\n",
       "      <td>95.000000</td>\n",
       "      <td>18823.000000</td>\n",
       "      <td>10.740000</td>\n",
       "      <td>58.900000</td>\n",
       "      <td>31.800000</td>\n",
       "    </tr>\n",
       "  </tbody>\n",
       "</table>\n",
       "</div>"
      ],
      "text/plain": [
       "              carat         depth         table         price             x  \\\n",
       "count  53940.000000  53940.000000  53940.000000  53940.000000  53940.000000   \n",
       "mean       0.797940     61.749405     57.457184   3932.799722      5.731157   \n",
       "std        0.474011      1.432621      2.234491   3989.439738      1.121761   \n",
       "min        0.200000     43.000000     43.000000    326.000000      0.000000   \n",
       "25%        0.400000     61.000000     56.000000    950.000000      4.710000   \n",
       "50%        0.700000     61.800000     57.000000   2401.000000      5.700000   \n",
       "75%        1.040000     62.500000     59.000000   5324.250000      6.540000   \n",
       "max        5.010000     79.000000     95.000000  18823.000000     10.740000   \n",
       "\n",
       "                  y             z  \n",
       "count  53940.000000  53940.000000  \n",
       "mean       5.734526      3.538734  \n",
       "std        1.142135      0.705699  \n",
       "min        0.000000      0.000000  \n",
       "25%        4.720000      2.910000  \n",
       "50%        5.710000      3.530000  \n",
       "75%        6.540000      4.040000  \n",
       "max       58.900000     31.800000  "
      ]
     },
     "execution_count": 55,
     "metadata": {},
     "output_type": "execute_result"
    }
   ],
   "source": [
    "#Describe the data.\n",
    "\n",
    "data_diamond.describe()"
   ]
  },
  {
   "cell_type": "code",
   "execution_count": 56,
   "metadata": {},
   "outputs": [],
   "source": [
    "#ref: https://thispointer.com/python-pandas-how-to-drop-rows-in-dataframe-by-conditions-on-column-values/\n",
    "\n",
    "#Make sure there are no rows for the x, y, and z variables with a zero value.\n",
    "#If there are, remove them.\n",
    "\n",
    "indexNames = data_diamond[ data_diamond['x'] == 0 ].index\n",
    "data_diamond.drop(indexNames , inplace=True)\n",
    "\n",
    "indexNames1 = data_diamond[ data_diamond['y'] == 0 ].index\n",
    "data_diamond.drop(indexNames1 , inplace=True)\n",
    "\n",
    "indexNames2 = data_diamond[ data_diamond['z'] == 0 ].index\n",
    "data_diamond.drop(indexNames2 , inplace=True)"
   ]
  },
  {
   "cell_type": "code",
   "execution_count": 57,
   "metadata": {},
   "outputs": [
    {
     "data": {
      "text/html": [
       "<div>\n",
       "<style scoped>\n",
       "    .dataframe tbody tr th:only-of-type {\n",
       "        vertical-align: middle;\n",
       "    }\n",
       "\n",
       "    .dataframe tbody tr th {\n",
       "        vertical-align: top;\n",
       "    }\n",
       "\n",
       "    .dataframe thead th {\n",
       "        text-align: right;\n",
       "    }\n",
       "</style>\n",
       "<table border=\"1\" class=\"dataframe\">\n",
       "  <thead>\n",
       "    <tr style=\"text-align: right;\">\n",
       "      <th></th>\n",
       "      <th>carat</th>\n",
       "      <th>depth</th>\n",
       "      <th>table</th>\n",
       "      <th>price</th>\n",
       "      <th>x</th>\n",
       "      <th>y</th>\n",
       "      <th>z</th>\n",
       "    </tr>\n",
       "  </thead>\n",
       "  <tbody>\n",
       "    <tr>\n",
       "      <td>count</td>\n",
       "      <td>53920.000000</td>\n",
       "      <td>53920.000000</td>\n",
       "      <td>53920.000000</td>\n",
       "      <td>53920.000000</td>\n",
       "      <td>53920.000000</td>\n",
       "      <td>53920.000000</td>\n",
       "      <td>53920.000000</td>\n",
       "    </tr>\n",
       "    <tr>\n",
       "      <td>mean</td>\n",
       "      <td>0.797698</td>\n",
       "      <td>61.749514</td>\n",
       "      <td>57.456834</td>\n",
       "      <td>3930.993231</td>\n",
       "      <td>5.731627</td>\n",
       "      <td>5.734887</td>\n",
       "      <td>3.540046</td>\n",
       "    </tr>\n",
       "    <tr>\n",
       "      <td>std</td>\n",
       "      <td>0.473795</td>\n",
       "      <td>1.432331</td>\n",
       "      <td>2.234064</td>\n",
       "      <td>3987.280446</td>\n",
       "      <td>1.119423</td>\n",
       "      <td>1.140126</td>\n",
       "      <td>0.702530</td>\n",
       "    </tr>\n",
       "    <tr>\n",
       "      <td>min</td>\n",
       "      <td>0.200000</td>\n",
       "      <td>43.000000</td>\n",
       "      <td>43.000000</td>\n",
       "      <td>326.000000</td>\n",
       "      <td>3.730000</td>\n",
       "      <td>3.680000</td>\n",
       "      <td>1.070000</td>\n",
       "    </tr>\n",
       "    <tr>\n",
       "      <td>25%</td>\n",
       "      <td>0.400000</td>\n",
       "      <td>61.000000</td>\n",
       "      <td>56.000000</td>\n",
       "      <td>949.000000</td>\n",
       "      <td>4.710000</td>\n",
       "      <td>4.720000</td>\n",
       "      <td>2.910000</td>\n",
       "    </tr>\n",
       "    <tr>\n",
       "      <td>50%</td>\n",
       "      <td>0.700000</td>\n",
       "      <td>61.800000</td>\n",
       "      <td>57.000000</td>\n",
       "      <td>2401.000000</td>\n",
       "      <td>5.700000</td>\n",
       "      <td>5.710000</td>\n",
       "      <td>3.530000</td>\n",
       "    </tr>\n",
       "    <tr>\n",
       "      <td>75%</td>\n",
       "      <td>1.040000</td>\n",
       "      <td>62.500000</td>\n",
       "      <td>59.000000</td>\n",
       "      <td>5323.250000</td>\n",
       "      <td>6.540000</td>\n",
       "      <td>6.540000</td>\n",
       "      <td>4.040000</td>\n",
       "    </tr>\n",
       "    <tr>\n",
       "      <td>max</td>\n",
       "      <td>5.010000</td>\n",
       "      <td>79.000000</td>\n",
       "      <td>95.000000</td>\n",
       "      <td>18823.000000</td>\n",
       "      <td>10.740000</td>\n",
       "      <td>58.900000</td>\n",
       "      <td>31.800000</td>\n",
       "    </tr>\n",
       "  </tbody>\n",
       "</table>\n",
       "</div>"
      ],
      "text/plain": [
       "              carat         depth         table         price             x  \\\n",
       "count  53920.000000  53920.000000  53920.000000  53920.000000  53920.000000   \n",
       "mean       0.797698     61.749514     57.456834   3930.993231      5.731627   \n",
       "std        0.473795      1.432331      2.234064   3987.280446      1.119423   \n",
       "min        0.200000     43.000000     43.000000    326.000000      3.730000   \n",
       "25%        0.400000     61.000000     56.000000    949.000000      4.710000   \n",
       "50%        0.700000     61.800000     57.000000   2401.000000      5.700000   \n",
       "75%        1.040000     62.500000     59.000000   5323.250000      6.540000   \n",
       "max        5.010000     79.000000     95.000000  18823.000000     10.740000   \n",
       "\n",
       "                  y             z  \n",
       "count  53920.000000  53920.000000  \n",
       "mean       5.734887      3.540046  \n",
       "std        1.140126      0.702530  \n",
       "min        3.680000      1.070000  \n",
       "25%        4.720000      2.910000  \n",
       "50%        5.710000      3.530000  \n",
       "75%        6.540000      4.040000  \n",
       "max       58.900000     31.800000  "
      ]
     },
     "execution_count": 57,
     "metadata": {},
     "output_type": "execute_result"
    }
   ],
   "source": [
    "data_diamond.describe()"
   ]
  },
  {
   "cell_type": "code",
   "execution_count": 58,
   "metadata": {},
   "outputs": [
    {
     "data": {
      "text/plain": [
       "[Text(0, 0.5, 'carat'),\n",
       " Text(0, 1.5, 'depth'),\n",
       " Text(0, 2.5, 'table'),\n",
       " Text(0, 3.5, 'price'),\n",
       " Text(0, 4.5, 'x'),\n",
       " Text(0, 5.5, 'y'),\n",
       " Text(0, 6.5, 'z')]"
      ]
     },
     "execution_count": 58,
     "metadata": {},
     "output_type": "execute_result"
    },
    {
     "data": {
      "image/png": "[encoded data removed]",
      "text/plain": [
       "<Figure size 1440x720 with 2 Axes>"
      ]
     },
     "metadata": {
      "needs_background": "light"
     },
     "output_type": "display_data"
    }
   ],
   "source": [
    "#ref: https://www.kaggle.com/danielmarrama/diamond-exploratory-analysis-and-visualizations\n",
    "\n",
    "#Provide a correlation heatmap.\n",
    "\n",
    "corr = data_diamond.corr()\n",
    "plt.subplots(figsize=(20, 10))\n",
    "ax = sns.heatmap(corr, vmin=-1, vmax=1, center=0,\n",
    "                 cmap=sns.diverging_palette(20, 220, n=200),\n",
    "                 square=True,annot=True)\n",
    "plt.title(\"Diamond Correlation Heatmap\")\n",
    "\n",
    "ax.set_yticklabels(ax.get_yticklabels(),rotation=0,horizontalalignment='right')"
   ]
  },
  {
   "cell_type": "markdown",
   "metadata": {},
   "source": [
    "What are your conclusions? \n",
    "Explain in a few words what correlation measures.\n",
    "How can correlation affect conclusions about the relationship between two or more variables in regression analysis?\n",
    "\n",
    "\n",
    "Correlation coefficients are measures of association between two (or more) variables. Correlation is a measure of association that tests whether a relationship exists between two variables. It indicates both the strength of the association and its direction (direct or inverse).\n",
    "\n",
    "This applies only for numerical values.\n",
    "\n",
    "#ref: https://web.csulb.edu/~msaintg/ppa696/696corrl.htm\n",
    "\n",
    "Price of the diamond is negatively corelated by the depth of the diamond.\n",
    "\n",
    "Price of the diamond is positively corelated with the carat of the diamond."
   ]
  },
  {
   "cell_type": "code",
   "execution_count": 59,
   "metadata": {},
   "outputs": [],
   "source": [
    "#Use LabelEncoder to create three labels: ‘cut’, ‘color’, and ‘clarity.’\n",
    "\n",
    "label_encoder = preprocessing.LabelEncoder()\n",
    "data_diamond['cut']= label_encoder.fit_transform(data_diamond['cut']) \n",
    "data_diamond['color']=label_encoder.fit_transform(data_diamond['color']) \n",
    "data_diamond['clarity']=label_encoder.fit_transform(data_diamond['clarity']) "
   ]
  },
  {
   "cell_type": "code",
   "execution_count": 60,
   "metadata": {},
   "outputs": [
    {
     "data": {
      "text/plain": [
       "0        2\n",
       "1        3\n",
       "2        1\n",
       "3        3\n",
       "4        1\n",
       "        ..\n",
       "53935    2\n",
       "53936    1\n",
       "53937    4\n",
       "53938    3\n",
       "53939    2\n",
       "Name: cut, Length: 53920, dtype: int32"
      ]
     },
     "execution_count": 60,
     "metadata": {},
     "output_type": "execute_result"
    }
   ],
   "source": [
    "data_diamond['cut']"
   ]
  },
  {
   "cell_type": "code",
   "execution_count": 61,
   "metadata": {},
   "outputs": [
    {
     "data": {
      "text/plain": [
       "0        1\n",
       "1        1\n",
       "2        1\n",
       "3        5\n",
       "4        6\n",
       "        ..\n",
       "53935    0\n",
       "53936    0\n",
       "53937    0\n",
       "53938    4\n",
       "53939    0\n",
       "Name: color, Length: 53920, dtype: int32"
      ]
     },
     "execution_count": 61,
     "metadata": {},
     "output_type": "execute_result"
    }
   ],
   "source": [
    "data_diamond['color']"
   ]
  },
  {
   "cell_type": "code",
   "execution_count": 62,
   "metadata": {},
   "outputs": [
    {
     "data": {
      "text/plain": [
       "0        3\n",
       "1        2\n",
       "2        4\n",
       "3        5\n",
       "4        3\n",
       "        ..\n",
       "53935    2\n",
       "53936    2\n",
       "53937    2\n",
       "53938    3\n",
       "53939    3\n",
       "Name: clarity, Length: 53920, dtype: int32"
      ]
     },
     "execution_count": 62,
     "metadata": {},
     "output_type": "execute_result"
    }
   ],
   "source": [
    "data_diamond['clarity']"
   ]
  },
  {
   "cell_type": "code",
   "execution_count": 63,
   "metadata": {},
   "outputs": [],
   "source": [
    "#Define y as ‘price’ and create a train and test set. The test set represents 20% of the data.\n",
    "\n",
    "x = data_diamond.drop('price',axis=1)\n",
    "y = data_diamond['price']\n",
    "\n",
    "x_train, x_test, y_train, y_test = train_test_split(x, y, test_size=0.2, random_state=0)"
   ]
  },
  {
   "cell_type": "code",
   "execution_count": 64,
   "metadata": {},
   "outputs": [],
   "source": [
    "#Scale the train and test sets using ‘StandardScaler.’\n",
    "\n",
    "sc_X = StandardScaler()\n",
    "numericals =  pd.DataFrame(sc_X.fit_transform(data_diamond[['carat','depth','table','price','x','y','z']]),columns=['carat','depth','table','price','x','y','z'],index=data_diamond.index)"
   ]
  },
  {
   "cell_type": "code",
   "execution_count": 65,
   "metadata": {},
   "outputs": [
    {
     "data": {
      "text/html": [
       "<div>\n",
       "<style scoped>\n",
       "    .dataframe tbody tr th:only-of-type {\n",
       "        vertical-align: middle;\n",
       "    }\n",
       "\n",
       "    .dataframe tbody tr th {\n",
       "        vertical-align: top;\n",
       "    }\n",
       "\n",
       "    .dataframe thead th {\n",
       "        text-align: right;\n",
       "    }\n",
       "</style>\n",
       "<table border=\"1\" class=\"dataframe\">\n",
       "  <thead>\n",
       "    <tr style=\"text-align: right;\">\n",
       "      <th></th>\n",
       "      <th>carat</th>\n",
       "      <th>depth</th>\n",
       "      <th>table</th>\n",
       "      <th>price</th>\n",
       "      <th>x</th>\n",
       "      <th>y</th>\n",
       "      <th>z</th>\n",
       "    </tr>\n",
       "  </thead>\n",
       "  <tbody>\n",
       "    <tr>\n",
       "      <td>0</td>\n",
       "      <td>-1.198204</td>\n",
       "      <td>-0.174203</td>\n",
       "      <td>-1.099725</td>\n",
       "      <td>-0.904132</td>\n",
       "      <td>-1.591573</td>\n",
       "      <td>-1.539219</td>\n",
       "      <td>-1.580084</td>\n",
       "    </tr>\n",
       "    <tr>\n",
       "      <td>1</td>\n",
       "      <td>-1.240417</td>\n",
       "      <td>-1.361090</td>\n",
       "      <td>1.585988</td>\n",
       "      <td>-0.904132</td>\n",
       "      <td>-1.645173</td>\n",
       "      <td>-1.662014</td>\n",
       "      <td>-1.750896</td>\n",
       "    </tr>\n",
       "    <tr>\n",
       "      <td>2</td>\n",
       "      <td>-1.198204</td>\n",
       "      <td>-3.385781</td>\n",
       "      <td>3.376463</td>\n",
       "      <td>-0.903881</td>\n",
       "      <td>-1.502241</td>\n",
       "      <td>-1.460280</td>\n",
       "      <td>-1.750896</td>\n",
       "    </tr>\n",
       "    <tr>\n",
       "      <td>3</td>\n",
       "      <td>-1.071566</td>\n",
       "      <td>0.454149</td>\n",
       "      <td>0.243131</td>\n",
       "      <td>-0.902125</td>\n",
       "      <td>-1.368242</td>\n",
       "      <td>-1.319943</td>\n",
       "      <td>-1.295396</td>\n",
       "    </tr>\n",
       "    <tr>\n",
       "      <td>4</td>\n",
       "      <td>-1.029353</td>\n",
       "      <td>1.082501</td>\n",
       "      <td>0.243131</td>\n",
       "      <td>-0.901875</td>\n",
       "      <td>-1.243176</td>\n",
       "      <td>-1.214690</td>\n",
       "      <td>-1.124583</td>\n",
       "    </tr>\n",
       "  </tbody>\n",
       "</table>\n",
       "</div>"
      ],
      "text/plain": [
       "      carat     depth     table     price         x         y         z\n",
       "0 -1.198204 -0.174203 -1.099725 -0.904132 -1.591573 -1.539219 -1.580084\n",
       "1 -1.240417 -1.361090  1.585988 -0.904132 -1.645173 -1.662014 -1.750896\n",
       "2 -1.198204 -3.385781  3.376463 -0.903881 -1.502241 -1.460280 -1.750896\n",
       "3 -1.071566  0.454149  0.243131 -0.902125 -1.368242 -1.319943 -1.295396\n",
       "4 -1.029353  1.082501  0.243131 -0.901875 -1.243176 -1.214690 -1.124583"
      ]
     },
     "execution_count": 65,
     "metadata": {},
     "output_type": "execute_result"
    }
   ],
   "source": [
    "numericals.head()"
   ]
  },
  {
   "cell_type": "code",
   "execution_count": 66,
   "metadata": {},
   "outputs": [],
   "source": [
    "#Collect the R2_score as R2_Scores = [ ] and the models as models = ['Linear Regression' , 'Lasso Regression' , 'Ridge Regression' , 'RandomForest Regression'] .\n",
    "\n",
    "R2_Scores=[]\n",
    "models = ['Linear Regression' , 'Lasso Regression' , 'Ridge Regression' , 'RandomForest Regression']"
   ]
  },
  {
   "cell_type": "code",
   "execution_count": 67,
   "metadata": {},
   "outputs": [],
   "source": [
    "#Run a linear regression model. Provide the accuracy scores (remember: cv=5.\n",
    "#Determine the MSE, MAE, RMSE, and r2_score for the y_test and y_pred model.\n",
    "\n",
    "\n",
    "linearModel=linear_model.LinearRegression()\n",
    "linearModel.fit(x_train,y_train)\n",
    "linear_y_predict= linearModel.predict(x_test)\n",
    "cv_scores_linreg = cross_val_score(linearModel, x_train, y_train, cv=5)"
   ]
  },
  {
   "cell_type": "code",
   "execution_count": 68,
   "metadata": {},
   "outputs": [
    {
     "name": "stdout",
     "output_type": "stream",
     "text": [
      "Linear Model accuracy: 88.03%\n",
      "Linear Model Mean absolute error: 868.24\n",
      "Linear Model Mean squared error: 1939106.41\n",
      "Linear Model Root Mean squared error: 1392.52\n",
      "Linear Model R Squared: 0.88\n",
      "Accuracy:  [0.86939753 0.88244709 0.89167798 0.8821702  0.88432624]\n"
     ]
    }
   ],
   "source": [
    "print(\"Linear Model accuracy: {:.2f}\".format((linearModel.score(x_test,y_test)*100)) + \"%\")\n",
    "print(\"Linear Model Mean absolute error: {:.2f}\".format(mean_absolute_error(y_test,linear_y_predict)))\n",
    "print(\"Linear Model Mean squared error: {:.2f}\".format(mean_squared_error(y_test,linear_y_predict)))\n",
    "print(\"Linear Model Root Mean squared error: {:.2f}\".format(sqrt(mean_squared_error(y_test,linear_y_predict))))\n",
    "\n",
    "R2_linear = r2_score(y_test,linear_y_predict)\n",
    "print('Linear Model R Squared: {:.2f}'.format(R2_linear))\n",
    "R2_Scores.append('{:.3f}'.format(R2_linear))\n",
    "print('Accuracy: ' ,cv_scores_linreg)"
   ]
  },
  {
   "cell_type": "markdown",
   "metadata": {},
   "source": [
    "Is the model over- or underfitting? Explain.\n",
    "\n",
    "The model is overfitting as the accuracy scores are very close."
   ]
  },
  {
   "cell_type": "code",
   "execution_count": 69,
   "metadata": {},
   "outputs": [
    {
     "name": "stdout",
     "output_type": "stream",
     "text": [
      "Linear Model Mean absolute error: -1089.32\n",
      "Linear Model Mean squared error: -2985923.74\n",
      "Linear Model Root Mean squared error: 1727.98\n",
      "Linear Model R Squared: -2.58\n"
     ]
    }
   ],
   "source": [
    "MAE=cross_val_score(linearModel, x,y,cv=5, scoring='neg_mean_absolute_error')\n",
    "MSE=cross_val_score(linearModel, x,y,cv=5, scoring='neg_mean_squared_error')\n",
    "R2=cross_val_score(linearModel, x,y,cv=5, scoring='r2')\n",
    "\n",
    "print(\"Linear Model Mean absolute error: {:.2f}\".format(MAE.mean()))\n",
    "print(\"Linear Model Mean squared error: {:.2f}\".format(MSE.mean()))\n",
    "print(\"Linear Model Root Mean squared error: {:.2f}\".format(sqrt(abs(MSE.mean()))))\n",
    "print('Linear Model R Squared: {:.2f}'.format(R2.mean()))"
   ]
  },
  {
   "cell_type": "markdown",
   "metadata": {},
   "source": [
    "What is the purpose of cross validation?\n",
    "\n",
    "Cross Validation is used to assess the predictive performance of the models and and to judge how they perform outside the sample to a new data set also known as test data. \n",
    "\n",
    "#ref: https://www.researchgate.net/post/What_is_the_purpose_of_performing_cross-validation"
   ]
  },
  {
   "cell_type": "code",
   "execution_count": 70,
   "metadata": {},
   "outputs": [],
   "source": [
    "#Repeat question 12 for the Lasso model.\n",
    "\n",
    "lassoModel = linear_model.Lasso()\n",
    "lassoModel.fit(x_train, y_train)\n",
    "lasso_y_predict= lassoModel.predict(x_test)"
   ]
  },
  {
   "cell_type": "code",
   "execution_count": 71,
   "metadata": {},
   "outputs": [
    {
     "name": "stdout",
     "output_type": "stream",
     "text": [
      "Lasso Model accuracy: 88.11%\n",
      "Lasso Model Mean absolute error: 869.68\n",
      "Lasso Model Mean squared error: 1925940.09\n",
      "Lasso Model Root Mean squared error: 1387.78\n",
      "Lasso Model R Squared: 0.88\n"
     ]
    }
   ],
   "source": [
    "print(\"Lasso Model accuracy: {:.2f}\".format((lassoModel.score(x_test,y_test)*100)) + \"%\")\n",
    "print(\"Lasso Model Mean absolute error: {:.2f}\".format(mean_absolute_error(y_test,lasso_y_predict)))\n",
    "print(\"Lasso Model Mean squared error: {:.2f}\".format(mean_squared_error(y_test,lasso_y_predict)))\n",
    "print(\"Lasso Model Root Mean squared error: {:.2f}\".format(sqrt(mean_squared_error(y_test,lasso_y_predict))))\n",
    "\n",
    "R2_lasso = r2_score(y_test,lasso_y_predict)\n",
    "print('Lasso Model R Squared: {:.2f}'.format(R2_lasso))\n",
    "R2_Scores.append('{:.3f}'.format(R2_lasso))"
   ]
  },
  {
   "cell_type": "code",
   "execution_count": 72,
   "metadata": {},
   "outputs": [
    {
     "name": "stdout",
     "output_type": "stream",
     "text": [
      "Lasso Model Mean absolute error: -1100.78\n",
      "Lasso Model Mean squared error: -3047120.70\n",
      "Lasso Model Root Mean squared error: 1745.60\n",
      "Lasso Model R Squared: -2.57\n"
     ]
    }
   ],
   "source": [
    "MAE=cross_val_score(lassoModel, x,y,cv=5, scoring='neg_mean_absolute_error')\n",
    "MSE=cross_val_score(lassoModel, x,y,cv=5, scoring='neg_mean_squared_error')\n",
    "R2=cross_val_score(lassoModel, x,y,cv=5, scoring='r2')\n",
    "\n",
    "print(\"Lasso Model Mean absolute error: {:.2f}\".format(MAE.mean()))\n",
    "print(\"Lasso Model Mean squared error: {:.2f}\".format(MSE.mean()))\n",
    "print(\"Lasso Model Root Mean squared error: {:.2f}\".format(sqrt(abs(MSE.mean()))))\n",
    "print('Lasso Model R Squared: {:.2f}'.format(R2.mean()))"
   ]
  },
  {
   "cell_type": "code",
   "execution_count": 73,
   "metadata": {},
   "outputs": [],
   "source": [
    "#Repeat question 12 for the Ridge Regression model.\n",
    "\n",
    "ridgeModel = linear_model.Ridge()\n",
    "ridgeModel.fit(x_train, y_train)\n",
    "ridge_y_predict= ridgeModel.predict(x_test)"
   ]
  },
  {
   "cell_type": "code",
   "execution_count": 74,
   "metadata": {},
   "outputs": [
    {
     "name": "stdout",
     "output_type": "stream",
     "text": [
      "Ridge Model accuracy: 88.03%\n",
      "Ridge Model Mean absolute error: 868.62\n",
      "Ridge Model Mean squared error: 1938920.56\n",
      "Ridge Model Root Mean squared error: 1392.45\n",
      "Ridge Model R Squared: 0.88\n"
     ]
    }
   ],
   "source": [
    "print(\"Ridge Model accuracy: {:.2f}\".format((ridgeModel.score(x_test,y_test)*100)) + \"%\")\n",
    "print(\"Ridge Model Mean absolute error: {:.2f}\".format(mean_absolute_error(y_test,ridge_y_predict)))\n",
    "print(\"Ridge Model Mean squared error: {:.2f}\".format(mean_squared_error(y_test,ridge_y_predict)))\n",
    "print(\"Ridge Model Root Mean squared error: {:.2f}\".format(sqrt(mean_squared_error(y_test,ridge_y_predict))))\n",
    "\n",
    "R2_ridge = r2_score(y_test,ridge_y_predict)\n",
    "print('Ridge Model R Squared: {:.2f}'.format(R2_ridge))\n",
    "R2_Scores.append('{:.3f}'.format(R2_ridge))"
   ]
  },
  {
   "cell_type": "code",
   "execution_count": 75,
   "metadata": {},
   "outputs": [
    {
     "name": "stdout",
     "output_type": "stream",
     "text": [
      "Ridge Model Mean absolute error: -1090.80\n",
      "Ridge Model Mean squared error: -2993771.50\n",
      "Ridge Model Root Mean squared error: 1730.25\n",
      "Ridge Model R Squared: -2.58\n"
     ]
    }
   ],
   "source": [
    "MAE=cross_val_score(ridgeModel, x,y,cv=5, scoring='neg_mean_absolute_error')\n",
    "MSE=cross_val_score(ridgeModel, x,y,cv=5, scoring='neg_mean_squared_error')\n",
    "R2=cross_val_score(ridgeModel, x,y,cv=5, scoring='r2')\n",
    "\n",
    "print(\"Ridge Model Mean absolute error: {:.2f}\".format(MAE.mean()))\n",
    "print(\"Ridge Model Mean squared error: {:.2f}\".format(MSE.mean()))\n",
    "print(\"Ridge Model Root Mean squared error: {:.2f}\".format(sqrt(abs(MSE.mean()))))\n",
    "print(\"Ridge Model R Squared: {:.2f}\".format(R2.mean()))"
   ]
  },
  {
   "cell_type": "code",
   "execution_count": 76,
   "metadata": {},
   "outputs": [],
   "source": [
    "#Repeat question 12 for the Random Forest Regression model.\n",
    "\n",
    "randomForest=RandomForestRegressor()\n",
    "randomForest.fit(x_train, y_train)\n",
    "randomForest_y_predict= randomForest.predict(x_test)"
   ]
  },
  {
   "cell_type": "code",
   "execution_count": 77,
   "metadata": {},
   "outputs": [
    {
     "name": "stdout",
     "output_type": "stream",
     "text": [
      "Random Forest Model accuracy: 98.33%\n",
      "Random Forest Mean absolute error: 262.50\n",
      "Random Forest Mean squared error: 270616.02\n",
      "Random Forest Root Mean squared error: 520.21\n",
      "Random Forest Model R Squared: 0.98\n"
     ]
    }
   ],
   "source": [
    "print(\"Random Forest Model accuracy: {:.2f}\".format((randomForest.score(x_test,y_test)*100)) + \"%\")\n",
    "print(\"Random Forest Mean absolute error: {:.2f}\".format(mean_absolute_error(y_test,randomForest_y_predict)))\n",
    "print(\"Random Forest Mean squared error: {:.2f}\".format(mean_squared_error(y_test,randomForest_y_predict)))\n",
    "print(\"Random Forest Root Mean squared error: {:.2f}\".format(sqrt(mean_squared_error(y_test,randomForest_y_predict))))\n",
    "\n",
    "R2_randomForest = r2_score(y_test,randomForest_y_predict)\n",
    "print('Random Forest Model R Squared: {:.2f}'.format(R2_randomForest))\n",
    "R2_Scores.append('{:.3f}'.format(R2_randomForest))"
   ]
  },
  {
   "cell_type": "code",
   "execution_count": 78,
   "metadata": {},
   "outputs": [
    {
     "name": "stdout",
     "output_type": "stream",
     "text": [
      "Random Forest Model Mean absolute error: -960.07\n",
      "Random Forest Model Mean squared error: -3419253.73\n",
      "Random Forest Model Root Mean squared error: 1849.12\n",
      "Random Forest Model R Squared: 0.28\n"
     ]
    }
   ],
   "source": [
    "MAE=cross_val_score(randomForest, x,y,cv=5, scoring='neg_mean_absolute_error')\n",
    "MSE=cross_val_score(randomForest, x,y,cv=5, scoring='neg_mean_squared_error')\n",
    "R2=cross_val_score(randomForest, x,y,cv=5, scoring='r2')\n",
    "\n",
    "print(\"Random Forest Model Mean absolute error: {:.2f}\".format(MAE.mean()))\n",
    "print(\"Random Forest Model Mean squared error: {:.2f}\".format(MSE.mean()))\n",
    "print(\"Random Forest Model Root Mean squared error: {:.2f}\".format(sqrt(abs(MSE.mean()))))\n",
    "print(\"Random Forest Model R Squared: {:.2f}\".format(R2.mean()))"
   ]
  },
  {
   "cell_type": "markdown",
   "metadata": {},
   "source": [
    "Using GridSearchCV such that\n",
    "\n",
    "no_of_test=[100]\n",
    "\n",
    "params_dict={'n_estimators':no_of_test,'n_jobs':[-1],'max_features':[\"auto\",'sqrt','log2']}\n",
    "\n",
    "determine the Score and R2. Is the outcome different from the model outcomes in question 16?\n",
    "\n"
   ]
  },
  {
   "cell_type": "code",
   "execution_count": 79,
   "metadata": {},
   "outputs": [],
   "source": [
    "no_of_test=[100]\n",
    "params_dict={'n_estimators':no_of_test,'n_jobs':[-1],'max_features':[\"auto\",'sqrt','log2']}\n",
    "gridForest=GridSearchCV(estimator=RandomForestRegressor(), param_grid= params_dict, scoring='r2')"
   ]
  },
  {
   "cell_type": "code",
   "execution_count": 80,
   "metadata": {},
   "outputs": [],
   "source": [
    "gridResult=gridForest.fit(x_train, y_train)"
   ]
  },
  {
   "cell_type": "code",
   "execution_count": 81,
   "metadata": {},
   "outputs": [
    {
     "name": "stdout",
     "output_type": "stream",
     "text": [
      "Grid Forest Score 0.98\n",
      "Grid Forest R squared 0.98\n"
     ]
    }
   ],
   "source": [
    "grid_y_predict=gridForest.predict(x_test)\n",
    "print(\"Grid Forest Score {:.2f}\".format(gridForest.score(x_test,y_test)))\n",
    "print(\"Grid Forest R squared {:.2f}\".format(r2_score(y_test, grid_y_predict)))"
   ]
  },
  {
   "cell_type": "code",
   "execution_count": 82,
   "metadata": {},
   "outputs": [
    {
     "data": {
      "text/html": [
       "<div>\n",
       "<style scoped>\n",
       "    .dataframe tbody tr th:only-of-type {\n",
       "        vertical-align: middle;\n",
       "    }\n",
       "\n",
       "    .dataframe tbody tr th {\n",
       "        vertical-align: top;\n",
       "    }\n",
       "\n",
       "    .dataframe thead th {\n",
       "        text-align: right;\n",
       "    }\n",
       "</style>\n",
       "<table border=\"1\" class=\"dataframe\">\n",
       "  <thead>\n",
       "    <tr style=\"text-align: right;\">\n",
       "      <th></th>\n",
       "      <th>Model</th>\n",
       "      <th>R2_Score</th>\n",
       "    </tr>\n",
       "  </thead>\n",
       "  <tbody>\n",
       "    <tr>\n",
       "      <td>0</td>\n",
       "      <td>Linear Regression</td>\n",
       "      <td>0.880</td>\n",
       "    </tr>\n",
       "    <tr>\n",
       "      <td>1</td>\n",
       "      <td>Lasso Regression</td>\n",
       "      <td>0.881</td>\n",
       "    </tr>\n",
       "    <tr>\n",
       "      <td>2</td>\n",
       "      <td>Ridge Regression</td>\n",
       "      <td>0.880</td>\n",
       "    </tr>\n",
       "    <tr>\n",
       "      <td>3</td>\n",
       "      <td>RandomForest Regression</td>\n",
       "      <td>0.983</td>\n",
       "    </tr>\n",
       "  </tbody>\n",
       "</table>\n",
       "</div>"
      ],
      "text/plain": [
       "                     Model R2_Score\n",
       "0        Linear Regression    0.880\n",
       "1         Lasso Regression    0.881\n",
       "2         Ridge Regression    0.880\n",
       "3  RandomForest Regression    0.983"
      ]
     },
     "execution_count": 82,
     "metadata": {},
     "output_type": "execute_result"
    }
   ],
   "source": [
    "#Provide a table (DataFrame) that compares the R2_Scores from the different models using a data frame.\n",
    "#How do you interpret the coefficient of determination?\n",
    "#What does it represent?\n",
    "\n",
    "dict={'Model':models,'R2_Score': R2_Scores}\n",
    "R2score_df= pd.DataFrame(dict)\n",
    "R2score_df"
   ]
  },
  {
   "cell_type": "code",
   "execution_count": 83,
   "metadata": {},
   "outputs": [
    {
     "data": {
      "image/png": "[encoded data removed]",
      "text/plain": [
       "<Figure size 720x360 with 1 Axes>"
      ]
     },
     "metadata": {
      "needs_background": "light"
     },
     "output_type": "display_data"
    }
   ],
   "source": [
    "#Create a bar plot to show the R2_Scores by model.\n",
    "\n",
    "R2score_df['R2_Score']=R2score_df['R2_Score'].astype('float')\n",
    "f, ax = plt.subplots(figsize=(10,5))\n",
    "sns.barplot(x='Model', y='R2_Score', data=R2score_df)\n",
    "plt.xlabel('Models')\n",
    "plt.ylabel('R squared score')\n",
    "plt.title('R squared values of models')\n",
    "plt.show()"
   ]
  },
  {
   "cell_type": "markdown",
   "metadata": {},
   "source": [
    "How do you think the linear regression model performed?\n",
    "\n",
    "The linear regression model performed with 88.03% accuracy and 0.88 R2_score."
   ]
  },
  {
   "cell_type": "markdown",
   "metadata": {},
   "source": [
    "#Did penalized models perform better than others?\n",
    "#Explain the logic behind Ridge and Lasso regression.\n",
    "#When do you best use Lasso versus Ridge regression?\n",
    "\n",
    "\n",
    "The penalized models i.e. Ridge and Lasso models, performed similar to Linear model with same accuracy and R2_score.\n",
    "\n",
    "Ridge or lasso are forms of regularized linear regressions. The regularization can also be interpreted as prior in a maximum a posteriori estimation method. Under this interpretation, the ridge and the lasso make different assumptions on the class of linear transformation they infer to relate input and output data. In the ridge, the coefficients of the linear transformation are normal distributed and in the lasso they are Laplace distributed. In the lasso, this makes it easier for the coefficients to be zero and therefore easier to eliminate some of your input variable as not contributing to the output.\n",
    "\n",
    "There are also some practical considerations. The ridge is a bit easier to implement and faster to compute, which may matter depending on the type of data you have.\n",
    "\n",
    "If you have both implemented, use subsets of your data to find the ridge and the lasso and compare how well they work on the left out data. The errors should give you an idea of which to use.\n",
    "\n",
    "#ref: https://stats.stackexchange.com/questions/866/when-should-i-use-lasso-vs-ridge"
   ]
  },
  {
   "cell_type": "code",
   "execution_count": null,
   "metadata": {},
   "outputs": [],
   "source": []
  },
  {
   "cell_type": "markdown",
   "metadata": {},
   "source": [
    "## Exercise 5. Time Series [20 points]\n",
    "1. Load the required libraries (pandas, numpy, statsmodels.tsa.seasonal)\n",
    "2. Use the ‘air_passengers.csv’ file for this exercise from the ‘Data Files’ folder. Make sure that ‘index_col’ is ‘Month’ and ‘parse_dates’ is True.\n",
    "3. Use ‘ETS Decomposition’ to separate different components of a time series.\n",
    "4. What is the trend? Is there any seasonality? What are the other components of a time series?\n",
    "5. Provide the autocorrelation plot using ‘pandas.plotting.’ What information does an autocorrelation plot provide?\n",
    "6. Provide the residual plot. What does it say? Are the errors Gaussian and centered to zero or not?\n",
    "7. Provide number of passengers for the predicted and expected values of passengers given the following parameters:\n",
    "\n",
    "def parser(x): \n",
    "\n",
    "    return datetime.strptime('190'+x, '%Y-%m')\n",
    "\n",
    "X = airline.values\n",
    "\n",
    "size = int(len(X) * 0.66)\n",
    "\n",
    "train, test = X[0:size], X[size:len(X)]\n",
    "\n",
    "history = [x for x in train]\n",
    "\n",
    "predictions = list()\n",
    "\n",
    "Use the ARIMA(2,1,2) and remember that the model fit is defined as:\n",
    "\n",
    "model_fit = model.fit(disp=0)\n",
    "\n",
    "What is the MSE for the test data?\n",
    "8. Plot test vs. prediction values."
   ]
  },
  {
   "cell_type": "code",
   "execution_count": 84,
   "metadata": {},
   "outputs": [],
   "source": [
    "#Load the required libraries (pandas, numpy, statsmodels.tsa.seasonal)\n",
    "\n",
    "import pandas as pd\n",
    "import numpy as np\n",
    "from datetime import datetime\n",
    "import matplotlib.pylab as plt \n",
    "from matplotlib import pyplot\n",
    "%matplotlib inline\n",
    "from matplotlib.pylab import rcParams\n",
    "from statsmodels.tsa.seasonal import seasonal_decompose\n",
    "from pandas.plotting import autocorrelation_plot\n",
    "from statsmodels.tsa.arima_model import ARIMA\n",
    "\n",
    "import warnings\n",
    "warnings.filterwarnings('ignore')"
   ]
  },
  {
   "cell_type": "code",
   "execution_count": 85,
   "metadata": {},
   "outputs": [
    {
     "data": {
      "text/html": [
       "<div>\n",
       "<style scoped>\n",
       "    .dataframe tbody tr th:only-of-type {\n",
       "        vertical-align: middle;\n",
       "    }\n",
       "\n",
       "    .dataframe tbody tr th {\n",
       "        vertical-align: top;\n",
       "    }\n",
       "\n",
       "    .dataframe thead th {\n",
       "        text-align: right;\n",
       "    }\n",
       "</style>\n",
       "<table border=\"1\" class=\"dataframe\">\n",
       "  <thead>\n",
       "    <tr style=\"text-align: right;\">\n",
       "      <th></th>\n",
       "      <th>#Passengers</th>\n",
       "    </tr>\n",
       "    <tr>\n",
       "      <th>Month</th>\n",
       "      <th></th>\n",
       "    </tr>\n",
       "  </thead>\n",
       "  <tbody>\n",
       "    <tr>\n",
       "      <td>1949-01-01</td>\n",
       "      <td>112</td>\n",
       "    </tr>\n",
       "    <tr>\n",
       "      <td>1949-02-01</td>\n",
       "      <td>118</td>\n",
       "    </tr>\n",
       "    <tr>\n",
       "      <td>1949-03-01</td>\n",
       "      <td>132</td>\n",
       "    </tr>\n",
       "    <tr>\n",
       "      <td>1949-04-01</td>\n",
       "      <td>129</td>\n",
       "    </tr>\n",
       "    <tr>\n",
       "      <td>1949-05-01</td>\n",
       "      <td>121</td>\n",
       "    </tr>\n",
       "    <tr>\n",
       "      <td>...</td>\n",
       "      <td>...</td>\n",
       "    </tr>\n",
       "    <tr>\n",
       "      <td>1960-08-01</td>\n",
       "      <td>606</td>\n",
       "    </tr>\n",
       "    <tr>\n",
       "      <td>1960-09-01</td>\n",
       "      <td>508</td>\n",
       "    </tr>\n",
       "    <tr>\n",
       "      <td>1960-10-01</td>\n",
       "      <td>461</td>\n",
       "    </tr>\n",
       "    <tr>\n",
       "      <td>1960-11-01</td>\n",
       "      <td>390</td>\n",
       "    </tr>\n",
       "    <tr>\n",
       "      <td>1960-12-01</td>\n",
       "      <td>432</td>\n",
       "    </tr>\n",
       "  </tbody>\n",
       "</table>\n",
       "<p>144 rows × 1 columns</p>\n",
       "</div>"
      ],
      "text/plain": [
       "            #Passengers\n",
       "Month                  \n",
       "1949-01-01          112\n",
       "1949-02-01          118\n",
       "1949-03-01          132\n",
       "1949-04-01          129\n",
       "1949-05-01          121\n",
       "...                 ...\n",
       "1960-08-01          606\n",
       "1960-09-01          508\n",
       "1960-10-01          461\n",
       "1960-11-01          390\n",
       "1960-12-01          432\n",
       "\n",
       "[144 rows x 1 columns]"
      ]
     },
     "execution_count": 85,
     "metadata": {},
     "output_type": "execute_result"
    }
   ],
   "source": [
    "#Use the ‘air_passengers.csv’ file for this exercise from the ‘Data Files’ folder. Make sure that ‘index_col’ is ‘Month’ and ‘parse_dates’ is True.\n",
    "\n",
    "air_passengers = pd.read_csv(\"air_passengers.csv\", sep='\\t', index_col = 'Month', parse_dates = True)\n",
    "air_passengers"
   ]
  },
  {
   "cell_type": "code",
   "execution_count": 86,
   "metadata": {},
   "outputs": [
    {
     "data": {
      "text/html": [
       "<div>\n",
       "<style scoped>\n",
       "    .dataframe tbody tr th:only-of-type {\n",
       "        vertical-align: middle;\n",
       "    }\n",
       "\n",
       "    .dataframe tbody tr th {\n",
       "        vertical-align: top;\n",
       "    }\n",
       "\n",
       "    .dataframe thead th {\n",
       "        text-align: right;\n",
       "    }\n",
       "</style>\n",
       "<table border=\"1\" class=\"dataframe\">\n",
       "  <thead>\n",
       "    <tr style=\"text-align: right;\">\n",
       "      <th></th>\n",
       "      <th>#Passengers</th>\n",
       "    </tr>\n",
       "  </thead>\n",
       "  <tbody>\n",
       "    <tr>\n",
       "      <td>count</td>\n",
       "      <td>144.000000</td>\n",
       "    </tr>\n",
       "    <tr>\n",
       "      <td>mean</td>\n",
       "      <td>280.298611</td>\n",
       "    </tr>\n",
       "    <tr>\n",
       "      <td>std</td>\n",
       "      <td>119.966317</td>\n",
       "    </tr>\n",
       "    <tr>\n",
       "      <td>min</td>\n",
       "      <td>104.000000</td>\n",
       "    </tr>\n",
       "    <tr>\n",
       "      <td>25%</td>\n",
       "      <td>180.000000</td>\n",
       "    </tr>\n",
       "    <tr>\n",
       "      <td>50%</td>\n",
       "      <td>265.500000</td>\n",
       "    </tr>\n",
       "    <tr>\n",
       "      <td>75%</td>\n",
       "      <td>360.500000</td>\n",
       "    </tr>\n",
       "    <tr>\n",
       "      <td>max</td>\n",
       "      <td>622.000000</td>\n",
       "    </tr>\n",
       "  </tbody>\n",
       "</table>\n",
       "</div>"
      ],
      "text/plain": [
       "       #Passengers\n",
       "count   144.000000\n",
       "mean    280.298611\n",
       "std     119.966317\n",
       "min     104.000000\n",
       "25%     180.000000\n",
       "50%     265.500000\n",
       "75%     360.500000\n",
       "max     622.000000"
      ]
     },
     "execution_count": 86,
     "metadata": {},
     "output_type": "execute_result"
    }
   ],
   "source": [
    "air_passengers.describe()"
   ]
  },
  {
   "cell_type": "code",
   "execution_count": 87,
   "metadata": {},
   "outputs": [
    {
     "data": {
      "text/plain": [
       "<matplotlib.axes._subplots.AxesSubplot at 0x1ca0066c188>"
      ]
     },
     "execution_count": 87,
     "metadata": {},
     "output_type": "execute_result"
    },
    {
     "data": {
      "image/png": "[encoded data removed]",
      "text/plain": [
       "<Figure size 432x288 with 1 Axes>"
      ]
     },
     "metadata": {
      "needs_background": "light"
     },
     "output_type": "display_data"
    }
   ],
   "source": [
    "air_passengers.plot()"
   ]
  },
  {
   "cell_type": "code",
   "execution_count": 88,
   "metadata": {
    "scrolled": true
   },
   "outputs": [
    {
     "data": {
      "image/png": "[encoded data removed]",
      "text/plain": [
       "<Figure size 432x288 with 4 Axes>"
      ]
     },
     "metadata": {
      "needs_background": "light"
     },
     "output_type": "display_data"
    }
   ],
   "source": [
    "#ref: http://rstudio-pubs-static.s3.amazonaws.com/311446_08b00d63cc794e158b1f4763eb70d43a.html\n",
    "\n",
    "#Use ‘ETS Decomposition’ to separate different components of a time series.\n",
    "\n",
    "result = seasonal_decompose(air_passengers, model='multiplicative')\n",
    "result.plot()\n",
    "pyplot.show()"
   ]
  },
  {
   "cell_type": "markdown",
   "metadata": {},
   "source": [
    "#ref: https://towardsdatascience.com/trend-seasonality-moving-average-auto-regressive-model-my-journey-to-time-series-data-with-edc4c0c8284b\n",
    "\n",
    "What is the trend?\n",
    "\n",
    "Trend is a general systematic linear or (most often) nonlinear component that changes over time and does not repeat.\n",
    "\n",
    "The trend is upwards.\n",
    "\n",
    "#ref: https://machinelearningmastery.com/time-series-seasonality-with-python/\n",
    "\n",
    "Is there any seasonality?\n",
    "\n",
    "Yes, there is a seasonality.\n",
    "\n",
    "#ref: http://www.businessdictionary.com/definition/time-series.html\n",
    "\n",
    "What are the other components of a time series?\n",
    "\n",
    "The other components of time series are cyclical and random variations.\n"
   ]
  },
  {
   "cell_type": "code",
   "execution_count": 89,
   "metadata": {},
   "outputs": [
    {
     "data": {
      "text/plain": [
       "<matplotlib.axes._subplots.AxesSubplot at 0x1ca006f68c8>"
      ]
     },
     "execution_count": 89,
     "metadata": {},
     "output_type": "execute_result"
    },
    {
     "data": {
      "image/png": "[encoded data removed]",
      "text/plain": [
       "<Figure size 432x288 with 1 Axes>"
      ]
     },
     "metadata": {
      "needs_background": "light"
     },
     "output_type": "display_data"
    }
   ],
   "source": [
    "#Provide the autocorrelation plot using ‘pandas.plotting.’\n",
    "\n",
    "autocorrelation_plot(air_passengers)"
   ]
  },
  {
   "cell_type": "markdown",
   "metadata": {},
   "source": [
    "What information does an autocorrelation plot provide?\n",
    "\n",
    "The plot shows there is a correlation between adjacent and near-adjacent observations and the spikes show that there are some irregularities."
   ]
  },
  {
   "cell_type": "code",
   "execution_count": 90,
   "metadata": {
    "scrolled": true
   },
   "outputs": [
    {
     "data": {
      "image/png": "[encoded data removed]",
      "text/plain": [
       "<Figure size 432x288 with 1 Axes>"
      ]
     },
     "metadata": {
      "needs_background": "light"
     },
     "output_type": "display_data"
    }
   ],
   "source": [
    "#Provide the residual plot.\n",
    "\n",
    "residual = result.resid\n",
    "residual.plot(label ='Residual plot')\n",
    "plt.legend(loc='best')\n",
    "plt.tight_layout()"
   ]
  },
  {
   "cell_type": "code",
   "execution_count": 91,
   "metadata": {},
   "outputs": [
    {
     "data": {
      "text/plain": [
       "<matplotlib.axes._subplots.AxesSubplot at 0x1ca00931d48>"
      ]
     },
     "execution_count": 91,
     "metadata": {},
     "output_type": "execute_result"
    },
    {
     "data": {
      "image/png": "[encoded data removed]",
      "text/plain": [
       "<Figure size 432x288 with 1 Axes>"
      ]
     },
     "metadata": {
      "needs_background": "light"
     },
     "output_type": "display_data"
    }
   ],
   "source": [
    "residual.plot(kind='kde')"
   ]
  },
  {
   "cell_type": "markdown",
   "metadata": {},
   "source": [
    "What does it say? Are the errors Gaussian and centered to zero or not?\n",
    "\n",
    "The Gaussian Errors are not centered to zero."
   ]
  },
  {
   "cell_type": "markdown",
   "metadata": {},
   "source": [
    "Provide number of passengers for the predicted and expected values of passengers given the following parameters:\n",
    "\n",
    "def parser(x): \n",
    "\n",
    "    return datetime.strptime('190'+x, '%Y-%m')\n",
    "\n",
    "X = airline.values\n",
    "\n",
    "size = int(len(X) * 0.66)\n",
    "\n",
    "train, test = X[0:size], X[size:len(X)]\n",
    "\n",
    "history = [x for x in train]\n",
    "\n",
    "predictions = list()\n",
    "\n",
    "Use the ARIMA(2,1,2) and remember that the model fit is defined as:\n",
    "\n",
    "model_fit = model.fit(disp=0)\n",
    "\n",
    "What is the MSE for the test data?"
   ]
  },
  {
   "cell_type": "code",
   "execution_count": 92,
   "metadata": {
    "scrolled": true
   },
   "outputs": [
    {
     "name": "stdout",
     "output_type": "stream",
     "text": [
      "predicted=273.192217 expected=306.000000\n",
      "predicted=323.304239 expected=315.000000\n",
      "predicted=343.633285 expected=301.000000\n",
      "predicted=312.742976 expected=356.000000\n",
      "predicted=369.700789 expected=348.000000\n",
      "predicted=328.559872 expected=355.000000\n",
      "predicted=366.861843 expected=422.000000\n",
      "predicted=412.660370 expected=465.000000\n",
      "predicted=444.620397 expected=467.000000\n",
      "predicted=439.273061 expected=404.000000\n",
      "predicted=372.179290 expected=347.000000\n",
      "predicted=346.717785 expected=305.000000\n",
      "predicted=291.934449 expected=336.000000\n",
      "predicted=344.104115 expected=340.000000\n",
      "predicted=362.245037 expected=318.000000\n",
      "predicted=335.319965 expected=362.000000\n",
      "predicted=380.575316 expected=348.000000\n",
      "predicted=339.977988 expected=363.000000\n",
      "predicted=385.826855 expected=435.000000\n",
      "predicted=433.258460 expected=491.000000\n",
      "predicted=478.351986 expected=505.000000\n",
      "predicted=474.553970 expected=404.000000\n",
      "predicted=367.687076 expected=359.000000\n",
      "predicted=386.043766 expected=310.000000\n",
      "predicted=300.551813 expected=337.000000\n",
      "predicted=342.709355 expected=360.000000\n",
      "predicted=374.434518 expected=342.000000\n",
      "predicted=368.418722 expected=406.000000\n",
      "predicted=427.293746 expected=396.000000\n",
      "predicted=416.580545 expected=420.000000\n",
      "predicted=431.952098 expected=472.000000\n",
      "predicted=465.574628 expected=548.000000\n",
      "predicted=516.133982 expected=559.000000\n",
      "predicted=522.641191 expected=463.000000\n",
      "predicted=407.122839 expected=407.000000\n",
      "predicted=367.581871 expected=362.000000\n",
      "predicted=349.941728 expected=405.000000\n",
      "predicted=415.817672 expected=417.000000\n",
      "predicted=443.407933 expected=391.000000\n",
      "predicted=432.877391 expected=419.000000\n",
      "predicted=467.788309 expected=461.000000\n",
      "predicted=505.289428 expected=472.000000\n",
      "predicted=505.208498 expected=535.000000\n",
      "predicted=548.677908 expected=622.000000\n",
      "predicted=603.231959 expected=606.000000\n",
      "predicted=560.792792 expected=508.000000\n",
      "predicted=458.409104 expected=461.000000\n",
      "predicted=419.508814 expected=390.000000\n",
      "predicted=373.834564 expected=432.000000\n"
     ]
    }
   ],
   "source": [
    "#ref: https://machinelearningmastery.com/make-manual-predictions-arima-models-python/\n",
    "\n",
    "X = air_passengers.values\n",
    "size = int(len(X) * 0.66)\n",
    "train, test = X[0:size], X[size:len(X)]\n",
    "history = [x for x in train]\n",
    "predictions = list()\n",
    "\n",
    "for i in range(len(test)):\n",
    "    model=ARIMA(history,order=(2,1,2))\n",
    "    model_fit=model.fit(disp=0)\n",
    "    output=model_fit.forecast()\n",
    "    pred=output[0]\n",
    "    predictions.append(pred)\n",
    "    obs=test[i]\n",
    "    history.append(obs)\n",
    "    print('predicted=%f expected=%f' % (pred,obs))"
   ]
  },
  {
   "cell_type": "code",
   "execution_count": 93,
   "metadata": {},
   "outputs": [
    {
     "name": "stdout",
     "output_type": "stream",
     "text": [
      "ARIMA MSE: 1607.596 \n"
     ]
    }
   ],
   "source": [
    "#What is the MSE for the test data?\n",
    "\n",
    "print('ARIMA MSE: {:.3f} '.format(mean_squared_error(test,predictions)))"
   ]
  },
  {
   "cell_type": "code",
   "execution_count": 94,
   "metadata": {},
   "outputs": [
    {
     "name": "stdout",
     "output_type": "stream",
     "text": [
      "                             ARIMA Model Results                              \n",
      "==============================================================================\n",
      "Dep. Variable:          D.#Passengers   No. Observations:                  143\n",
      "Model:                 ARIMA(2, 1, 2)   Log Likelihood                -666.022\n",
      "Method:                       css-mle   S.D. of innovations             24.710\n",
      "Date:                Sun, 05 Apr 2020   AIC                           1344.043\n",
      "Time:                        17:18:50   BIC                           1361.820\n",
      "Sample:                    02-01-1949   HQIC                          1351.267\n",
      "                         - 12-01-1960                                         \n",
      "=======================================================================================\n",
      "                          coef    std err          z      P>|z|      [0.025      0.975]\n",
      "---------------------------------------------------------------------------------------\n",
      "const                   2.5310      0.708      3.574      0.000       1.143       3.919\n",
      "ar.L1.D.#Passengers     1.6477      0.033     49.933      0.000       1.583       1.712\n",
      "ar.L2.D.#Passengers    -0.9094      0.033    -27.880      0.000      -0.973      -0.845\n",
      "ma.L1.D.#Passengers    -1.9101      0.065    -29.535      0.000      -2.037      -1.783\n",
      "ma.L2.D.#Passengers     1.0000      0.068     14.810      0.000       0.868       1.132\n",
      "                                    Roots                                    \n",
      "=============================================================================\n",
      "                  Real          Imaginary           Modulus         Frequency\n",
      "-----------------------------------------------------------------------------\n",
      "AR.1            0.9059           -0.5281j            1.0486           -0.0840\n",
      "AR.2            0.9059           +0.5281j            1.0486            0.0840\n",
      "MA.1            0.9551           -0.2964j            1.0000           -0.0479\n",
      "MA.2            0.9551           +0.2964j            1.0000            0.0479\n",
      "-----------------------------------------------------------------------------\n"
     ]
    }
   ],
   "source": [
    "model=ARIMA(air_passengers,order=(2,1,2))\n",
    "model_fit=model.fit(disp=0)\n",
    "print(model_fit.summary())"
   ]
  },
  {
   "cell_type": "code",
   "execution_count": 95,
   "metadata": {},
   "outputs": [
    {
     "data": {
      "image/png": "[encoded data removed]",
      "text/plain": [
       "<Figure size 432x288 with 1 Axes>"
      ]
     },
     "metadata": {
      "needs_background": "light"
     },
     "output_type": "display_data"
    }
   ],
   "source": [
    "#Plot test vs. prediction values.\n",
    "\n",
    "plt.plot(predictions,color='red')\n",
    "plt.plot(test,color='blue')\n",
    "plt.xlabel('Index')\n",
    "plt.ylabel('Value')\n",
    "figsize=(20,15)"
   ]
  },
  {
   "cell_type": "code",
   "execution_count": null,
   "metadata": {},
   "outputs": [],
   "source": []
  }
 ],
 "metadata": {
  "kernelspec": {
   "display_name": "Python 3",
   "language": "python",
   "name": "python3"
  },
  "language_info": {
   "codemirror_mode": {
    "name": "ipython",
    "version": 3
   },
   "file_extension": ".py",
   "mimetype": "text/x-python",
   "name": "python",
   "nbconvert_exporter": "python",
   "pygments_lexer": "ipython3",
   "version": "3.7.4"
  }
 },
 "nbformat": 4,
 "nbformat_minor": 2
}
